{
 "cells": [
  {
   "cell_type": "markdown",
   "metadata": {},
   "source": [
    "<img src=\"http://imgur.com/1ZcRyrc.png\" style=\"float: left; margin: 20px; height: 55px\">\n",
    "\n",
    "\n",
    "# Error Messages and Debugging"
   ]
  },
  {
   "cell_type": "markdown",
   "metadata": {},
   "source": [
    "---\n",
    "## LEARNING OBJECTIVES:\n",
    "**By the end of this lesson, you will be able to:**  \n",
    "- List two types of errors\n",
    "- Understand how to read common error messages\n",
    "- Begin understanding how to fix errors in your Python code"
   ]
  },
  {
   "cell_type": "markdown",
   "metadata": {},
   "source": [
    "---\n",
    "## Introduction"
   ]
  },
  {
   "cell_type": "markdown",
   "metadata": {},
   "source": [
    "There are (at least) two distinguishable kinds of errors: **syntax errors** and **exceptions**\n",
    "\n",
    "**Activity** Take a moment to read below on syntax errors and exceptions, taken from the [python documentation](https://docs.python.org/3/tutorial/errors.html) - after 3 minutes write some differences between a syntax error and an exception on the white board. \n",
    "\n",
    "#### Syntax Errors:\n",
    "Syntax errors, also known as parsing errors, are perhaps the most common kind of complaint you get while you are still learning Python:\n",
    "\n",
    "``` python\n",
    "while True print('Hello world')\n",
    "  File \"<stdin>\", line 1\n",
    "    while True print('Hello world')\n",
    "                   ^\n",
    "SyntaxError: invalid syntax\n",
    "```\n",
    "\n",
    "The parser repeats the offending line and displays a little 'arrow pointing' at the earliest point in the line where the error was detected. The error is caused by (or at least detected at) the token **preceding** the arrow: in the example, the error is detected at the function print(), since a colon (':') is missing before it. File name and line number are printed so you know where to look in case the input came from a script."
   ]
  },
  {
   "cell_type": "markdown",
   "metadata": {},
   "source": [
    "#### Exceptions \n",
    "\n",
    "Even if a statement or expression is syntactically correct, it may cause an error when an attempt is made to execute it. Errors detected during execution are called *exceptions* and are not unconditionally fatal: you will soon learn how to handle them in Python programs. Most exceptions are not handled by programs, however, and result in error messages as shown here:\n",
    "``` python \n",
    ">>> 10 * (1/0)\n",
    "Traceback (most recent call last):\n",
    "  File \"<stdin>\", line 1, in <module>\n",
    "ZeroDivisionError: division by zero\n",
    ">>> 4 + spam*3\n",
    "Traceback (most recent call last):\n",
    "  File \"<stdin>\", line 1, in <module>\n",
    "NameError: name 'spam' is not defined\n",
    ">>> '2' + 2\n",
    "Traceback (most recent call last):\n",
    "  File \"<stdin>\", line 1, in <module>\n",
    "TypeError: Cant convert 'int' object to str implicitly\n",
    "```"
   ]
  },
  {
   "cell_type": "markdown",
   "metadata": {},
   "source": [
    "---\n",
    "## Error Practice"
   ]
  },
  {
   "cell_type": "code",
   "execution_count": 3,
   "metadata": {},
   "outputs": [
    {
     "ename": "SyntaxError",
     "evalue": "Missing parentheses in call to 'print'. Did you mean print(\"Hi,\" name)? (<ipython-input-3-93fa76b00003>, line 3)",
     "output_type": "error",
     "traceback": [
      "\u001b[0;36m  File \u001b[0;32m\"<ipython-input-3-93fa76b00003>\"\u001b[0;36m, line \u001b[0;32m3\u001b[0m\n\u001b[0;31m    print \"Hi,\" name\u001b[0m\n\u001b[0m              ^\u001b[0m\n\u001b[0;31mSyntaxError\u001b[0m\u001b[0;31m:\u001b[0m Missing parentheses in call to 'print'. Did you mean print(\"Hi,\" name)?\n"
     ]
    }
   ],
   "source": [
    "# run this code:\n",
    "name = input(\"What is your name? \")\n",
    "print \"Hi,\" name\n",
    "\n",
    "### Python is trying to help you - look at that helpful message!"
   ]
  },
  {
   "cell_type": "code",
   "execution_count": null,
   "metadata": {},
   "outputs": [],
   "source": [
    "# now fix the code:\n",
    "name = input(\"What is your name? \")\n",
    "print \"Hi,\" name"
   ]
  },
  {
   "cell_type": "markdown",
   "metadata": {},
   "source": [
    "---"
   ]
  },
  {
   "cell_type": "code",
   "execution_count": 4,
   "metadata": {
    "scrolled": true
   },
   "outputs": [
    {
     "ename": "SyntaxError",
     "evalue": "invalid syntax (<ipython-input-4-c7a0a5b70c6d>, line 3)",
     "output_type": "error",
     "traceback": [
      "\u001b[0;36m  File \u001b[0;32m\"<ipython-input-4-c7a0a5b70c6d>\"\u001b[0;36m, line \u001b[0;32m3\u001b[0m\n\u001b[0;31m    print(my_dict)\u001b[0m\n\u001b[0m        ^\u001b[0m\n\u001b[0;31mSyntaxError\u001b[0m\u001b[0;31m:\u001b[0m invalid syntax\n"
     ]
    }
   ],
   "source": [
    "# run this code:\n",
    "my_dict = {'key_a':0, 'key_b':1,  'key_c':2\n",
    "print(my_dict)\n",
    "          }"
   ]
  },
  {
   "cell_type": "code",
   "execution_count": 5,
   "metadata": {},
   "outputs": [
    {
     "name": "stdout",
     "output_type": "stream",
     "text": [
      "{'key_a': 0, 'key_b': 1, 'key_c': 2}\n"
     ]
    }
   ],
   "source": [
    "# now fix the code:\n",
    "my_dict = {'key_a':0, 'key_b':1,  'key_c':2\n",
    "print(my_dict)\n",
    "          }"
   ]
  },
  {
   "cell_type": "markdown",
   "metadata": {},
   "source": [
    "---\n",
    "Note with the below syntax error we are missing a comma on line **5**, but python points to \n",
    "``` python \n",
    "d:60 \n",
    "    ``` \n",
    "and line **6** because the offending token is always **preceding** the arrow"
   ]
  },
  {
   "cell_type": "code",
   "execution_count": null,
   "metadata": {},
   "outputs": [],
   "source": [
    "# run this code:\n",
    "my_dict2 = {\n",
    "    'a':12,\n",
    "    'b':30,\n",
    "    'c':40\n",
    "    'd':60\n",
    "}\n",
    "\n",
    "for key, value in my_dict2.items():\n",
    "    print(key)"
   ]
  },
  {
   "cell_type": "code",
   "execution_count": null,
   "metadata": {},
   "outputs": [],
   "source": [
    "# now fix the code:\n",
    "my_dict2 = {\n",
    "    'a':12,\n",
    "    'b':30,\n",
    "    'c':40\n",
    "    'd':60 \n",
    "}\n",
    "\n",
    "for key, value in my_dict2.items():\n",
    "    print(key)"
   ]
  },
  {
   "cell_type": "markdown",
   "metadata": {},
   "source": [
    "---"
   ]
  },
  {
   "cell_type": "code",
   "execution_count": null,
   "metadata": {},
   "outputs": [],
   "source": [
    "# run this code:\n",
    "def my_func(x)\n",
    "    if x >= 30:\n",
    "    print(x)\n",
    "    else\n",
    "        print(\"Less than 30\")"
   ]
  },
  {
   "cell_type": "code",
   "execution_count": null,
   "metadata": {},
   "outputs": [],
   "source": [
    "# now fix the code:\n",
    "def my_func(x)\n",
    "    if x >= 30:\n",
    "    print(x)\n",
    "    else\n",
    "        print(\"Less than 30\")"
   ]
  },
  {
   "cell_type": "markdown",
   "metadata": {},
   "source": [
    "---"
   ]
  },
  {
   "cell_type": "code",
   "execution_count": null,
   "metadata": {},
   "outputs": [],
   "source": [
    "## Be careful with default arguments\n",
    "\n",
    "# run this code:\n",
    "def my_func2(a, b=5, c):\n",
    "    return a+b+c"
   ]
  },
  {
   "cell_type": "code",
   "execution_count": null,
   "metadata": {},
   "outputs": [],
   "source": [
    "# now fix the code:\n",
    "def my_func2(a, b=5, c):\n",
    "    return a+b+c"
   ]
  },
  {
   "cell_type": "markdown",
   "metadata": {},
   "source": [
    "---"
   ]
  },
  {
   "cell_type": "code",
   "execution_count": null,
   "metadata": {
    "scrolled": false
   },
   "outputs": [],
   "source": [
    "# run this code:\n",
    "for i in range(10):\n",
    "print(f\"The number you are looking for is {i}\")"
   ]
  },
  {
   "cell_type": "code",
   "execution_count": null,
   "metadata": {},
   "outputs": [],
   "source": [
    "# now fix the code:\n",
    "for i in range(10):\n",
    "print(f\"The number you are looking for is {i}\")"
   ]
  },
  {
   "cell_type": "markdown",
   "metadata": {},
   "source": [
    "---\n",
    "Often errors are caused by forgetting to run an import statement or forgetting to define a variable."
   ]
  },
  {
   "cell_type": "code",
   "execution_count": null,
   "metadata": {},
   "outputs": [],
   "source": [
    "# run this code:\n",
    "math.sqrt(9)"
   ]
  },
  {
   "cell_type": "code",
   "execution_count": null,
   "metadata": {},
   "outputs": [],
   "source": [
    "# now fix the code:\n",
    "\n",
    "#import math\n",
    "math.sqrt(9)"
   ]
  },
  {
   "cell_type": "markdown",
   "metadata": {},
   "source": [
    "---\n",
    "Errors can often be caused by a mis-spelling - this is a where using tab will make a **huge** difference"
   ]
  },
  {
   "cell_type": "code",
   "execution_count": null,
   "metadata": {
    "scrolled": true
   },
   "outputs": [],
   "source": [
    "# run this code:\n",
    "import numy as np"
   ]
  },
  {
   "cell_type": "code",
   "execution_count": null,
   "metadata": {},
   "outputs": [],
   "source": [
    "# now fix the code:\n",
    "import numy as np"
   ]
  },
  {
   "cell_type": "code",
   "execution_count": null,
   "metadata": {},
   "outputs": [],
   "source": [
    "# run this code:\n",
    "my_list = ['apple', 'banana', 'kiwi']\n",
    "\n",
    "for item in my_lst:\n",
    "    print(item)"
   ]
  },
  {
   "cell_type": "code",
   "execution_count": null,
   "metadata": {},
   "outputs": [],
   "source": [
    "# now fix the code:\n",
    "my_list = ['apple', 'banana', 'kiwi']\n",
    "\n",
    "for item in my_lst:\n",
    "    print(item)"
   ]
  },
  {
   "cell_type": "markdown",
   "metadata": {},
   "source": [
    "**Let's focus on debugging - take a second to debug the code blocks in the next few cells. How can the error messages help you solve the issue?**"
   ]
  },
  {
   "cell_type": "code",
   "execution_count": null,
   "metadata": {
    "scrolled": true
   },
   "outputs": [],
   "source": [
    "# run this code:\n",
    "## code block 1 - why are we getting this type error? \n",
    "x = '23' \n",
    "\n",
    "int(x)\n",
    "\n",
    "x+ 50"
   ]
  },
  {
   "cell_type": "code",
   "execution_count": null,
   "metadata": {},
   "outputs": [],
   "source": [
    "# now fix the code:\n",
    "x = '23' \n",
    "\n",
    "int(x)\n",
    "\n",
    "x+ 50"
   ]
  },
  {
   "cell_type": "markdown",
   "metadata": {},
   "source": [
    "---"
   ]
  },
  {
   "cell_type": "code",
   "execution_count": null,
   "metadata": {},
   "outputs": [],
   "source": [
    "# run this code:\n",
    "## code block 2\n",
    "import numpy as np\n",
    "\n",
    "x = [i for i in range(1,4)]\n",
    "y = [2,3,4,5]\n",
    "\n",
    "n_x = np.asarray(x)\n",
    "n_y = np.asarray(y)\n",
    "\n",
    "n_x * n_y"
   ]
  },
  {
   "cell_type": "code",
   "execution_count": null,
   "metadata": {},
   "outputs": [],
   "source": [
    "# now fix the code:\n",
    "import numpy as np\n",
    "\n",
    "x = [i for i in range(1,4)]\n",
    "y = [2,3,4,5]\n",
    "\n",
    "n_x = np.asarray(x)\n",
    "n_y = np.asarray(y)\n",
    "\n",
    "n_x * n_y"
   ]
  },
  {
   "cell_type": "markdown",
   "metadata": {},
   "source": [
    "---"
   ]
  },
  {
   "cell_type": "code",
   "execution_count": null,
   "metadata": {
    "scrolled": true
   },
   "outputs": [],
   "source": [
    "# run this code:\n",
    "my_dict = {'key_a':0, 'key_b':1, 'key_c':2}\n",
    "\n",
    "my_dict['keya']"
   ]
  },
  {
   "cell_type": "code",
   "execution_count": null,
   "metadata": {},
   "outputs": [],
   "source": [
    "# now fix the code:\n",
    "my_dict = {'key_a':0, 'key_b':1, 'key_c':2}\n",
    "\n",
    "my_dict['keya']"
   ]
  },
  {
   "cell_type": "markdown",
   "metadata": {},
   "source": [
    "**Here a message is provided to use by the people who coded the pandas library - you will want to learn these as quickly as possible!**\n",
    "\n",
    "This specific error is a `FileNotFoundError` - which is written by the authors of the pandas library. Make sure to always read and try and uderstand the errors of the main libraries we'll be working with. Pandas, Sci-kit Learn, Numpy etc.  "
   ]
  },
  {
   "cell_type": "code",
   "execution_count": null,
   "metadata": {
    "scrolled": true
   },
   "outputs": [],
   "source": [
    "# run this code:\n",
    "import pandas as pd \n",
    "pd.read_csv('~/example/path')"
   ]
  },
  {
   "cell_type": "code",
   "execution_count": null,
   "metadata": {},
   "outputs": [],
   "source": [
    "# now fix the code (hint: look at filename in the data folder):\n",
    "import pandas as pd \n",
    "pd.read_csv('~/example/path')"
   ]
  },
  {
   "cell_type": "markdown",
   "metadata": {},
   "source": [
    "---\n",
    "## Depreciation Warnings\n",
    "\n",
    "When considering the now or immediate future, depreciation warnings cause no issues as they do not prevent you from performing anything.\n",
    "\n",
    "However, they are to indicate that one day in the future this will not work the same."
   ]
  },
  {
   "cell_type": "markdown",
   "metadata": {},
   "source": [
    "Read the documentation [here](https://docs.python.org/2/library/exceptions.html#exceptions.DeprecationWarning) for info about deprication warnings."
   ]
  },
  {
   "cell_type": "markdown",
   "metadata": {},
   "source": [
    "---\n",
    "## Group Practice\n",
    "To the slides!"
   ]
  },
  {
   "cell_type": "markdown",
   "metadata": {},
   "source": [
    "---\n",
    "## Debugging - individual practice\n",
    "[Code source](https://humanitiesprogramming.github.io/exercises/python-debugging/)\n",
    "\n",
    "**Instructions: Debug the following code. When you are successful, your output should look similar to this:**   \n",
    "Input exam grade one: 85  \n",
    "Input exam grade two: 94  \n",
    "Input exam grade three: 78  \n",
    "Exam: 85  \n",
    "Exam: 94  \n",
    "Exam: 78  \n",
    "Average: 85.66666666666667  \n",
    "Grade: B  \n",
    "Student is passing."
   ]
  },
  {
   "cell_type": "code",
   "execution_count": null,
   "metadata": {},
   "outputs": [],
   "source": [
    "# Calculating Grades \n",
    "# Write a program that will average 3 numeric exam grades, \n",
    "# return an average test score, a corresponding letter grade, \n",
    "# and a message stating whether the student is passing.\n",
    "\n",
    "# Average\tGrade\n",
    "# 90+\tA\n",
    "# 80-89\tB\n",
    "# 70-79\tC\n",
    "# 60-69\tD\n",
    "# 0-59\tF\n",
    "\n",
    "# Exams: 89, 90, 90\n",
    "# Average: 90\n",
    "# Grade: A\n",
    "# Student is passing.\n",
    "\n",
    "# Exams: 50, 51, 0\n",
    "# Average: 33\n",
    "# Grade: F\n",
    "# Student is failing.\n",
    "\n",
    "exam_one = int(input(\"Input exam grade one: \"))\n",
    "\n",
    "exam_two = input(\"Input exam grade two: \"))\n",
    "\n",
    "exam_3 = str(input(\"Input exam grade three: \"))\n",
    "\n",
    "grades = [exam_one exam_two exam_three]\n",
    "sum = 0\n",
    "for grade in grade:\n",
    "  sum = sum + grade\n",
    "\n",
    "avg = sum / len(grdes)\n",
    "\n",
    "if avg >= 90:\n",
    "    letter_grade = \"A\"\n",
    "elif avg >= 80 and avg < 90\n",
    "    letter_grade = \"B\"\n",
    "elif avg > 69 and avg < 80:\n",
    "    letter_grade = \"C'\n",
    "elif avg <= 69 and avg >= 65:\n",
    "    letter_grade = \"D\"\n",
    "elif:\n",
    "    letter_grade = \"F\"\n",
    "\n",
    "for grade in grades:\n",
    "    print(\"Exam: \" + str(grade))\n",
    "\n",
    "    print(\"Average: \" + str(avg))\n",
    "\n",
    "    print(\"Grade: \" + letter_grade)\n",
    "\n",
    "if letter-grade is \"F\":\n",
    "    print \"Student is failing.\"\n",
    "else:\n",
    "    print \"Student is passing.\""
   ]
  },
  {
   "cell_type": "markdown",
   "metadata": {},
   "source": [
    "---\n",
    "### Key Takeaways\n",
    "\n",
    "- **USE TAB** not only to save you time, but to avoid spelling errors in your code\n",
    "- The last line in the code contains the type of error - start at the bottom of your error message first! \n",
    "- Utilize the iPython environment to debug, make sure each variable actually is the value you think it is\n",
    "- The faster you learn the types of error messages, the faster you'll get back to coding"
   ]
  }
 ],
 "metadata": {
  "kernelspec": {
   "display_name": "Python 3",
   "language": "python",
   "name": "python3"
  },
  "language_info": {
   "codemirror_mode": {
    "name": "ipython",
    "version": 3
   },
   "file_extension": ".py",
   "mimetype": "text/x-python",
   "name": "python",
   "nbconvert_exporter": "python",
   "pygments_lexer": "ipython3",
   "version": "3.7.4"
  },
  "toc": {
   "base_numbering": 1,
   "nav_menu": {},
   "number_sections": false,
   "sideBar": true,
   "skip_h1_title": false,
   "title_cell": "Table of Contents",
   "title_sidebar": "Contents",
   "toc_cell": false,
   "toc_position": {},
   "toc_section_display": true,
   "toc_window_display": true
  },
  "varInspector": {
   "cols": {
    "lenName": 16,
    "lenType": 16,
    "lenVar": 40
   },
   "kernels_config": {
    "python": {
     "delete_cmd_postfix": "",
     "delete_cmd_prefix": "del ",
     "library": "var_list.py",
     "varRefreshCmd": "print(var_dic_list())"
    },
    "r": {
     "delete_cmd_postfix": ") ",
     "delete_cmd_prefix": "rm(",
     "library": "var_list.r",
     "varRefreshCmd": "cat(var_dic_list()) "
    }
   },
   "types_to_exclude": [
    "module",
    "function",
    "builtin_function_or_method",
    "instance",
    "_Feature"
   ],
   "window_display": false
  }
 },
 "nbformat": 4,
 "nbformat_minor": 2
}
