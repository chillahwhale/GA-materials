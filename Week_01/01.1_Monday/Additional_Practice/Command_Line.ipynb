{
 "cells": [
  {
   "cell_type": "markdown",
   "metadata": {
    "slideshow": {
     "slide_type": "slide"
    }
   },
   "source": [
    "# ![](https://ga-dash.s3.amazonaws.com/production/assets/logo-9f88ae6c9c3871690e33280fcf557f33.png) Intro to the Command Line\n",
    "Week 1 | Lesson 1\n",
    "\n",
    "### LEARNING OBJECTIVES\n",
    "*After this lesson, you will be able to:*\n",
    "- Interact with your machine via the Command Line Interface (Terminal)\n",
    "- Create folders and files using the command line\n",
    "- Change directories and list directory contents\n",
    "- Check current working directory"
   ]
  },
  {
   "cell_type": "markdown",
   "metadata": {
    "slideshow": {
     "slide_type": "slide"
    }
   },
   "source": [
    "## STUDENT PRE-WORK\n",
    "*Before this lesson, you should already be able to:*\n",
    "- Open the terminal\n",
    "\n",
    "### Opening & Closing Terminal\n",
    "\n",
    "First, we need to launch the command prompt. We can do this by using spotlight:\n",
    "\n",
    "- ⌘ (Command) + Space\n",
    "  - This will open 'Spotlight search'\n",
    "- Type Terminal\n",
    "- Press Enter"
   ]
  },
  {
   "cell_type": "markdown",
   "metadata": {
    "slideshow": {
     "slide_type": "slide"
    }
   },
   "source": [
    "### QUESTIONS ARE ENCOURAGED!\n",
    "- I want this to be a more like a guided discussion as opposed to a lecture."
   ]
  },
  {
   "cell_type": "markdown",
   "metadata": {
    "slideshow": {
     "slide_type": "notes"
    }
   },
   "source": [
    "___"
   ]
  },
  {
   "cell_type": "markdown",
   "metadata": {
    "slideshow": {
     "slide_type": "slide"
    }
   },
   "source": [
    "[1]: http://mally.stanford.edu/~sr/computing/basic-unix.html    \"UNIX\"\n",
    "\n",
    "<!---\n",
    "### LESSON GUIDE\n",
    "| TIMING  | TYPE  | TOPIC  |\n",
    "|:-:|---|---|\n",
    "| 5 min  | [Introduction](#introduction1)   | What is a shell?   |\n",
    "| 5 min  | [Guided Practice](#demo1)  | Forget Finder, get fast at using your laptop  |\n",
    "| 5 min  | [Introduction](#introduction2)  | Paths and Directories |\n",
    "| 5 min  | [Guided Practice](#demo2)  | Using the Command Line  |\n",
    "| 5 min  | [Conclusion](#conclusion)  | Checks for Understanding and Q&A |\n",
    "--->\n",
    "\n",
    "<a name=\"introduction1\"></a>\n",
    "##  Command Line Interface (CLI) vs GUI\n",
    "\n",
    "\n",
    "There was a point when computers didn't come with a Graphical User Interface (GUI). Instead, everyone interacted with the computer using text commands in what we call a Command Line Interface (CLI).\n",
    "\n",
    "![Dos](https://upload.wikimedia.org/wikipedia/commons/9/94/FreeDOS_Beta_9_pre-release5_%28command_line_interface%29_on_Bochs_sshot20040912.png)\n",
    "*Image from Wikimedia*\n",
    "\n",
    "Today, the command line still exists, even though you may have never seen it as a casual computer user. Knowing some basic CLI commands is useful.\n",
    "\n",
    "**Check:** What is a GUI? What is a CLI?"
   ]
  },
  {
   "cell_type": "markdown",
   "metadata": {
    "slideshow": {
     "slide_type": "notes"
    }
   },
   "source": [
    "___"
   ]
  },
  {
   "cell_type": "markdown",
   "metadata": {
    "slideshow": {
     "slide_type": "slide"
    }
   },
   "source": [
    "### Getting Comfortable\n",
    "\n",
    "1. For many programs, you can open multiple tabs by pressing **⌘-T**.\n",
    "  - Try it in your terminal!\n",
    "2. If you have a process running, you can quit it by pressing **Ctrl-C**. Let's try that now.\n",
    "  - At the command line, type `ping 127.0.0.1`. This basically sends a message to your own computer asking if it's awake.\n",
    "  - Notice that it will keep pinging, even if you type something.\n",
    "  - To stop the currently-running script, press **Ctrl-C**.  \n",
    "3. To repeat the last command used, push the up key.\n",
    "\n",
    "4. You can close the current tab or window with **⌘-W**. This goes for most applications on a Mac.\n",
    "  - Try _that_ in your terminal!\n",
    "5. To quit the command line altogether, you can press **⌘-Q**.\n",
    "\n",
    "[Here](http://ss64.com/nt/syntax-keyboard.html) are some equivalent Windows shortcuts.\n",
    "\n",
    "**Check:**  Everyone feel  comfortable with these? If not, make a note to yourself to try them out again at break time. "
   ]
  },
  {
   "cell_type": "markdown",
   "metadata": {
    "slideshow": {
     "slide_type": "notes"
    }
   },
   "source": [
    "___"
   ]
  },
  {
   "cell_type": "markdown",
   "metadata": {
    "slideshow": {
     "slide_type": "slide"
    }
   },
   "source": [
    "<a name=\"introduction2\"></a>\n",
    "\n",
    "## Paths and Directories - Introduction\n",
    "\n",
    "Every file or folder in a file system can be read, written, and deleted by referencing its position inside the filesystem. When we talk about the position of a file or a folder in a file system, we refer to its \"path\". There are a couple of different kinds of paths we can use to refer to a file – **absolute paths** and **relative paths**.\n",
    "\n",
    "*Directory* is an important term that's used interchangeably with *folder*. Though they are not exactly the same thing, when we say \"navigate to your project directory\" think of this as \"navigate to your project folder\".  Here's a little more information:\n",
    "\n",
    "_Strictly speaking, there is a difference between a directory which is a file system concept, and the graphical user interface metaphor that is used to represent it (a folder)...If one is referring to a container of documents, the term folder is more appropriate. The term directory refers to the way a structured list of document files and folders is stored on the computer. It is comparable to a telephone directory that contains lists of names, numbers and addresses and does not contain the actual documents themselves._\n",
    "\n",
    "*Taken from [Close-To-Open Cache Consistency in the Linux NFS Client](http://www.citi.umich.edu/projects/nfs-perf/results/cel/dnlc.html)*"
   ]
  },
  {
   "cell_type": "markdown",
   "metadata": {
    "slideshow": {
     "slide_type": "notes"
    }
   },
   "source": [
    "___"
   ]
  },
  {
   "cell_type": "markdown",
   "metadata": {
    "slideshow": {
     "slide_type": "slide"
    }
   },
   "source": [
    "### What is an absolute path?\n",
    "\n",
    "An absolute path is defined as the specific location of a file or folder from the root directory, typically shown as `/`. The root directory is the starting point from which all other folders are defined and is not normally the same as your **Home** directory, which is normally found at `/Users/[Your Username]`.\n",
    "\n",
    "An example of absolute path:\n",
    "\n",
    "```bash\n",
    "open /Users/You/desktop/a/b/c/file.txt\n",
    "```\n",
    "\n",
    "Notice, this path starts from `/` directory which is a root directory for every Linux/Unix machines.\n",
    "\n",
    "To see the absolute path to our working directory, we can type `pwd` in terminal"
   ]
  },
  {
   "cell_type": "markdown",
   "metadata": {
    "slideshow": {
     "slide_type": "notes"
    }
   },
   "source": [
    "___"
   ]
  },
  {
   "cell_type": "markdown",
   "metadata": {
    "slideshow": {
     "slide_type": "slide"
    }
   },
   "source": [
    "### What is a relative path?\n",
    "\n",
    "A relative path is a reference to a file or folder **relative** to the current position, or the present working directory(pwd). If we are in the folder `/a/b/` and we want to open the file that has the absolute path `/a/b/c/file.txt`, we can just type:\n",
    "\n",
    "```bash\n",
    "open c/file.txt\n",
    "```\n",
    "\n",
    "or\n",
    "\n",
    "```bash\n",
    "open ./c/file.txt\n",
    "```\n",
    "\n",
    "At any time, we can also use the absolute path, by adding a slash to the beginning of the path. The absolute path is the same for a file or a folder regardless of the current working directory, but relative paths are different, depending on what directory we are in.  Directory structures are laid out like `directory/subdirectory/subsubdirectory`.\n",
    "\n",
    "**Check:**  What is the difference between an absolute path and a relative path?"
   ]
  },
  {
   "cell_type": "markdown",
   "metadata": {
    "slideshow": {
     "slide_type": "notes"
    }
   },
   "source": [
    "___"
   ]
  },
  {
   "cell_type": "markdown",
   "metadata": {
    "slideshow": {
     "slide_type": "slide"
    }
   },
   "source": [
    "<a name=\"demo2\"></a>\n",
    "#### Working with unix commands and file paths\n",
    "\n",
    "### Navigating using the command prompt\n",
    "\n",
    "Typing `cd` - a command for \"change directory\" with no parameters takes us to our home directory.\n",
    "\n",
    "```bash\n",
    "cd\n",
    "```\n",
    "\n",
    "The `cd` command needs to know what directory we want to change to. We have to give it an absolute or a relative path to follow.\n",
    "\n",
    "Example: `cd /Users/You/desktop/a/b/c/`"
   ]
  },
  {
   "cell_type": "markdown",
   "metadata": {
    "slideshow": {
     "slide_type": "subslide"
    }
   },
   "source": [
    "The `ls` (list segments) command lists files and directories in the current folder.\n",
    "```bash\n",
    "ls\n",
    "```\n",
    "\n",
    "It can also be used to list files located in any directory. For example to list\n",
    "your applications you can type:\n",
    "```bash\n",
    "ls /Applications\n",
    "```"
   ]
  },
  {
   "cell_type": "markdown",
   "metadata": {
    "slideshow": {
     "slide_type": "subslide"
    }
   },
   "source": [
    "If we type in `pwd` - a command for \"print working directory\" from that folder, we can see where we are in relation to the root directory. The `pwd` command will always give you the absolute path of your current location.\n",
    "\n",
    "**Practice**: take 5 minutes to try navigating around your computer using the `cd` command in terminal."
   ]
  },
  {
   "cell_type": "markdown",
   "metadata": {
    "slideshow": {
     "slide_type": "-"
    }
   },
   "source": [
    "___"
   ]
  },
  {
   "cell_type": "markdown",
   "metadata": {
    "slideshow": {
     "slide_type": "slide"
    }
   },
   "source": [
    "# 1. Navigate to your Desktop"
   ]
  },
  {
   "cell_type": "markdown",
   "metadata": {
    "slideshow": {
     "slide_type": "subslide"
    }
   },
   "source": [
    "To make a new directory.\n",
    "```bash\n",
    "mkdir folder\n",
    "```\n",
    "\n",
    "To create a new file.\n",
    "```bash\n",
    "touch file1\n",
    "```\n",
    "\n",
    "To create and edit a new file.\n",
    "```bash\n",
    "nano file1\n",
    "```\n",
    "\n",
    "**Note**: When creating a file, you'll likely have to specify a [filename extension](https://en.wikipedia.org/wiki/Filename_extension). A filename extension indicates what the file type is so that programs know how to interact with it.\n",
    "\n",
    "![](https://21cif.com/tutorials/micro/mm/formats/images/file_extension.gif)"
   ]
  },
  {
   "cell_type": "markdown",
   "metadata": {
    "slideshow": {
     "slide_type": "subslide"
    }
   },
   "source": [
    "# 2. Create a new directory called \"example_folder\" on your Desktop."
   ]
  },
  {
   "cell_type": "markdown",
   "metadata": {
    "slideshow": {
     "slide_type": "subslide"
    }
   },
   "source": [
    "# 3. Navigate into the directory you just made."
   ]
  },
  {
   "cell_type": "markdown",
   "metadata": {
    "slideshow": {
     "slide_type": "subslide"
    }
   },
   "source": [
    "# 4. Create a file inside this directory called \"file1.txt\"."
   ]
  },
  {
   "cell_type": "markdown",
   "metadata": {
    "slideshow": {
     "slide_type": "subslide"
    }
   },
   "source": [
    "To remove a file.\n",
    "\n",
    "```bash\n",
    "rm file1\n",
    "```\n",
    "\n",
    "To remove an empty directory.\n",
    "```bash\n",
    "rmdir directory_name\n",
    "```\n",
    "\n",
    "**DANGER**: To remove a directory with files in it\n",
    "\n",
    "```bash\n",
    "rm -rf directory_name\n",
    "```\n",
    "\n",
    "> Be very careful when using `rm` and `rm -rf`. These commands DO NOT move files to trash, they delete them permanently. Especially early on, be extremely careful in making sure that you are deleting exactly what you intend to."
   ]
  },
  {
   "cell_type": "markdown",
   "metadata": {
    "slideshow": {
     "slide_type": "subslide"
    }
   },
   "source": [
    "# 5. Remove \"file1.txt\" from your folder."
   ]
  },
  {
   "cell_type": "markdown",
   "metadata": {
    "slideshow": {
     "slide_type": "subslide"
    }
   },
   "source": [
    "# 6. Delete the directory \"example_folder\"."
   ]
  },
  {
   "cell_type": "markdown",
   "metadata": {
    "slideshow": {
     "slide_type": "-"
    }
   },
   "source": [
    "___"
   ]
  },
  {
   "cell_type": "markdown",
   "metadata": {
    "slideshow": {
     "slide_type": "slide"
    }
   },
   "source": [
    "### Using tilde (~) as a shortcut\n",
    "\n",
    "The tilde `~` character is an alias to your home (for our purposes, root) directory. Use it to quickly return home.\n",
    "\n",
    "```bash\n",
    "cd ~/\n",
    "```\n",
    "\n",
    "Or even more simply, you can just type:\n",
    "\n",
    "```bash\n",
    "cd\n",
    "```\n",
    "\n",
    "The tilde `~` character is useful to shorten paths that would otherwise be\n",
    "absolute paths. For example, to navigate to your Desktop you can type:\n",
    "\n",
    "```bash\n",
    "cd ~/Desktop\n",
    "```"
   ]
  },
  {
   "cell_type": "markdown",
   "metadata": {
    "slideshow": {
     "slide_type": "-"
    }
   },
   "source": [
    "___"
   ]
  },
  {
   "cell_type": "markdown",
   "metadata": {
    "slideshow": {
     "slide_type": "skip"
    }
   },
   "source": [
    "### Using wildcards in the command prompt\n",
    "\n",
    "The wildcard symbol `*` is useful for using commands to operate on multiple\n",
    "files. To give an example first create a folder on your Desktop and add some\n",
    "files.\n",
    "```bash\n",
    "mkdir ~/Desktop/example_folder\n",
    "cd ~/Desktop/example_folder\n",
    "touch cat.txt\n",
    "touch dog.txt\n",
    "touch bird.txt\n",
    "touch fish.txt\n",
    "```\n",
    "\n",
    "You can use the wildcard `*` to then operate on subsets of files. List any\n",
    "file with \"i\" in the filename, for example:\n",
    "```bash\n",
    "ls *i*\n",
    "```\n",
    "\n",
    "Or remove any file with \"d\":\n",
    "```bash\n",
    "rm *d*\n",
    "ls\n",
    "```\n",
    "\n",
    "**Check:**  What's a quick way to get back to your home directory?"
   ]
  },
  {
   "cell_type": "markdown",
   "metadata": {
    "slideshow": {
     "slide_type": "skip"
    }
   },
   "source": [
    "## Bonus: Options aka Flags\n",
    "\n",
    "Commands in bash can be modified with 'flags' or 'options' (the terms are interchangable).\n",
    "\n",
    "An example of a flag:\n",
    "\n",
    "```bash\n",
    "ls -a\n",
    "```\n",
    "\n",
    "Here, the `-a` flag is modifying the command `ls` to show all files, including hidden ones."
   ]
  },
  {
   "cell_type": "markdown",
   "metadata": {
    "slideshow": {
     "slide_type": "skip"
    }
   },
   "source": [
    "<a name=\"independent practice\"></a>\n",
    "## Independent Practice: Topic (10 minutes)\n",
    "\n",
    "\n",
    "Do the following:\n",
    "1. Create a new terminal window and navigate to your Desktop  \n",
    "2. Write `ls` and hit enter. What does this show?  \n",
    "3. Create a new directory called \"animals\"\n",
    "4. Create at least 3 files inside your \"animal\" folder called \"cat.txt\", \"dog.txt\", and \"bird.txt\"\n",
    "5. Write `ls` and hit enter. What does this show now?  \n",
    "6. Delete at least one of your files inside this directory. What will it show if you type `ls` now?  \n",
    "\n",
    "If you want a refresher / deeper dive into command line and bash check out [this](http://generalassembly.github.io/prework/cl/#/) online GA workshop on command line."
   ]
  },
  {
   "cell_type": "markdown",
   "metadata": {
    "slideshow": {
     "slide_type": "-"
    }
   },
   "source": [
    "___"
   ]
  },
  {
   "cell_type": "markdown",
   "metadata": {
    "slideshow": {
     "slide_type": "slide"
    }
   },
   "source": [
    "<a name=\"conclusion\"></a>\n",
    "## Conclusion\t\t \n",
    "Today we learned about the CLI commands `mkdir`, `touch`, `cd`, `pwd`, `ls`, and `rm`. We also discussed absolute and relative paths.\n",
    "\n",
    "Let's review our learning objectives:\n",
    "- Interact with your machine via the Command Line Interface (Terminal)\n",
    "- Create folders and files using the command line\n",
    "- Change directories and list directory contents\n",
    "- Check current working directory\n",
    "\n",
    "Take a breather and then keep practicing. The more you practice the more comfortable you'll get!"
   ]
  },
  {
   "cell_type": "markdown",
   "metadata": {
    "slideshow": {
     "slide_type": "-"
    }
   },
   "source": [
    "___"
   ]
  },
  {
   "cell_type": "markdown",
   "metadata": {
    "slideshow": {
     "slide_type": "skip"
    }
   },
   "source": [
    "## Extra Practice\n",
    "\n",
    "This [tutorial](http://generalassembly.github.io/prework/cl/#/) offered by GA is an excellent overview of what we covered today.\n",
    "\n",
    "Datacamp has an [excellent course on shell](https://www.datacamp.com/courses/introduction-to-shell-for-data-science)."
   ]
  }
 ],
 "metadata": {
  "celltoolbar": "Slideshow",
  "kernelspec": {
   "display_name": "Python 3",
   "language": "python",
   "name": "python3"
  },
  "language_info": {
   "codemirror_mode": {
    "name": "ipython",
    "version": 3
   },
   "file_extension": ".py",
   "mimetype": "text/x-python",
   "name": "python",
   "nbconvert_exporter": "python",
   "pygments_lexer": "ipython3",
   "version": "3.7.4"
  }
 },
 "nbformat": 4,
 "nbformat_minor": 2
}
