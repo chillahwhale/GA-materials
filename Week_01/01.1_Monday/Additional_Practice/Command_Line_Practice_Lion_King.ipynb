{
 "cells": [
  {
   "cell_type": "markdown",
   "metadata": {},
   "source": [
    "# The Lion King (CLI)\n",
    "-----------------------------\n",
    "Let's get some practice with some basic Command Line Interface commands. See how far you can get with this exercise before we move on!\n",
    "\n",
    "## Cheatsheet\n",
    "- **pwd** - Print working directory\n",
    "- **ls FILE_PATH** - Lists all files and directories in the working (current) directory\n",
    "- **cd DIRECTORY_NAME** - Change directories\n",
    "- **mv FILE_PATH NEW_FILE_PATH** - Move a file or folder\n",
    "- **mkdir DIRECTORY_NAME** - Create a directory\n",
    "- **touch FILE_NAME** - Create a new file\n",
    "\n",
    "## Exercise\n",
    "For this exercise, create a directory called **thelionking** on your desktop and cd into it. Everything below goes inside of it.\n",
    "- Create a directory called **pridelands** in **thelionking**\n",
    "  - A. Change directories into **pridelands**\n",
    "  - B. Create files **mufassa.txt**, **scar.txt**, **simba.html**, and **rafiki.js** in the **pridelands** directory\n",
    "- Create a directory called **elephantgraveyard** in **thelionking**\n",
    "  - A. Add a file named **hyenas.txt** to the **elephantgraveyard**\n",
    "  - B. Move **simba.html** to the **elephantgraveyard**\n",
    "  - C. Move **mufassa.txt** to the **elephantgraveyard**\n",
    "- Create a directory named **thegorge** in the **thelionking**\n",
    "  - A. Move **hyenas.txt** to **thegorge**\n",
    "  - B. Move **simba.html** and **scar.txt** to **thegorge**\n",
    "  - C. Create a file named **stampede.md**\n",
    "  - D. Move **mufassa.txt** to **thegorge**\n",
    "  - E. Delete **stampede.md**\n",
    "  - F. Delete **mufassa.txt**\n",
    "  - G. Move **scar.txt** and **hyenas.txt** to **pridelands**\n",
    "- Create a directory named **thejungle** in **thelionking**\n",
    "  - A. Copy **simba.html** from **thegorge** to **thejungle**\n",
    "  - B. Create files named **timon.txt** and **pumba.css** in **thejungle** directory\n",
    "  - C. Rename the **simba.html** copy to **matthewbrodericksimba.txt**\n",
    "  - D. Delete **simba.html** from **thegorge**\n",
    "  - E. Delete **thegorge**\n",
    "  - F. Move **rafiki.js** to **thejungle**\n",
    "  - G. Move **matthewbrodericksimba.txt**, **timon.txt**, **pumba.css**, and **rafiki.js** to **pridelands**\n",
    "  - H. Delete directory **thejungle**\n",
    "  - I. Delete **scar.txt**\n",
    "  - J. Add file **circleoflife.txt** to **pridelands**\n"
   ]
  }
 ],
 "metadata": {
  "kernelspec": {
   "display_name": "Python 3",
   "language": "python",
   "name": "python3"
  },
  "language_info": {
   "codemirror_mode": {
    "name": "ipython",
    "version": 3
   },
   "file_extension": ".py",
   "mimetype": "text/x-python",
   "name": "python",
   "nbconvert_exporter": "python",
   "pygments_lexer": "ipython3",
   "version": "3.7.4"
  },
  "varInspector": {
   "cols": {
    "lenName": 16,
    "lenType": 16,
    "lenVar": 40
   },
   "kernels_config": {
    "python": {
     "delete_cmd_postfix": "",
     "delete_cmd_prefix": "del ",
     "library": "var_list.py",
     "varRefreshCmd": "print(var_dic_list())"
    },
    "r": {
     "delete_cmd_postfix": ") ",
     "delete_cmd_prefix": "rm(",
     "library": "var_list.r",
     "varRefreshCmd": "cat(var_dic_list()) "
    }
   },
   "types_to_exclude": [
    "module",
    "function",
    "builtin_function_or_method",
    "instance",
    "_Feature"
   ],
   "window_display": false
  }
 },
 "nbformat": 4,
 "nbformat_minor": 2
}
