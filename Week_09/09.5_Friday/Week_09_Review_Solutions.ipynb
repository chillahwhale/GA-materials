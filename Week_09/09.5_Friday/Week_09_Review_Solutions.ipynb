{
 "cells": [
  {
   "cell_type": "markdown",
   "metadata": {},
   "source": [
    "<img src=\"http://imgur.com/1ZcRyrc.png\" style=\"float: left; margin: 15px; height: 80px\">\n",
    "\n",
    "# Week 9 Review - Solutions\n",
    "\n",
    " _**Author:** Noelle B. (DSI-DEN)_\n",
    "\n",
    "---\n",
    "We will review the learning objectives of each lesson this week and answer questions related to them."
   ]
  },
  {
   "cell_type": "markdown",
   "metadata": {},
   "source": [
    "---\n",
    "## 8.07 Word Vectors"
   ]
  },
  {
   "cell_type": "markdown",
   "metadata": {},
   "source": [
    "### Describe vector"
   ]
  },
  {
   "cell_type": "markdown",
   "metadata": {},
   "source": [
    "**Q1.** What is a word vector?"
   ]
  },
  {
   "cell_type": "markdown",
   "metadata": {},
   "source": [
    "> **Answer:**  \n",
    "A word vector is a way to represent a word using a vector in space. Vectors capture the magnitude and direction, which allows similar words to have similar magnitudes or directions."
   ]
  },
  {
   "cell_type": "markdown",
   "metadata": {},
   "source": [
    "### Use Word2Vec & Describe why word vectors are superior to other word embeddings"
   ]
  },
  {
   "cell_type": "markdown",
   "metadata": {},
   "source": [
    "**Q2.** Describe why word embeddings are sometimes superior to other word vectors."
   ]
  },
  {
   "cell_type": "markdown",
   "metadata": {},
   "source": [
    "> **Answer:** \n",
    "Word embeddings can capture the similarities between words using words that are often used together to understand the similarities between them. This allows more meaning to be discovered in the text vs. treating each word as independent."
   ]
  },
  {
   "cell_type": "markdown",
   "metadata": {},
   "source": [
    "---\n",
    "## 9.01 Intro to Time Series"
   ]
  },
  {
   "cell_type": "markdown",
   "metadata": {},
   "source": [
    "### Understand how to turn the date into the index"
   ]
  },
  {
   "cell_type": "markdown",
   "metadata": {},
   "source": [
    "**Q3.** Import the bus dataset. Turn the date into the index (make sure the date is a datetime object)."
   ]
  },
  {
   "cell_type": "code",
   "execution_count": 1,
   "metadata": {},
   "outputs": [
    {
     "data": {
      "text/html": [
       "<div>\n",
       "<style scoped>\n",
       "    .dataframe tbody tr th:only-of-type {\n",
       "        vertical-align: middle;\n",
       "    }\n",
       "\n",
       "    .dataframe tbody tr th {\n",
       "        vertical-align: top;\n",
       "    }\n",
       "\n",
       "    .dataframe thead th {\n",
       "        text-align: right;\n",
       "    }\n",
       "</style>\n",
       "<table border=\"1\" class=\"dataframe\">\n",
       "  <thead>\n",
       "    <tr style=\"text-align: right;\">\n",
       "      <th></th>\n",
       "      <th>date</th>\n",
       "      <th>bus_ridership</th>\n",
       "    </tr>\n",
       "  </thead>\n",
       "  <tbody>\n",
       "    <tr>\n",
       "      <th>0</th>\n",
       "      <td>1973-01-01</td>\n",
       "      <td>648</td>\n",
       "    </tr>\n",
       "    <tr>\n",
       "      <th>1</th>\n",
       "      <td>1973-02-01</td>\n",
       "      <td>646</td>\n",
       "    </tr>\n",
       "    <tr>\n",
       "      <th>2</th>\n",
       "      <td>1973-03-02</td>\n",
       "      <td>639</td>\n",
       "    </tr>\n",
       "    <tr>\n",
       "      <th>3</th>\n",
       "      <td>1973-04-02</td>\n",
       "      <td>654</td>\n",
       "    </tr>\n",
       "    <tr>\n",
       "      <th>4</th>\n",
       "      <td>1973-05-02</td>\n",
       "      <td>630</td>\n",
       "    </tr>\n",
       "  </tbody>\n",
       "</table>\n",
       "</div>"
      ],
      "text/plain": [
       "         date  bus_ridership\n",
       "0  1973-01-01            648\n",
       "1  1973-02-01            646\n",
       "2  1973-03-02            639\n",
       "3  1973-04-02            654\n",
       "4  1973-05-02            630"
      ]
     },
     "execution_count": 1,
     "metadata": {},
     "output_type": "execute_result"
    }
   ],
   "source": [
    "import pandas as pd\n",
    "\n",
    "bus = pd.read_csv('data/bus.csv')\n",
    "bus.head()"
   ]
  },
  {
   "cell_type": "code",
   "execution_count": 2,
   "metadata": {},
   "outputs": [
    {
     "data": {
      "text/html": [
       "<div>\n",
       "<style scoped>\n",
       "    .dataframe tbody tr th:only-of-type {\n",
       "        vertical-align: middle;\n",
       "    }\n",
       "\n",
       "    .dataframe tbody tr th {\n",
       "        vertical-align: top;\n",
       "    }\n",
       "\n",
       "    .dataframe thead th {\n",
       "        text-align: right;\n",
       "    }\n",
       "</style>\n",
       "<table border=\"1\" class=\"dataframe\">\n",
       "  <thead>\n",
       "    <tr style=\"text-align: right;\">\n",
       "      <th></th>\n",
       "      <th>bus_ridership</th>\n",
       "    </tr>\n",
       "    <tr>\n",
       "      <th>date</th>\n",
       "      <th></th>\n",
       "    </tr>\n",
       "  </thead>\n",
       "  <tbody>\n",
       "    <tr>\n",
       "      <th>1973-01-01</th>\n",
       "      <td>648</td>\n",
       "    </tr>\n",
       "    <tr>\n",
       "      <th>1973-02-01</th>\n",
       "      <td>646</td>\n",
       "    </tr>\n",
       "    <tr>\n",
       "      <th>1973-03-02</th>\n",
       "      <td>639</td>\n",
       "    </tr>\n",
       "    <tr>\n",
       "      <th>1973-04-02</th>\n",
       "      <td>654</td>\n",
       "    </tr>\n",
       "    <tr>\n",
       "      <th>1973-05-02</th>\n",
       "      <td>630</td>\n",
       "    </tr>\n",
       "  </tbody>\n",
       "</table>\n",
       "</div>"
      ],
      "text/plain": [
       "            bus_ridership\n",
       "date                     \n",
       "1973-01-01            648\n",
       "1973-02-01            646\n",
       "1973-03-02            639\n",
       "1973-04-02            654\n",
       "1973-05-02            630"
      ]
     },
     "execution_count": 2,
     "metadata": {},
     "output_type": "execute_result"
    }
   ],
   "source": [
    "# Answer:\n",
    "# convert date into datetime objects\n",
    "bus['date'] = pd.to_datetime(bus['date'])\n",
    "# change index of dataframe to the date\n",
    "bus = bus.set_index('date')\n",
    "bus.head()"
   ]
  },
  {
   "cell_type": "markdown",
   "metadata": {},
   "source": [
    "### Understand and implement the following pandas methods:\n",
    "    - `.rolling()`\n",
    "    - `.diff()`\n",
    "    - `.pct_change()`\n",
    "    - `.shift()`"
   ]
  },
  {
   "cell_type": "markdown",
   "metadata": {},
   "source": [
    "**Q4.** What does the `.rolling()` pandas method do?"
   ]
  },
  {
   "cell_type": "markdown",
   "metadata": {},
   "source": [
    "> **Answer:**  \n",
    "Allows for rolling statistics (ie. \"I want the average of the past 7 days' ridership\")\n",
    "- **`window`** : the \"length\" or the period of the window\n",
    "- **`min_periods=None`** : Min number of observations in a window\n",
    "- **`win_type=None`** : Type of window"
   ]
  },
  {
   "cell_type": "markdown",
   "metadata": {},
   "source": [
    "**Q5.** What does the `.diff()` pandas method do?"
   ]
  },
  {
   "cell_type": "markdown",
   "metadata": {},
   "source": [
    "> **Answer:**  \n",
    "The literal subtraction between day x and the period specified\n",
    "- **`periods`** : With what time before you subtract from\n",
    "    - `periods = 1` : Subtracting from previous day\n",
    "    - `periods = 7` : Subtracting from exactly 7 days ago"
   ]
  },
  {
   "cell_type": "markdown",
   "metadata": {},
   "source": [
    "**Q6.** What does the `.pct_change()` pandas method do?"
   ]
  },
  {
   "cell_type": "markdown",
   "metadata": {},
   "source": [
    "> **Answer:**  \n",
    "Percent change for the period specified"
   ]
  },
  {
   "cell_type": "markdown",
   "metadata": {},
   "source": [
    "**Q7.** What does the `.shift()` pandas method do?"
   ]
  },
  {
   "cell_type": "markdown",
   "metadata": {},
   "source": [
    "> **Answer:**    \n",
    "Just shifts the days down by specified period"
   ]
  },
  {
   "cell_type": "markdown",
   "metadata": {},
   "source": [
    "---\n",
    "## 9.02 Linear Time Series Modeling"
   ]
  },
  {
   "cell_type": "markdown",
   "metadata": {},
   "source": [
    "### Define forecasting."
   ]
  },
  {
   "cell_type": "markdown",
   "metadata": {},
   "source": [
    "**Q8.** Describe forecasting and some of its challenges."
   ]
  },
  {
   "cell_type": "markdown",
   "metadata": {},
   "source": [
    "> **Answer:**  \n",
    "Predicting a future estimate for a target variable  \n",
    "Some challenges:\n",
    "    - As we forecast farther out, accuracy starkly decreases\n",
    "    - Changes will be compounded in future forecasts\n",
    "    - Is the data available, and how much?"
   ]
  },
  {
   "cell_type": "markdown",
   "metadata": {},
   "source": [
    "### Define and identify trend and seasonality in time series data."
   ]
  },
  {
   "cell_type": "markdown",
   "metadata": {},
   "source": [
    "**Q9.** Define `Trend`."
   ]
  },
  {
   "cell_type": "markdown",
   "metadata": {},
   "source": [
    "> **Answer:**  \n",
    "patterns over time, long-term changes; most trends are linear or quadratic"
   ]
  },
  {
   "cell_type": "markdown",
   "metadata": {},
   "source": [
    "**Q10.** Define `Seasonality`."
   ]
  },
  {
   "cell_type": "markdown",
   "metadata": {},
   "source": [
    "> **Answer:**  \n",
    "fluctuations over a \"fixed and known\" interval"
   ]
  },
  {
   "cell_type": "markdown",
   "metadata": {},
   "source": [
    "### Define and calculate autocorrelation manually."
   ]
  },
  {
   "cell_type": "markdown",
   "metadata": {},
   "source": [
    "**Q11.** Manually calculate the autocorrelation with 1, 2, and 3 lags for the bus data."
   ]
  },
  {
   "cell_type": "code",
   "execution_count": 14,
   "metadata": {},
   "outputs": [],
   "source": [
    "# imports\n",
    "import pandas as pd\n",
    "import numpy as np\n",
    "\n",
    "bus = pd.read_csv('data/bus.csv')\n",
    "\n",
    "# reset bus dataframe\n",
    "bus = bus[['bus_ridership']]\n",
    "\n",
    "# Specify frequency for data\n",
    "bus.index = pd.date_range('1/1/1973', # start date is January 1, 1973\n",
    "                               periods=len(bus.index), # we want one period per entry\n",
    "                               freq='M') # frequency in months"
   ]
  },
  {
   "cell_type": "code",
   "execution_count": 15,
   "metadata": {},
   "outputs": [
    {
     "data": {
      "text/html": [
       "<div>\n",
       "<style scoped>\n",
       "    .dataframe tbody tr th:only-of-type {\n",
       "        vertical-align: middle;\n",
       "    }\n",
       "\n",
       "    .dataframe tbody tr th {\n",
       "        vertical-align: top;\n",
       "    }\n",
       "\n",
       "    .dataframe thead th {\n",
       "        text-align: right;\n",
       "    }\n",
       "</style>\n",
       "<table border=\"1\" class=\"dataframe\">\n",
       "  <thead>\n",
       "    <tr style=\"text-align: right;\">\n",
       "      <th></th>\n",
       "      <th>bus_ridership</th>\n",
       "      <th>bus_lag_1</th>\n",
       "      <th>bus_lag_2</th>\n",
       "      <th>bus_lag_3</th>\n",
       "    </tr>\n",
       "  </thead>\n",
       "  <tbody>\n",
       "    <tr>\n",
       "      <th>bus_ridership</th>\n",
       "      <td>1.000000</td>\n",
       "      <td>0.977840</td>\n",
       "      <td>0.957902</td>\n",
       "      <td>0.948207</td>\n",
       "    </tr>\n",
       "    <tr>\n",
       "      <th>bus_lag_1</th>\n",
       "      <td>0.977840</td>\n",
       "      <td>1.000000</td>\n",
       "      <td>0.977990</td>\n",
       "      <td>0.958343</td>\n",
       "    </tr>\n",
       "    <tr>\n",
       "      <th>bus_lag_2</th>\n",
       "      <td>0.957902</td>\n",
       "      <td>0.977990</td>\n",
       "      <td>1.000000</td>\n",
       "      <td>0.977862</td>\n",
       "    </tr>\n",
       "    <tr>\n",
       "      <th>bus_lag_3</th>\n",
       "      <td>0.948207</td>\n",
       "      <td>0.958343</td>\n",
       "      <td>0.977862</td>\n",
       "      <td>1.000000</td>\n",
       "    </tr>\n",
       "  </tbody>\n",
       "</table>\n",
       "</div>"
      ],
      "text/plain": [
       "               bus_ridership  bus_lag_1  bus_lag_2  bus_lag_3\n",
       "bus_ridership       1.000000   0.977840   0.957902   0.948207\n",
       "bus_lag_1           0.977840   1.000000   0.977990   0.958343\n",
       "bus_lag_2           0.957902   0.977990   1.000000   0.977862\n",
       "bus_lag_3           0.948207   0.958343   0.977862   1.000000"
      ]
     },
     "execution_count": 15,
     "metadata": {},
     "output_type": "execute_result"
    }
   ],
   "source": [
    "# Answer:\n",
    "# Generate shifts\n",
    "bus['bus_lag_1'] = bus['bus_ridership'].shift(1)\n",
    "bus['bus_lag_2'] = bus['bus_ridership'].shift(2)\n",
    "bus['bus_lag_3'] = bus['bus_ridership'].shift(3)\n",
    "\n",
    "# Calculate the correlations among these columns.\n",
    "bus.corr()"
   ]
  },
  {
   "cell_type": "markdown",
   "metadata": {},
   "source": [
    "### Generate and interpret an autocorrelation plot."
   ]
  },
  {
   "cell_type": "markdown",
   "metadata": {},
   "source": [
    "**Q12.** Generate and interpret an autocorrelation plot for the bus data."
   ]
  },
  {
   "cell_type": "code",
   "execution_count": 12,
   "metadata": {},
   "outputs": [],
   "source": [
    "# imports\n",
    "import pandas as pd\n",
    "import numpy as np\n",
    "import matplotlib.pyplot as plt\n",
    "import seaborn as sns\n",
    "from statsmodels.graphics.tsaplots import plot_acf\n",
    "%matplotlib inline\n",
    "\n",
    "bus = pd.read_csv('data/bus.csv')\n",
    "\n",
    "# reset bus dataframe\n",
    "bus = bus[['bus_ridership']]\n",
    "\n",
    "# Specify frequency for data\n",
    "bus.index = pd.date_range('1/1/1973', # start date is January 1, 1973\n",
    "                               periods=len(bus.index), # we want one period per entry\n",
    "                               freq='M') # frequency in months"
   ]
  },
  {
   "cell_type": "code",
   "execution_count": 13,
   "metadata": {
    "scrolled": true
   },
   "outputs": [
    {
     "data": {
      "image/png": "[encoded data removed]",
      "text/plain": [
       "<Figure size 648x360 with 1 Axes>"
      ]
     },
     "metadata": {
      "needs_background": "light"
     },
     "output_type": "display_data"
    }
   ],
   "source": [
    "# Answer:\n",
    "fig, ax = plt.subplots(figsize = (9, 5))\n",
    "plot_acf(bus['bus_ridership'], lags = 30, ax = ax)\n",
    "plt.show();"
   ]
  },
  {
   "cell_type": "markdown",
   "metadata": {},
   "source": [
    "> **Answer:**  \n",
    "Interpretation: Since the autocorrelation plot has large and positive values for small lags (e.g. lags 1, 2, 3), this is evidence that a trend exists."
   ]
  },
  {
   "cell_type": "markdown",
   "metadata": {},
   "source": [
    "###  Generate and interpret a partial autocorrelation plot."
   ]
  },
  {
   "cell_type": "markdown",
   "metadata": {},
   "source": [
    "**Q13.** Generate and interpret a partial autocorrelation plot for the bus data."
   ]
  },
  {
   "cell_type": "code",
   "execution_count": 16,
   "metadata": {},
   "outputs": [],
   "source": [
    "# imports\n",
    "import pandas as pd\n",
    "import numpy as np\n",
    "import matplotlib.pyplot as plt\n",
    "import seaborn as sns\n",
    "from statsmodels.graphics.tsaplots import plot_pacf\n",
    "%matplotlib inline\n",
    "\n",
    "bus = pd.read_csv('data/bus.csv')\n",
    "\n",
    "# reset bus dataframe\n",
    "bus = bus[['bus_ridership']]\n",
    "\n",
    "# Specify frequency for data\n",
    "bus.index = pd.date_range('1/1/1973', # start date is January 1, 1973\n",
    "                               periods=len(bus.index), # we want one period per entry\n",
    "                               freq='M') # frequency in months"
   ]
  },
  {
   "cell_type": "code",
   "execution_count": 18,
   "metadata": {
    "scrolled": true
   },
   "outputs": [
    {
     "data": {
      "image/png": "[encoded data removed]",
      "text/plain": [
       "<Figure size 648x360 with 1 Axes>"
      ]
     },
     "metadata": {
      "needs_background": "light"
     },
     "output_type": "display_data"
    }
   ],
   "source": [
    "# Answer:\n",
    "fig, ax = plt.subplots(figsize = (9, 5))\n",
    "plot_pacf(bus['bus_ridership'], lags = 30, ax = ax)\n",
    "plt.show();"
   ]
  },
  {
   "cell_type": "markdown",
   "metadata": {},
   "source": [
    "> **Answer:**  \n",
    "Interpretation: Since the partial autocorrelation plot has significant values for seasonal lags around 13 and 25, this is evidence that annual seasonality exists."
   ]
  },
  {
   "cell_type": "markdown",
   "metadata": {},
   "source": [
    "### Properly fit, generate predictions from, and evaluate a linear time series model."
   ]
  },
  {
   "cell_type": "markdown",
   "metadata": {},
   "source": [
    "**Q14.** Properly fit, generate predictions from, and evaluate a linear time series model on the bus dataset."
   ]
  },
  {
   "cell_type": "code",
   "execution_count": 19,
   "metadata": {},
   "outputs": [],
   "source": [
    "# imports\n",
    "import pandas as pd\n",
    "import numpy as np\n",
    "import matplotlib.pyplot as plt\n",
    "import seaborn as sns\n",
    "%matplotlib inline\n",
    "# modeling imports\n",
    "from sklearn.model_selection import train_test_split\n",
    "from statsmodels.tsa.arima_model import ARMA\n",
    "import statsmodels.api as sm\n",
    "# evaluation imports\n",
    "from statsmodels.tsa.seasonal import seasonal_decompose\n",
    "from sklearn.metrics import r2_score\n",
    "from statsmodels.tsa.stattools import adfuller\n",
    "\n",
    "bus = pd.read_csv('data/bus.csv')\n",
    "\n",
    "# reset bus dataframe\n",
    "bus = bus[['bus_ridership']]\n",
    "\n",
    "# Specify frequency for data\n",
    "bus.index = pd.date_range('1/1/1973', # start date is January 1, 1973\n",
    "                               periods=len(bus.index), # we want one period per entry\n",
    "                               freq='M') # frequency in months"
   ]
  },
  {
   "cell_type": "code",
   "execution_count": 20,
   "metadata": {},
   "outputs": [
    {
     "data": {
      "image/png": "[encoded data removed]",
      "text/plain": [
       "<Figure size 432x288 with 4 Axes>"
      ]
     },
     "metadata": {
      "needs_background": "light"
     },
     "output_type": "display_data"
    }
   ],
   "source": [
    "# Answer:\n",
    "# Decompose time series into trend, seasonal, and residual components.\n",
    "decomp = seasonal_decompose(bus['bus_ridership'])\n",
    "\n",
    "# Plot the decomposed time series.\n",
    "decomp.plot();"
   ]
  },
  {
   "cell_type": "code",
   "execution_count": 21,
   "metadata": {},
   "outputs": [
    {
     "data": {
      "text/plain": [
       "0.9364337680336152"
      ]
     },
     "execution_count": 21,
     "metadata": {},
     "output_type": "execute_result"
    }
   ],
   "source": [
    "# make bus_ridership into float values\n",
    "# (p,q), p is the AR part\n",
    "bus['bus_ridership'] = bus['bus_ridership'].astype(float)\n",
    "\n",
    "# fit an AR model with a lag of 1\n",
    "ar1 = ARMA(endog = bus['bus_ridership'],\n",
    "           order = (1, 0))\n",
    "\n",
    "model = ar1.fit()\n",
    "\n",
    "# generate predicted values\n",
    "preds = model.predict()\n",
    "r2_score(bus['bus_ridership'], preds)"
   ]
  },
  {
   "cell_type": "code",
   "execution_count": 22,
   "metadata": {},
   "outputs": [
    {
     "data": {
      "text/plain": [
       "0.6553313319861592"
      ]
     },
     "execution_count": 22,
     "metadata": {},
     "output_type": "execute_result"
    }
   ],
   "source": [
    "# fit a MA model with a window of 1\n",
    "# (p,q), q is the MA part\n",
    "ma1 = ARMA(endog = bus['bus_ridership'],\n",
    "           order = (0, 1))\n",
    "\n",
    "model = ma1.fit()\n",
    "preds = model.predict()\n",
    "r2_score(bus['bus_ridership'], preds)"
   ]
  },
  {
   "cell_type": "markdown",
   "metadata": {},
   "source": [
    "...or..."
   ]
  },
  {
   "cell_type": "code",
   "execution_count": 23,
   "metadata": {},
   "outputs": [],
   "source": [
    "# Create a column called `lag_1` that lags Passengers by one month.\n",
    "bus['lag_1'] = bus['bus_ridership'].shift(2)\n",
    "\n",
    "# Create a column called `lag_2` that lags Passengers by two months.\n",
    "bus['lag_2'] = bus['bus_ridership'].shift(2)"
   ]
  },
  {
   "cell_type": "code",
   "execution_count": 24,
   "metadata": {},
   "outputs": [],
   "source": [
    "X_train, X_test, y_train, y_test = train_test_split(bus.drop(columns='bus_ridership'),\n",
    "                                                    bus['bus_ridership'],\n",
    "                                                    test_size = 0.2,\n",
    "                                                    shuffle = False) #not random for timeseries data"
   ]
  },
  {
   "cell_type": "code",
   "execution_count": 25,
   "metadata": {},
   "outputs": [
    {
     "name": "stdout",
     "output_type": "stream",
     "text": [
      "                            OLS Regression Results                            \n",
      "==============================================================================\n",
      "Dep. Variable:          bus_ridership   R-squared:                       0.920\n",
      "Model:                            OLS   Adj. R-squared:                  0.919\n",
      "Method:                 Least Squares   F-statistic:                     1000.\n",
      "Date:                Mon, 11 May 2020   Prob (F-statistic):           1.73e-49\n",
      "Time:                        10:16:24   Log-Likelihood:                -507.52\n",
      "No. Observations:                  89   AIC:                             1019.\n",
      "Df Residuals:                      87   BIC:                             1024.\n",
      "Df Model:                           1                                         \n",
      "Covariance Type:            nonrobust                                         \n",
      "==============================================================================\n",
      "                 coef    std err          t      P>|t|      [0.025      0.975]\n",
      "------------------------------------------------------------------------------\n",
      "const         67.2155     32.427      2.073      0.041       2.763     131.668\n",
      "lag_1          0.4760      0.015     31.625      0.000       0.446       0.506\n",
      "lag_2          0.4760      0.015     31.625      0.000       0.446       0.506\n",
      "==============================================================================\n",
      "Omnibus:                        6.218   Durbin-Watson:                   1.272\n",
      "Prob(Omnibus):                  0.045   Jarque-Bera (JB):                5.828\n",
      "Skew:                           0.562   Prob(JB):                       0.0543\n",
      "Kurtosis:                       2.445   Cond. No.                     3.60e+16\n",
      "==============================================================================\n",
      "\n",
      "Warnings:\n",
      "[1] Standard Errors assume that the covariance matrix of the errors is correctly specified.\n",
      "[2] The smallest eigenvalue is 1.59e-25. This might indicate that there are\n",
      "strong multicollinearity problems or that the design matrix is singular.\n"
     ]
    }
   ],
   "source": [
    "X_train = sm.add_constant(X_train)\n",
    "X_test = sm.add_constant(X_test)\n",
    "\n",
    "X_train.dropna(inplace=True)\n",
    "y_train = y_train[X_train.index]\n",
    "\n",
    "lm = sm.OLS(y_train, X_train)\n",
    "lm_results = lm.fit()\n",
    "print(lm_results.summary())"
   ]
  },
  {
   "cell_type": "code",
   "execution_count": 26,
   "metadata": {},
   "outputs": [
    {
     "data": {
      "text/plain": [
       "-0.922667767943427"
      ]
     },
     "execution_count": 26,
     "metadata": {},
     "output_type": "execute_result"
    }
   ],
   "source": [
    "r2_score(y_test, lm_results.predict(X_test))"
   ]
  },
  {
   "cell_type": "markdown",
   "metadata": {},
   "source": [
    "---\n",
    "## 9.03 ARIMA Models"
   ]
  },
  {
   "cell_type": "markdown",
   "metadata": {},
   "source": [
    "### Describe the purpose of the autoregressive and moving average components."
   ]
  },
  {
   "cell_type": "markdown",
   "metadata": {},
   "source": [
    "**Q15.** What is the purpose of the autoregressive and moving average components?"
   ]
  },
  {
   "cell_type": "markdown",
   "metadata": {},
   "source": [
    "> **Answer:**  \n",
    "- Autoregressive (AR): Explains long-term trends\n",
    "- Moving average (MA): Takes previous error terms as inputs to explain sudden shocks in our data "
   ]
  },
  {
   "cell_type": "markdown",
   "metadata": {},
   "source": [
    "### Define hyperparameters p, d, and q."
   ]
  },
  {
   "cell_type": "markdown",
   "metadata": {},
   "source": [
    "**Q16.** What do the hyperparameters `p`, `d`, and `q` do in the ARIMA model?"
   ]
  },
  {
   "cell_type": "markdown",
   "metadata": {},
   "source": [
    "> **Answer:**  \n",
    "Autoregressive (AR - p) models:\n",
    "- Better for long-term trends\n",
    "- Number of previous observations to consider when predicting (lags)\n",
    "\n",
    "> Moving average (MA - q) models:  \n",
    "- Better for short-term fluctuations\n",
    "- Number of errors we regress on  \n",
    "\n",
    "> Integrated (d)  \n",
    "- How many differences we need to achieve stationarity"
   ]
  },
  {
   "cell_type": "markdown",
   "metadata": {},
   "source": [
    "### Describe AIC & Find the right value of p and q using AIC."
   ]
  },
  {
   "cell_type": "markdown",
   "metadata": {},
   "source": [
    "**Q17.** What is AIC and what is it used for?"
   ]
  },
  {
   "cell_type": "markdown",
   "metadata": {},
   "source": [
    "> **Answer:**  \n",
    "The Akaike information criterion that estimates the quality of the model - how well the model performs on real life data since we lose realistic outcomes using often unpredictable time series data."
   ]
  },
  {
   "cell_type": "markdown",
   "metadata": {},
   "source": [
    "**Q18.** Define stationarity."
   ]
  },
  {
   "cell_type": "markdown",
   "metadata": {},
   "source": [
    ">**Answer:**   \n",
    "Data that is detrended, mean is constant, line of best fit is horizontal"
   ]
  },
  {
   "cell_type": "markdown",
   "metadata": {},
   "source": [
    "### Find the right value of d using the augmented Dickey-Fuller test."
   ]
  },
  {
   "cell_type": "markdown",
   "metadata": {},
   "source": [
    "**Q19.** Conduct and interpret an augmented Dickey-Fuller test for stationarity on the bus data."
   ]
  },
  {
   "cell_type": "code",
   "execution_count": 32,
   "metadata": {},
   "outputs": [],
   "source": [
    "# imports\n",
    "import pandas as pd\n",
    "from statsmodels.tsa.stattools import adfuller\n",
    "\n",
    "bus = pd.read_csv('data/bus.csv')\n",
    "\n",
    "# reset bus dataframe\n",
    "bus = bus[['bus_ridership']]\n",
    "\n",
    "# Specify frequency for data\n",
    "bus.index = pd.date_range('1/1/1973', # start date is January 1, 1973\n",
    "                               periods=len(bus.index), # we want one period per entry\n",
    "                               freq='M') # frequency in months"
   ]
  },
  {
   "cell_type": "code",
   "execution_count": 33,
   "metadata": {},
   "outputs": [],
   "source": [
    "# Answer:\n",
    "# Original code written by Joseph Nelson\n",
    "def interpret_dftest(series):\n",
    "    return pd.Series(adfuller(series)[0:2], index=['Test Statistic','p-value'])"
   ]
  },
  {
   "cell_type": "code",
   "execution_count": 34,
   "metadata": {},
   "outputs": [
    {
     "data": {
      "text/plain": [
       "Test Statistic   -1.536597\n",
       "p-value           0.515336\n",
       "dtype: float64"
      ]
     },
     "execution_count": 34,
     "metadata": {},
     "output_type": "execute_result"
    }
   ],
   "source": [
    "# Not stationary\n",
    "interpret_dftest(bus['bus_ridership'])"
   ]
  },
  {
   "cell_type": "code",
   "execution_count": 35,
   "metadata": {},
   "outputs": [
    {
     "data": {
      "text/plain": [
       "Test Statistic   -1.938696\n",
       "p-value           0.314082\n",
       "dtype: float64"
      ]
     },
     "execution_count": 35,
     "metadata": {},
     "output_type": "execute_result"
    }
   ],
   "source": [
    "# First difference\n",
    "interpret_dftest(bus['bus_ridership'].diff().dropna())"
   ]
  },
  {
   "cell_type": "code",
   "execution_count": 36,
   "metadata": {},
   "outputs": [
    {
     "data": {
      "text/plain": [
       "Test Statistic   -1.247869e+01\n",
       "p-value           3.126378e-23\n",
       "dtype: float64"
      ]
     },
     "execution_count": 36,
     "metadata": {},
     "output_type": "execute_result"
    }
   ],
   "source": [
    "# Second difference\n",
    "interpret_dftest(bus['bus_ridership'].diff().diff().dropna())"
   ]
  },
  {
   "cell_type": "markdown",
   "metadata": {},
   "source": [
    "### Complete a manual GridSearch."
   ]
  },
  {
   "cell_type": "markdown",
   "metadata": {},
   "source": [
    "**Q20.** Create a manual GridSearch using the bus data to find the values of p and q (between 0-4) that give the best AIC."
   ]
  },
  {
   "cell_type": "code",
   "execution_count": 5,
   "metadata": {},
   "outputs": [],
   "source": [
    "# imports\n",
    "import pandas as pd\n",
    "from sklearn.model_selection import train_test_split\n",
    "from statsmodels.tsa.arima_model import ARIMA\n",
    "\n",
    "bus = pd.read_csv('data/bus.csv')\n",
    "\n",
    "# reset bus dataframe\n",
    "bus = bus[['bus_ridership']]\n",
    "\n",
    "# Specify frequency for data\n",
    "bus.index = pd.date_range('1/1/1973', # start date is January 1, 1973\n",
    "                               periods=len(bus.index), # we want one period per entry\n",
    "                               freq='M') # frequency in months\n",
    "\n",
    "# Create first_diff_temp and second_diff_temp\n",
    "# columns in df.\n",
    "bus['first_diff_temp'] = bus['bus_ridership'].diff(1)\n",
    "bus['second_diff_temp'] = bus['bus_ridership'].diff(1).diff(1)\n",
    "\n",
    "# test train split using second differenced data\n",
    "y_train, y_test = train_test_split(bus['second_diff_temp'],\n",
    "                                   test_size = 0.15,\n",
    "                                   shuffle = False) # Shuffle = False is IMPORTANT!"
   ]
  },
  {
   "cell_type": "code",
   "execution_count": 7,
   "metadata": {},
   "outputs": [
    {
     "name": "stdout",
     "output_type": "stream",
     "text": [
      "Attempting to fit ARIMA(0,1,0)\n",
      "The AIC for ARIMA(0,1,0) is: 1182.9025396339928\n",
      "Attempting to fit ARIMA(0,1,1)\n",
      "The AIC for ARIMA(0,1,1) is: 1091.9543845728997\n",
      "Attempting to fit ARIMA(0,1,2)\n",
      "Attempting to fit ARIMA(0,1,3)\n",
      "Attempting to fit ARIMA(0,1,4)\n",
      "Attempting to fit ARIMA(1,1,0)\n",
      "The AIC for ARIMA(1,1,0) is: 1147.9447951834088\n",
      "Attempting to fit ARIMA(1,1,1)\n",
      "Attempting to fit ARIMA(1,1,2)\n",
      "Attempting to fit ARIMA(1,1,3)\n",
      "Attempting to fit ARIMA(1,1,4)\n",
      "Attempting to fit ARIMA(2,1,0)\n",
      "The AIC for ARIMA(2,1,0) is: 1107.4682174577285\n",
      "Attempting to fit ARIMA(2,1,1)\n",
      "The AIC for ARIMA(2,1,1) is: 1053.9642054197925\n",
      "Attempting to fit ARIMA(2,1,2)\n",
      "Attempting to fit ARIMA(2,1,3)\n",
      "Attempting to fit ARIMA(2,1,4)\n",
      "Attempting to fit ARIMA(3,1,0)\n",
      "The AIC for ARIMA(3,1,0) is: 1093.2118050476145\n",
      "Attempting to fit ARIMA(3,1,1)\n",
      "The AIC for ARIMA(3,1,1) is: 1051.1288016100555\n",
      "Attempting to fit ARIMA(3,1,2)\n",
      "Attempting to fit ARIMA(3,1,3)\n",
      "Attempting to fit ARIMA(3,1,4)\n",
      "Attempting to fit ARIMA(4,1,0)\n",
      "The AIC for ARIMA(4,1,0) is: 1079.929089477044\n",
      "Attempting to fit ARIMA(4,1,1)\n",
      "The AIC for ARIMA(4,1,1) is: 1049.1716685366052\n",
      "Attempting to fit ARIMA(4,1,2)\n",
      "Attempting to fit ARIMA(4,1,3)\n",
      "Attempting to fit ARIMA(4,1,4)\n",
      "\n",
      "\n",
      "MODEL FINISHED!\n",
      "Our model that minimizes AIC on the training data is the ARIMA(4,1,1).\n",
      "This model has an AIC of 1049.1716685366052.\n"
     ]
    }
   ],
   "source": [
    "# Answer:\n",
    "# Code from global lesson 9.03\n",
    "# Starting AIC, p, and q.\n",
    "best_aic = 99 * (10 ** 16)\n",
    "best_p = 0\n",
    "best_q = 0\n",
    "\n",
    "# Use nested for loop to iterate over values of p and q.\n",
    "for p in range(5):\n",
    "    for q in range(5):\n",
    "        \n",
    "        # Insert try and except statements.\n",
    "        try:\n",
    "            \n",
    "            # Fitting an ARIMA(p, 1, q) model.\n",
    "            print(f'Attempting to fit ARIMA({p},1,{q})')\n",
    "            \n",
    "            # Instantiate ARIMA model.\n",
    "            arima = ARIMA(endog = y_train.astype(float).dropna(), # endog = Y variable\n",
    "                          order = (p,1,q)) # values of p, d, q\n",
    "            \n",
    "            # Fit ARIMA model.\n",
    "            model = arima.fit()\n",
    "\n",
    "            # Print out AIC for ARIMA(p, 1, q) model.\n",
    "            print(f'The AIC for ARIMA({p},1,{q}) is: {model.aic}')\n",
    "\n",
    "            # Is my current model's AIC better than our best_aic?\n",
    "            if model.aic < best_aic:\n",
    "                \n",
    "                # If so, let's overwrite best_aic, best_p, and best_q.\n",
    "                best_aic = model.aic\n",
    "                best_p = p\n",
    "                best_q = q\n",
    "\n",
    "        except:\n",
    "            pass\n",
    "print()\n",
    "print()\n",
    "print('MODEL FINISHED!')\n",
    "print(f'Our model that minimizes AIC on the training data is the ARIMA({best_p},1,{best_q}).')\n",
    "print(f'This model has an AIC of {best_aic}.')"
   ]
  },
  {
   "cell_type": "markdown",
   "metadata": {},
   "source": [
    "### Fit an ARIMA model."
   ]
  },
  {
   "cell_type": "markdown",
   "metadata": {},
   "source": [
    "**Q21.** Use the bus dataset to fit an ARIMA model."
   ]
  },
  {
   "cell_type": "code",
   "execution_count": 12,
   "metadata": {},
   "outputs": [],
   "source": [
    "# imports\n",
    "import pandas as pd\n",
    "from sklearn.model_selection import train_test_split\n",
    "from statsmodels.tsa.arima_model import ARIMA\n",
    "\n",
    "bus = pd.read_csv('data/bus.csv')\n",
    "\n",
    "# reset bus dataframe\n",
    "bus = bus[['bus_ridership']]\n",
    "\n",
    "# Specify frequency for data\n",
    "bus.index = pd.date_range('1/1/1973', # start date is January 1, 1973\n",
    "                               periods=len(bus.index), # we want one period per entry\n",
    "                               freq='M') # frequency in months\n",
    "\n",
    "# test train split using second differenced data\n",
    "y_train, y_test = train_test_split(bus['bus_ridership'],\n",
    "                                   test_size = 0.15,\n",
    "                                   shuffle = False) # Shuffle = False is IMPORTANT!"
   ]
  },
  {
   "cell_type": "code",
   "execution_count": 13,
   "metadata": {},
   "outputs": [
    {
     "data": {
      "image/png": "[encoded data removed]",
      "text/plain": [
       "<Figure size 720x432 with 1 Axes>"
      ]
     },
     "metadata": {
      "needs_background": "light"
     },
     "output_type": "display_data"
    }
   ],
   "source": [
    "# Answer:\n",
    "# Code from global lesson 9.03\n",
    "import matplotlib.pyplot as plt\n",
    "%matplotlib inline\n",
    "\n",
    "# Instantiate best model.\n",
    "model = ARIMA(endog = y_train.astype(float).dropna(), # endog = Y variable\n",
    "              order = (4,2,1))\n",
    "\n",
    "# Fit ARIMA model.\n",
    "arima = model.fit()\n",
    "\n",
    "# Generate predictions based on test set.\n",
    "preds = model.predict(params = arima.params,\n",
    "                      start = y_test.index[0],\n",
    "                      end = y_test.index[-1])\n",
    "\n",
    "# Plot data.\n",
    "plt.figure(figsize=(10,6))\n",
    "\n",
    "# Plot training data.\n",
    "plt.plot(y_train.index, pd.DataFrame(y_train).diff(), color = 'blue')\n",
    "\n",
    "# Plot testing data.\n",
    "plt.plot(y_test.index, pd.DataFrame(y_test).diff(), color = 'orange')\n",
    "\n",
    "# Plot predicted test values.\n",
    "plt.plot(y_test.index, preds, color = 'green')\n",
    "\n",
    "plt.title(label = 'ARIMA(4, 2, 1) Predictions', fontsize=16)\n",
    "plt.show();"
   ]
  },
  {
   "cell_type": "markdown",
   "metadata": {},
   "source": [
    "---\n",
    "## 9.04 Advanced Time Series Models"
   ]
  },
  {
   "cell_type": "markdown",
   "metadata": {},
   "source": [
    "### Describe univariate and multivariate time series."
   ]
  },
  {
   "cell_type": "markdown",
   "metadata": {},
   "source": [
    "**Q22.** Describe `univariate` and `multivariate` time series."
   ]
  },
  {
   "cell_type": "markdown",
   "metadata": {},
   "source": [
    ">**Answer:**  \n",
    "- **Univariate** time series: One variable\n",
    "- **Multivariate** time series: Many variables to consider (that might be related)"
   ]
  },
  {
   "cell_type": "markdown",
   "metadata": {},
   "source": [
    "### Identify the advantages of working with multivariate time series."
   ]
  },
  {
   "cell_type": "markdown",
   "metadata": {},
   "source": [
    "**Q23.** Identify the advantages of working with multivariate time series."
   ]
  },
  {
   "cell_type": "markdown",
   "metadata": {},
   "source": [
    ">**Answer:**  \n",
    "More realistic, more accurate prediction"
   ]
  },
  {
   "cell_type": "markdown",
   "metadata": {},
   "source": [
    "### Define VAR models."
   ]
  },
  {
   "cell_type": "markdown",
   "metadata": {},
   "source": [
    "**Q24.** Define `VAR` models."
   ]
  },
  {
   "cell_type": "markdown",
   "metadata": {},
   "source": [
    ">**Answer:** \n",
    "VAR models are vector autoregressive models (from global lesson 9.04)\n",
    "- Rather than regressing one time series $Y_t$ on lagged versions of itself and on lagged versions of independent variables $X$, we will take all of our variables $Y_{1,t}, Y_{2,t}, Y_{3,t}, \\ldots$ and regress them on one another simultaneously.\n",
    "- This allows us to forecast forward many variables simultaneously."
   ]
  },
  {
   "cell_type": "markdown",
   "metadata": {},
   "source": [
    "### Understand and test for the assumptions of VAR models."
   ]
  },
  {
   "cell_type": "markdown",
   "metadata": {},
   "source": [
    "**Q25.** What are the assumptions of VAR models and how can you test for them?"
   ]
  },
  {
   "cell_type": "markdown",
   "metadata": {},
   "source": [
    ">**Answer:**  \n",
    "VAR models **require** stationarity. You can test for this using the Dickey-Fuller test."
   ]
  },
  {
   "cell_type": "markdown",
   "metadata": {},
   "source": [
    "### Fit, generate predictions from, and evaluate VAR models."
   ]
  },
  {
   "cell_type": "markdown",
   "metadata": {},
   "source": [
    "**Q26.** When would you use a VAR model?"
   ]
  },
  {
   "cell_type": "markdown",
   "metadata": {},
   "source": [
    "> **Answer:**  \n",
    "When we need to deal with forecasting multiple variable into the future"
   ]
  },
  {
   "cell_type": "markdown",
   "metadata": {},
   "source": [
    "---\n",
    "## 9.05 Benford's Law"
   ]
  },
  {
   "cell_type": "markdown",
   "metadata": {},
   "source": [
    "### Understand what Benford's law is"
   ]
  },
  {
   "cell_type": "markdown",
   "metadata": {},
   "source": [
    "**Q27.** Describe Benford's law."
   ]
  },
  {
   "cell_type": "markdown",
   "metadata": {},
   "source": [
    "> **Answer:**  \n",
    "Benfords law describes the pattern that numbers with a smaller first digit are more frequent. It is an observation about the frequency distribution of leading digits in many real-life sets of numerical data. The law states that in many naturally occurring collections of numbers, the leading significant digit is likely to be small."
   ]
  },
  {
   "cell_type": "markdown",
   "metadata": {},
   "source": [
    "### Use Benford's law to find anomalies within a dataset."
   ]
  },
  {
   "cell_type": "markdown",
   "metadata": {},
   "source": [
    "**Q28.** How can Benford's law help you find anomalies within a dataset?"
   ]
  },
  {
   "cell_type": "markdown",
   "metadata": {},
   "source": [
    "> **Answer:**  \n",
    "(From global lesson 9.05) Forensic accountants typically use Benford's law to screen for irregularities in financial reports. Financial datasets tend to follow Benford's law unless human intervention is involved, which can sometimes lead to fraud."
   ]
  },
  {
   "cell_type": "markdown",
   "metadata": {},
   "source": [
    "---\n",
    "## 9.06 Flask"
   ]
  },
  {
   "cell_type": "markdown",
   "metadata": {},
   "source": [
    "### Explain what flask is and what a route is."
   ]
  },
  {
   "cell_type": "markdown",
   "metadata": {},
   "source": [
    "**Q29.** What is flask?"
   ]
  },
  {
   "cell_type": "markdown",
   "metadata": {},
   "source": [
    "> **Answer:**  \n",
    "Flask is a library for building web services like websites and APIs in Python. More formally, it is a lightweight web framework for Python."
   ]
  },
  {
   "cell_type": "markdown",
   "metadata": {},
   "source": [
    "**Q30.** What is a route?"
   ]
  },
  {
   "cell_type": "markdown",
   "metadata": {},
   "source": [
    "> **Answer:**  \n",
    "When users make requests to a specific URL, we can break that down into the base URL and the route. The base URL is the standard/base website, the route is the sub-page. Ex. https://www.reddit.com[base]/r/BirdsArentReal.json[route]"
   ]
  },
  {
   "cell_type": "markdown",
   "metadata": {},
   "source": [
    "### Spin up a simple web API using the flask framework & create app routes to perform a variety of tasks, including serving data to or collecting input from our users."
   ]
  },
  {
   "cell_type": "markdown",
   "metadata": {},
   "source": [
    "**Q31.** Write code that would display the text \"Welcome to my Flask app!\" on the home page."
   ]
  },
  {
   "cell_type": "markdown",
   "metadata": {},
   "source": [
    "> **Answer:**  \n",
    "\n",
    "```Python\n",
    "app = Flask('myApp')\n",
    "\n",
    "@app.route('/')\n",
    "def home():\n",
    "    return 'Welcome to my Flask app!'\n",
    "```"
   ]
  }
 ],
 "metadata": {
  "kernelspec": {
   "display_name": "Python 3",
   "language": "python",
   "name": "python3"
  },
  "language_info": {
   "codemirror_mode": {
    "name": "ipython",
    "version": 3
   },
   "file_extension": ".py",
   "mimetype": "text/x-python",
   "name": "python",
   "nbconvert_exporter": "python",
   "pygments_lexer": "ipython3",
   "version": "3.7.4"
  }
 },
 "nbformat": 4,
 "nbformat_minor": 2
}
