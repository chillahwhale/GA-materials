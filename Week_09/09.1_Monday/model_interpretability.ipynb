{
 "cells": [
  {
   "cell_type": "markdown",
   "metadata": {},
   "source": [
    "<img src=\"http://imgur.com/1ZcRyrc.png\" style=\"float: left; margin: 20px; height: 55px\">\n",
    "\n",
    "# Model Interpretability\n",
    "\n",
    "_How to interpret models and visualize feature importance._\n",
    "\n",
    "_Author: Noelle B. (DEN)_\n",
    "\n",
    "---"
   ]
  },
  {
   "cell_type": "code",
   "execution_count": null,
   "metadata": {},
   "outputs": [],
   "source": [
    "# imports\n",
    "import pandas as pd\n",
    "import numpy as np\n",
    "# model imports\n",
    "from sklearn.linear_model import LinearRegression\n",
    "from sklearn.tree import DecisionTreeRegressor, DecisionTreeClassifier, export_graphviz\n",
    "from sklearn.ensemble import RandomForestRegressor, RandomForestClassifier\n",
    "from sklearn.model_selection import train_test_split\n",
    "# data imports\n",
    "from sklearn.datasets import load_boston, load_breast_cancer\n",
    "# visualization imports\n",
    "import matplotlib.pyplot as plt\n",
    "import seaborn as sns\n",
    "import pydot\n",
    "import graphviz\n",
    "from IPython.display import Image\n",
    "%matplotlib inline"
   ]
  },
  {
   "cell_type": "code",
   "execution_count": null,
   "metadata": {},
   "outputs": [],
   "source": [
    "# Get data\n",
    "# load in boston housing price dataset for regression\n",
    "boston = load_boston()\n",
    "bostondf = pd.DataFrame(boston.data, columns = boston.feature_names)\n",
    "bostondf['price'] = boston.target*1000 #prices are in 1000's of dollars\n",
    "bostondf.head()\n",
    "\n",
    "#load in breast cancer dataset for classification\n",
    "breast_cancer = load_breast_cancer()\n",
    "breast_cancer_df = pd.DataFrame(breast_cancer.data, columns = breast_cancer.feature_names)\n",
    "breast_cancer_df['type'] = breast_cancer.target\n",
    "\n",
    "# split into x and y for modeling\n",
    "X_boston = bostondf.drop(columns='price')\n",
    "y_boston = bostondf['price']\n",
    "X_train_boston, X_test_boston, y_train_boston, y_test_boston = train_test_split(X_boston, y_boston, random_state = 42)\n",
    "X_bc = breast_cancer_df.drop(columns='type')\n",
    "y_bc = breast_cancer_df['type']\n",
    "X_train_bc, X_test_bc, y_train_bc, y_test_bc = train_test_split(X_bc, y_bc, random_state = 42)"
   ]
  },
  {
   "cell_type": "markdown",
   "metadata": {},
   "source": [
    "## Linear Regression"
   ]
  },
  {
   "cell_type": "code",
   "execution_count": null,
   "metadata": {},
   "outputs": [],
   "source": [
    "# instantiate model\n",
    "\n",
    "# fit model\n"
   ]
  },
  {
   "cell_type": "code",
   "execution_count": null,
   "metadata": {},
   "outputs": [],
   "source": [
    "# view coefficients\n"
   ]
  },
  {
   "cell_type": "code",
   "execution_count": null,
   "metadata": {},
   "outputs": [],
   "source": [
    "# Get feature importances\n",
    "# save coefficients\n",
    "\n",
    "# save variable names\n",
    "\n",
    "# save coefficients and variable names as dataframe\n",
    "\n",
    "# sort by absolute weights\n"
   ]
  },
  {
   "cell_type": "code",
   "execution_count": null,
   "metadata": {},
   "outputs": [],
   "source": [
    "#Plot the model's feature importances\n",
    "# REFERENCE:  Eric Larson, https://github.com/eclarson/DataMiningNotebooks\n",
    "plt.style.use('ggplot')\n",
    "\n",
    "plt.figure(figsize=(10,5))                               \n",
    "plt.style.use('seaborn-colorblind')                              \n",
    "\n",
    "\n"
   ]
  },
  {
   "cell_type": "code",
   "execution_count": null,
   "metadata": {},
   "outputs": [],
   "source": [
    "#  Distribution of Predicted vs. Actual\n",
    "plt.figure(figsize=(10,5))\n",
    "\n",
    "\n"
   ]
  },
  {
   "cell_type": "markdown",
   "metadata": {},
   "source": [
    "## Decision Trees"
   ]
  },
  {
   "cell_type": "code",
   "execution_count": null,
   "metadata": {},
   "outputs": [],
   "source": [
    "# instantiate model\n",
    "\n",
    "# fit model\n"
   ]
  },
  {
   "cell_type": "code",
   "execution_count": null,
   "metadata": {},
   "outputs": [],
   "source": [
    "# Display the tree\n",
    "# get list of column names\n",
    "\n",
    "# display tree\n",
    "export_graphviz(decision_tree_fit, out_file = 'tree.dot', feature_names = feature_list, \n",
    "                rounded = True, filled = True)\n",
    "(graph, ) = pydot.graph_from_dot_file('tree.dot')\n",
    "Image(graph.create_png())"
   ]
  },
  {
   "cell_type": "code",
   "execution_count": null,
   "metadata": {},
   "outputs": [],
   "source": [
    "# Decision tree feature importance\n",
    "# save coefficients\n",
    "\n",
    "# save variable names\n",
    "\n",
    "# save as dataframe\n",
    "\n",
    "# sort by absolute weight\n",
    "\n",
    "\n",
    "# plot top features\n",
    "plt.figure(figsize=(15,5))                               \n",
    "plt.style.use('seaborn-colorblind')                              \n",
    "\n",
    "\n"
   ]
  },
  {
   "cell_type": "code",
   "execution_count": null,
   "metadata": {},
   "outputs": [],
   "source": [
    "sum(weights)"
   ]
  },
  {
   "cell_type": "markdown",
   "metadata": {},
   "source": [
    "This importance value is the \"`gini importance` or `mean decrease impurity` and is defined as the total decrease in node impurity\" [source](https://stackoverflow.com/questions/15810339/how-are-feature-importances-in-randomforestclassifier-determined).\n",
    "\n",
    "\"The importance of a feature is computed as the (normalized) total reduction of the criterion brought by that feature. It is also known as the Gini importance\" [source](https://stackoverflow.com/questions/15810339/how-are-feature-importances-in-randomforestclassifier-determined).\n",
    "\n",
    "[Read More](https://www.stat.berkeley.edu/~breiman/RandomForests/cc_home.htm#varimp)"
   ]
  },
  {
   "cell_type": "markdown",
   "metadata": {},
   "source": [
    "## Random Forest"
   ]
  },
  {
   "cell_type": "code",
   "execution_count": null,
   "metadata": {},
   "outputs": [],
   "source": [
    "# instantiate model\n",
    "\n",
    "# fit model and save as variable\n"
   ]
  },
  {
   "cell_type": "code",
   "execution_count": null,
   "metadata": {},
   "outputs": [],
   "source": [
    "# visualize one tree\n",
    "# Extract one random tree from the forest\n",
    "\n",
    "# Save the tree as a png image\n",
    "feature_list = list(X_bc.columns)\n",
    "export_graphviz(tree, out_file = 'tree.dot', feature_names = feature_list, \n",
    "                rounded = True, filled = True)\n",
    "(graph, ) = pydot.graph_from_dot_file('tree.dot')\n",
    "Image(graph.create_png())"
   ]
  },
  {
   "cell_type": "code",
   "execution_count": null,
   "metadata": {},
   "outputs": [],
   "source": [
    "# RF feature importance\n",
    "# save feature importances\n",
    "\n",
    "# save variable names\n",
    "\n",
    "# save as dataframe\n",
    "\n",
    "# sort by absolute weights\n",
    "\n",
    "\n",
    "# plot top features\n",
    "plt.figure(figsize=(10,5))                               \n",
    "plt.style.use('seaborn-colorblind')                              \n",
    "\n",
    "\n"
   ]
  },
  {
   "cell_type": "code",
   "execution_count": null,
   "metadata": {},
   "outputs": [],
   "source": []
  }
 ],
 "metadata": {
  "kernelspec": {
   "display_name": "Python 3",
   "language": "python",
   "name": "python3"
  },
  "language_info": {
   "codemirror_mode": {
    "name": "ipython",
    "version": 3
   },
   "file_extension": ".py",
   "mimetype": "text/x-python",
   "name": "python",
   "nbconvert_exporter": "python",
   "pygments_lexer": "ipython3",
   "version": "3.7.4"
  }
 },
 "nbformat": 4,
 "nbformat_minor": 2
}
