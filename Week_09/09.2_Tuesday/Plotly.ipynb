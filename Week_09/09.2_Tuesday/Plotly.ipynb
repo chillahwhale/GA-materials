{
 "cells": [
  {
   "cell_type": "markdown",
   "metadata": {},
   "source": [
    "<img src=\"http://imgur.com/1ZcRyrc.png\" style=\"float: left; margin: 15px; height: 80px\">\n",
    "\n",
    "# Plotly\n",
    "\n",
    "_Author: Noelle - DSI DEN_  \n",
    "_Code adapted from the following sources: [plotly documentation for choropleth maps](https://plot.ly/python/choropleth-maps/), [plotly documentation for map configuration](https://plot.ly/python/map-configuration), [Saurav Kaushik on Analytics Vidhya](https://www.analyticsvidhya.com/blog/2017/01/beginners-guide-to-create-beautiful-interactive-data-visualizations-using-plotly-in-r-and-python/), [plotly documentation for line and scatter plots](https://plot.ly/python/line-and-scatter/), and [plotly documentation for time series data](https://plot.ly/python/time-series/)._  \n",
    "\n",
    "-----"
   ]
  },
  {
   "cell_type": "markdown",
   "metadata": {},
   "source": [
    "Plotly is my one true love regarding data visualization in python. It allows you to create interactive plots both in your notebook and online as long as you have a plotly account. We will start by creating visualizations in this notebook using the 2014 U.S. population data from [plotly's github](https://raw.githubusercontent.com/plotly/datasets/master/2014_usa_states.csv).\n",
    "\n",
    "## Getting Started\n",
    "**Get started by installing plotly using conda:**    \n",
    "`conda install -c plotly plotly=4.5.1`  \n",
    "`conda install \"notebook>=5.3\" \"ipywidgets>=7.2\"`  \n",
    "`conda install -c plotly plotly-geo=1.0.0`  \n",
    "*Optional:*  \n",
    "`conda install -c plotly chart-studio=1.0.0`  \n",
    "\n",
    "**Or using pip...**    \n",
    "`pip install plotly==4.5.1`  \n",
    "`pip install \"notebook>=5.3\" \"ipywidgets>=7.2\"`  \n",
    "`pip install plotly-geo==1.0.0`  \n",
    "*Optional:*   \n",
    "`pip install chart-studio==1.0.0` "
   ]
  },
  {
   "cell_type": "code",
   "execution_count": null,
   "metadata": {},
   "outputs": [],
   "source": [
    "# imports\n",
    "import pandas as pd \n",
    "import chart_studio.plotly as py \n",
    "import plotly.graph_objs as go \n",
    "import plotly.express as px"
   ]
  },
  {
   "cell_type": "code",
   "execution_count": null,
   "metadata": {},
   "outputs": [],
   "source": [
    "# get data\n",
    "pop = pd.read_csv(\"https://raw.githubusercontent.com/plotly/datasets/master/2014_usa_states.csv\")\n",
    "pop.head()"
   ]
  },
  {
   "cell_type": "markdown",
   "metadata": {},
   "source": [
    "## Histograms"
   ]
  },
  {
   "cell_type": "markdown",
   "metadata": {},
   "source": [
    "In general, the code for plotly graphs can be summarized as follows:\n",
    "\n",
    "```python\n",
    "data = go.TypeOfGraph(data)\n",
    "layout = go.Layout(title, AxisTitles)\n",
    "fig = go.Figure(data=data, layout=layout) \n",
    "fig.show()\n",
    "```"
   ]
  },
  {
   "cell_type": "code",
   "execution_count": null,
   "metadata": {},
   "outputs": [],
   "source": [
    "data = go.Histogram(x=)\n",
    "layout = go.Layout(title= , \n",
    "                   xaxis=dict(title= ), \n",
    "                   yaxis=dict(title= )) \n",
    "fig = go.Figure(data=data, layout=layout) \n",
    "fig.show()"
   ]
  },
  {
   "cell_type": "markdown",
   "metadata": {},
   "source": [
    "## Box Plots"
   ]
  },
  {
   "cell_type": "code",
   "execution_count": null,
   "metadata": {},
   "outputs": [],
   "source": [
    "data = go.Box(y= )\n",
    "layout = go.Layout() \n",
    "fig = go.Figure() \n",
    "fig.show()"
   ]
  },
  {
   "cell_type": "markdown",
   "metadata": {},
   "source": [
    "## Scatter Plots"
   ]
  },
  {
   "cell_type": "code",
   "execution_count": null,
   "metadata": {},
   "outputs": [],
   "source": [
    "data=go.Scatter(x= , # x data\n",
    "                y= , # y data\n",
    "                mode= , # drawing mode for scatter trace\n",
    "                marker_color= , # color by population\n",
    "                marker_size= , # size of markers\n",
    "                text= ) # hover text goes here\n",
    "layout = go.Layout()\n",
    "fig = go.Figure(data=data, layout=layout)\n",
    "fig.show()"
   ]
  },
  {
   "cell_type": "markdown",
   "metadata": {},
   "source": [
    "## Maps"
   ]
  },
  {
   "cell_type": "code",
   "execution_count": null,
   "metadata": {},
   "outputs": [],
   "source": [
    "fig = px.choropleth(locations= , # locations to show\n",
    "                    locationmode= , # get just US states\n",
    "                    color= , # color by population\n",
    "                    color_continuous_scale=\"Viridis\", # color scale\n",
    "                    scope= , # only view US\n",
    "                    labels=  #change color label to be population\n",
    "                   )\n",
    "fig.show()"
   ]
  },
  {
   "cell_type": "markdown",
   "metadata": {},
   "source": [
    "## Time Series Data"
   ]
  },
  {
   "cell_type": "code",
   "execution_count": null,
   "metadata": {},
   "outputs": [],
   "source": [
    "# read in apple stock data\n",
    "apple = pd.read_csv('https://raw.githubusercontent.com/plotly/datasets/master/finance-charts-apple.csv')"
   ]
  },
  {
   "cell_type": "code",
   "execution_count": null,
   "metadata": {},
   "outputs": [],
   "source": [
    "# Simple line graph of apple high prices\n",
    "fig = px.line( , # data\n",
    "               , # date for x-axis\n",
    "               ) # plot high price\n",
    "fig.show()"
   ]
  },
  {
   "cell_type": "code",
   "execution_count": null,
   "metadata": {},
   "outputs": [],
   "source": [
    "# Adding multiple lines\n",
    "# apple high and low with range slider\n",
    "fig = go.Figure()\n",
    "fig.add_trace(go.Scatter(x=apple.Date, y=apple['AAPL.High'], name=\"AAPL High\",\n",
    "                         line_color='deepskyblue'))\n",
    "\n",
    "# add a trice for the low price\n",
    "\n",
    "# add a range slider - see the plotly documentation for how to do this:\n",
    "# https://plot.ly/python/time-series/\n",
    "\n",
    "\n",
    "\n",
    "fig.show()"
   ]
  },
  {
   "cell_type": "code",
   "execution_count": null,
   "metadata": {},
   "outputs": [],
   "source": []
  }
 ],
 "metadata": {
  "kernelspec": {
   "display_name": "Python 3",
   "language": "python",
   "name": "python3"
  },
  "language_info": {
   "codemirror_mode": {
    "name": "ipython",
    "version": 3
   },
   "file_extension": ".py",
   "mimetype": "text/x-python",
   "name": "python",
   "nbconvert_exporter": "python",
   "pygments_lexer": "ipython3",
   "version": "3.7.4"
  }
 },
 "nbformat": 4,
 "nbformat_minor": 2
}
