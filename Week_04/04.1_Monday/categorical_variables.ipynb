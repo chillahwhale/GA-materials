{
 "cells": [
  {
   "cell_type": "markdown",
   "metadata": {},
   "source": [
    "<img src=\"http://imgur.com/1ZcRyrc.png\" style=\"float: left; margin: 20px; height: 55px\">\n",
    "\n",
    "## Categorical Variables\n",
    "\n",
    "_Types of categorical variables and how to deal with them_\n",
    "\n",
    "_Author: Noelle B. (DEN)_\n",
    "\n",
    "---"
   ]
  },
  {
   "cell_type": "code",
   "execution_count": null,
   "metadata": {},
   "outputs": [],
   "source": [
    "# imports\n",
    "import pandas as pd\n",
    "import numpy as np"
   ]
  },
  {
   "cell_type": "markdown",
   "metadata": {},
   "source": [
    "Data from [data.world](https://data.world/uci/teaching-assistant-evaluation/workspace/file?filename=tae.names.txt)\n",
    "\n",
    "Data Dictionary:\n",
    "\n",
    "**Attribute** | **Description**  \n",
    "--- | ---\n",
    "native_english | Whether of not the TA is a native English speaker (binary)\n",
    "instructor | Course instructor (categorical, 25 categories)\n",
    "course | Course (categorical, 26 categories)\n",
    "semester | Summer or regular semester (binary)\n",
    "class_size | Class size (numerical)\n",
    "score | Class rating - low, medium, or high (categorical)"
   ]
  },
  {
   "cell_type": "code",
   "execution_count": null,
   "metadata": {},
   "outputs": [],
   "source": [
    "# load data\n",
    "eval_data = pd.read_csv('./data/ta_evals.csv')\n",
    "eval_data.drop(columns='Unnamed: 0', inplace=True) # drop unneccesary index column"
   ]
  },
  {
   "cell_type": "code",
   "execution_count": null,
   "metadata": {},
   "outputs": [],
   "source": [
    "# view data\n"
   ]
  },
  {
   "cell_type": "code",
   "execution_count": null,
   "metadata": {},
   "outputs": [],
   "source": [
    "# check the data types\n"
   ]
  },
  {
   "cell_type": "markdown",
   "metadata": {},
   "source": [
    "**Check:**  \n",
    "List the categorical variables and whether they are nominal or ordinal.\n",
    "> **ANSWER HERE**:  "
   ]
  },
  {
   "cell_type": "markdown",
   "metadata": {},
   "source": [
    "---\n",
    "## Ordinal Categorical Variables\n",
    "We will cover the following methods (there are others too! Check [here](https://towardsdatascience.com/understanding-feature-engineering-part-2-categorical-data-f54324193e63) or [here](https://pbpython.com/categorical-encoding.html) for some additional advanced approaches):\n",
    "1. Ordinal Encoding\n",
    "2. Find & Replace"
   ]
  },
  {
   "cell_type": "markdown",
   "metadata": {},
   "source": [
    "### Method 1: Ordinal Encoding\n",
    "Having python replace your category with a number for you. Works well when you have a lot of categories and your column is ordinal. **Warning:** right now, you cannot specify order, so this might throw your actual ordering/values off."
   ]
  },
  {
   "cell_type": "code",
   "execution_count": null,
   "metadata": {},
   "outputs": [],
   "source": [
    "from sklearn.preprocessing import OrdinalEncoder\n",
    "\n"
   ]
  },
  {
   "cell_type": "code",
   "execution_count": null,
   "metadata": {},
   "outputs": [],
   "source": []
  },
  {
   "cell_type": "code",
   "execution_count": null,
   "metadata": {},
   "outputs": [],
   "source": []
  },
  {
   "cell_type": "code",
   "execution_count": null,
   "metadata": {},
   "outputs": [],
   "source": [
    "# If you only have 2 classes, feel free to use this:\n",
    "# from sklearn.preprocessing import LabelBinarizer\n",
    "# read more about it here: https://scikit-learn.org/stable/modules/generated/sklearn.preprocessing.LabelBinarizer.html\n",
    "# You can also use Label Encoder to encode your target variable if needed:\n",
    "# https://scikit-learn.org/stable/modules/generated/sklearn.preprocessing.LabelEncoder.html#sklearn.preprocessing.LabelEncoder"
   ]
  },
  {
   "cell_type": "markdown",
   "metadata": {},
   "source": [
    "### Method 2: Find & Replace\n",
    "Literally just replacing your category with a number. Works well when you do not have that many options."
   ]
  },
  {
   "cell_type": "code",
   "execution_count": null,
   "metadata": {},
   "outputs": [],
   "source": [
    "# replace data so we can re-encode our ordinal column\n",
    "eval_data = pd.read_csv('./data/ta_evals.csv', index_col=0)"
   ]
  },
  {
   "cell_type": "code",
   "execution_count": null,
   "metadata": {},
   "outputs": [],
   "source": [
    "eval_data['score'].value_counts()"
   ]
  },
  {
   "cell_type": "code",
   "execution_count": null,
   "metadata": {},
   "outputs": [],
   "source": []
  },
  {
   "cell_type": "code",
   "execution_count": null,
   "metadata": {},
   "outputs": [],
   "source": []
  },
  {
   "cell_type": "code",
   "execution_count": null,
   "metadata": {},
   "outputs": [],
   "source": []
  },
  {
   "cell_type": "code",
   "execution_count": null,
   "metadata": {},
   "outputs": [],
   "source": []
  },
  {
   "cell_type": "markdown",
   "metadata": {},
   "source": [
    "---\n",
    "## Nominal Categorical Variables\n",
    "You need to be careful when your categories are unordered. The methods we will cover are:\n",
    "3. Categorical data type\n",
    "4. One-hot Encoding"
   ]
  },
  {
   "cell_type": "markdown",
   "metadata": {},
   "source": [
    "### Method 3: Categorical Data Type\n",
    "Pandas has a data type 'category' that can be unordered. You still want this to be numerical if you are going to do modeling.\n",
    "\n",
    "_Note: you could also do this for ordered data. Just specify \"ordered = True\"_"
   ]
  },
  {
   "cell_type": "code",
   "execution_count": null,
   "metadata": {},
   "outputs": [],
   "source": [
    "from pandas.api.types import CategoricalDtype\n",
    "\n"
   ]
  },
  {
   "cell_type": "code",
   "execution_count": null,
   "metadata": {},
   "outputs": [],
   "source": []
  },
  {
   "cell_type": "code",
   "execution_count": null,
   "metadata": {},
   "outputs": [],
   "source": []
  },
  {
   "cell_type": "markdown",
   "metadata": {},
   "source": [
    "### Method 4: One-hot Encoding\n",
    "Getting binary columns."
   ]
  },
  {
   "cell_type": "code",
   "execution_count": null,
   "metadata": {},
   "outputs": [],
   "source": []
  },
  {
   "cell_type": "markdown",
   "metadata": {},
   "source": [
    "---\n",
    "## Other\n",
    "If you want to create your own custom categories, you can use a custom binary (or more) encoding method:\n",
    "1. Custom binary encoding"
   ]
  },
  {
   "cell_type": "code",
   "execution_count": null,
   "metadata": {},
   "outputs": [],
   "source": []
  },
  {
   "cell_type": "markdown",
   "metadata": {},
   "source": [
    "---\n",
    "### Resources Used\n",
    "- Data from: [data.world](https://data.world/uci/teaching-assistant-evaluation/workspace/file?filename=tae.names.txt)\n",
    "- [saedsayad](https://www.saedsayad.com/categorical_variables.html)\n",
    "- [pdpython](https://pbpython.com/categorical-encoding.html)\n",
    "- [towardsdatascience](https://towardsdatascience.com/understanding-feature-engineering-part-2-categorical-data-f54324193e63)\n",
    "- [pbpython](https://pbpython.com/pandas_dtypes_cat.html)\n",
    "- [scikit-learn documentation](https://scikit-learn.org/stable/modules/generated/sklearn.preprocessing.LabelBinarizer.html)"
   ]
  }
 ],
 "metadata": {
  "kernelspec": {
   "display_name": "Python 3",
   "language": "python",
   "name": "python3"
  },
  "language_info": {
   "codemirror_mode": {
    "name": "ipython",
    "version": 3
   },
   "file_extension": ".py",
   "mimetype": "text/x-python",
   "name": "python",
   "nbconvert_exporter": "python",
   "pygments_lexer": "ipython3",
   "version": "3.7.4"
  }
 },
 "nbformat": 4,
 "nbformat_minor": 2
}
