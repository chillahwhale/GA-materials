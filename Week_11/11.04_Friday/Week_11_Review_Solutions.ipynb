{
 "cells": [
  {
   "cell_type": "markdown",
   "metadata": {},
   "source": [
    "<img src=\"http://imgur.com/1ZcRyrc.png\" style=\"float: left; margin: 15px; height: 80px\">\n",
    "\n",
    "# Week 11 Review - Solutions\n",
    "\n",
    " _**Author:** Noelle B. (DSI-DEN)_\n",
    "\n",
    "---\n",
    "We will review the learning objectives of each lesson this week and answer questions related to them."
   ]
  },
  {
   "cell_type": "markdown",
   "metadata": {},
   "source": [
    "---\n",
    "## 11.01 Introduction to Neural Networks"
   ]
  },
  {
   "cell_type": "markdown",
   "metadata": {},
   "source": [
    "### Identify the general structure of a neural network"
   ]
  },
  {
   "cell_type": "markdown",
   "metadata": {},
   "source": [
    "**Q1.** What is the general structure of a neural network?"
   ]
  },
  {
   "cell_type": "markdown",
   "metadata": {},
   "source": [
    "> **Answer:**  \n",
    "Neural networks are comprised of an input layer, hidden layers, and an output layer. Each layer is comprised of a number of nodes."
   ]
  },
  {
   "cell_type": "markdown",
   "metadata": {},
   "source": [
    "### Define all of the common vocabulary associated with deep learning (Neuron, weight, bias, hidden layer, activation function, learning rate, epoch, etc.)"
   ]
  },
  {
   "cell_type": "markdown",
   "metadata": {},
   "source": [
    "**Q2.** Define `neuron`."
   ]
  },
  {
   "cell_type": "markdown",
   "metadata": {},
   "source": [
    "> **Answer:**  \n",
    "Neurons are the weights, bias term and activation function. NNs can have various hidden layers and each hidden layer can have various neurons. Each neuron has their own unique set of weights and bias term and potentially unique activation function in order to arrive at a single value that represents some kind of combination of all the fed in features."
   ]
  },
  {
   "cell_type": "markdown",
   "metadata": {},
   "source": [
    "**Q3.** Define `weight`."
   ]
  },
  {
   "cell_type": "markdown",
   "metadata": {},
   "source": [
    "> **Answer:**  \n",
    "Values applied to features as they flow through the network to contribute to interaction. Weights are randomly initialized and adjusted according to gradient decent on our loss function. The weights function similar to coefficients in a linear or logistic regression in which the weights multiply the original value in order to affect how much each feature contributes to the interaction term that results from the activation function."
   ]
  },
  {
   "cell_type": "markdown",
   "metadata": {},
   "source": [
    "**Q4.** Define `bias`."
   ]
  },
  {
   "cell_type": "markdown",
   "metadata": {},
   "source": [
    "> **Answer:**  \n",
    "Constant values that are added in to each neuron. These are also adjusted the same way the weights are, however they exist on their own and do not weight any other value."
   ]
  },
  {
   "cell_type": "markdown",
   "metadata": {},
   "source": [
    "**Q5.** Define `hidden layer`."
   ]
  },
  {
   "cell_type": "markdown",
   "metadata": {},
   "source": [
    "> **Answer:**  \n",
    "1 or more neurons that sit in-between our input layer (original features) and our output layer (predictive function) that are responsible for transforming the data."
   ]
  },
  {
   "cell_type": "markdown",
   "metadata": {},
   "source": [
    "**Q6.** Define `activation function`."
   ]
  },
  {
   "cell_type": "markdown",
   "metadata": {},
   "source": [
    "> **Answer:**  \n",
    "A function on the neuron that takes in the sum of all features after their weights have been applied plus the Bias term and returns a new value that will be used as a feature in the next layer."
   ]
  },
  {
   "cell_type": "markdown",
   "metadata": {},
   "source": [
    "**Q7.** Define `Learning Rate`."
   ]
  },
  {
   "cell_type": "markdown",
   "metadata": {},
   "source": [
    "> **Answer:**    \n",
    "How large the steps are that we take when moving through our loss function in order to increase/decrease weights in order to decrease total loss. (Same as gradient Descent)"
   ]
  },
  {
   "cell_type": "markdown",
   "metadata": {},
   "source": [
    "**Q8.** Define `epoch`."
   ]
  },
  {
   "cell_type": "markdown",
   "metadata": {},
   "source": [
    "> **Answer:**  \n",
    "When our full set of training data fully forward and back propagates through our network.\n",
    "- Feed the data through the network.\n",
    "- Calculate the errors.\n",
    "- Propagate backwards to adjust network to better fit the data via found errors."
   ]
  },
  {
   "cell_type": "markdown",
   "metadata": {},
   "source": [
    "### Understand forward and backward propogation"
   ]
  },
  {
   "cell_type": "markdown",
   "metadata": {},
   "source": [
    "**Q9.** Briefly describe forward propogation."
   ]
  },
  {
   "cell_type": "markdown",
   "metadata": {},
   "source": [
    "> **Answer:**  \n",
    "Forward propagation is the process of data flowing through the network in order to arrive at a predicted value."
   ]
  },
  {
   "cell_type": "markdown",
   "metadata": {},
   "source": [
    "**Q10.** Briefly describe backward propogation."
   ]
  },
  {
   "cell_type": "markdown",
   "metadata": {},
   "source": [
    "> **Answer:**  \n",
    "Backward Propagation is the act of optimizing a network be working backwards through it, starting with the errors calculate and identifying the points in the network (weights or nodes) that are contributing most to the error and adjusting them accordingly."
   ]
  },
  {
   "cell_type": "markdown",
   "metadata": {},
   "source": [
    "---\n",
    "## 11.02 Introduction to Keras"
   ]
  },
  {
   "cell_type": "markdown",
   "metadata": {},
   "source": [
    "### Build a neural network from scratch using keras"
   ]
  },
  {
   "cell_type": "markdown",
   "metadata": {},
   "source": [
    "**Q11.** Generate a basic neural network for a regression problem in keras using the generated data."
   ]
  },
  {
   "cell_type": "code",
   "execution_count": 1,
   "metadata": {},
   "outputs": [],
   "source": [
    "import numpy as np\n",
    "from sklearn.datasets import make_regression\n",
    "from sklearn.preprocessing import StandardScaler\n",
    "from sklearn.model_selection import train_test_split\n",
    "from tensorflow.keras.models import Sequential\n",
    "from tensorflow.keras.layers import Dense\n",
    "\n",
    "# data\n",
    "X, y = make_regression(n_samples=10000, n_features=20, random_state=42)\n",
    "\n",
    "X_train, X_test, y_train, y_test = train_test_split(X, y, random_state=2021)\n",
    "\n",
    "ss = StandardScaler()\n",
    "X_train_sc = ss.fit_transform(X_train)\n",
    "X_test_sc = ss.transform(X_test)"
   ]
  },
  {
   "cell_type": "code",
   "execution_count": 2,
   "metadata": {},
   "outputs": [
    {
     "name": "stdout",
     "output_type": "stream",
     "text": [
      "Train on 7500 samples, validate on 2500 samples\n",
      "Epoch 1/5\n",
      "7500/7500 [==============================] - 1s 101us/sample - loss: 39539.6856 - mae: 158.8467 - val_loss: 41404.9202 - val_mae: 163.9947\n",
      "Epoch 2/5\n",
      "7500/7500 [==============================] - 0s 9us/sample - loss: 39484.5990 - mae: 158.7350 - val_loss: 41345.8838 - val_mae: 163.8770\n",
      "Epoch 3/5\n",
      "7500/7500 [==============================] - 0s 8us/sample - loss: 39425.2211 - mae: 158.6145 - val_loss: 41281.1571 - val_mae: 163.7483\n",
      "Epoch 4/5\n",
      "7500/7500 [==============================] - 0s 8us/sample - loss: 39359.4748 - mae: 158.4811 - val_loss: 41206.4521 - val_mae: 163.5993\n",
      "Epoch 5/5\n",
      "7500/7500 [==============================] - 0s 8us/sample - loss: 39282.5156 - mae: 158.3238 - val_loss: 41119.5101 - val_mae: 163.4265\n"
     ]
    },
    {
     "data": {
      "text/plain": [
       "<tensorflow.python.keras.callbacks.History at 0x137cbae10>"
      ]
     },
     "execution_count": 2,
     "metadata": {},
     "output_type": "execute_result"
    }
   ],
   "source": [
    "# answer\n",
    "model = Sequential()\n",
    "model.add(Dense(32, \n",
    "                input_shape=(20,),\n",
    "                activation='relu'))\n",
    "model.add(Dense(1))\n",
    "\n",
    "model.compile(loss='mse', optimizer='adam', metrics=['mae'])\n",
    "\n",
    "model.fit(X_train_sc, y_train, validation_data=(X_test_sc, y_test), epochs=5, batch_size=512)"
   ]
  },
  {
   "cell_type": "markdown",
   "metadata": {},
   "source": [
    "### Understand the differences in creating regression, binary classification, and multi-class classification ANN models"
   ]
  },
  {
   "cell_type": "markdown",
   "metadata": {},
   "source": [
    "**Q12.** Which activation function should we use for the output layer of a regression NN?"
   ]
  },
  {
   "cell_type": "markdown",
   "metadata": {},
   "source": [
    "> **Answer:**  \n",
    "Linear/identity"
   ]
  },
  {
   "cell_type": "markdown",
   "metadata": {},
   "source": [
    "**Q13.** Which activation function should we use for the output layer of a binary classification NN?"
   ]
  },
  {
   "cell_type": "markdown",
   "metadata": {},
   "source": [
    "> **Answer:**  \n",
    "Sigmoid"
   ]
  },
  {
   "cell_type": "markdown",
   "metadata": {},
   "source": [
    "**Q14.** Which activation function should we use for the output layer of a multi-class classification NN?"
   ]
  },
  {
   "cell_type": "markdown",
   "metadata": {},
   "source": [
    "> **Answer:**  \n",
    "Softmax"
   ]
  },
  {
   "cell_type": "markdown",
   "metadata": {},
   "source": [
    "### Visualize model training with matplotlib"
   ]
  },
  {
   "cell_type": "markdown",
   "metadata": {},
   "source": [
    "**Q15.** Using the neural network below, visualize the training and testing loss."
   ]
  },
  {
   "cell_type": "code",
   "execution_count": 5,
   "metadata": {},
   "outputs": [],
   "source": [
    "import numpy as np\n",
    "from sklearn.datasets import make_classification\n",
    "from sklearn.preprocessing import StandardScaler\n",
    "from sklearn.model_selection import train_test_split\n",
    "from tensorflow.keras.models import Sequential\n",
    "from tensorflow.keras.layers import Dense\n",
    "import matplotlib.pyplot as plt\n",
    "%matplotlib inline\n",
    "\n",
    "# data\n",
    "X, y = make_classification(n_samples=10_000, n_features=20, random_state=42)\n",
    "\n",
    "X_train, X_test, y_train, y_test = train_test_split(X, y, random_state=2021)\n",
    "\n",
    "ss = StandardScaler()\n",
    "X_train_sc = ss.fit_transform(X_train)\n",
    "X_test_sc = ss.transform(X_test)\n",
    "\n",
    "model = Sequential()\n",
    "model.add(Dense(32,\n",
    "                input_shape=(20,),\n",
    "                activation='relu'))\n",
    "model.add(Dense(1, activation='sigmoid'))\n",
    "\n",
    "model.compile(loss='binary_crossentropy', metrics=['acc'], optimizer='adam')\n",
    "\n",
    "history = model.fit(X_train_sc, y_train, validation_data=(X_test_sc, y_test), epochs=20, batch_size=512, verbose=0)"
   ]
  },
  {
   "cell_type": "code",
   "execution_count": 6,
   "metadata": {},
   "outputs": [
    {
     "data": {
      "image/png": "[encoded data removed]",
      "text/plain": [
       "<Figure size 432x288 with 1 Axes>"
      ]
     },
     "metadata": {
      "needs_background": "light"
     },
     "output_type": "display_data"
    }
   ],
   "source": [
    "# answer\n",
    "plt.plot(history.history['loss'], label='Train loss')\n",
    "plt.plot(history.history['val_loss'], label='Val Loss')\n",
    "plt.legend();"
   ]
  },
  {
   "cell_type": "markdown",
   "metadata": {},
   "source": [
    "---\n",
    "## 11.03 Deep Learning Regularization"
   ]
  },
  {
   "cell_type": "markdown",
   "metadata": {},
   "source": [
    "### Explain how the three deep learning regularization techniques work (L1/L2 regularization, Dropout, Early stopping)"
   ]
  },
  {
   "cell_type": "markdown",
   "metadata": {},
   "source": [
    "**Q16.** Describe L1/L2 regularization for deep learning models."
   ]
  },
  {
   "cell_type": "markdown",
   "metadata": {},
   "source": [
    "> **Answer:**  \n",
    "- Incorporating either LASSO or Ridge regularization into back propagation is as simple as adding the regularization term to the loss function (ok, not very simple at all when you look at the math)\n",
    "- L1 typically isn't used in NNs.\n",
    "- L2 is much more popular and sometimes referred to as \"weight decay\"."
   ]
  },
  {
   "cell_type": "markdown",
   "metadata": {},
   "source": [
    "**Q17.** Describe dropout."
   ]
  },
  {
   "cell_type": "markdown",
   "metadata": {},
   "source": [
    "> **Answer:**  \n",
    "- The process of randomly removing nodes in training epochs to see how it affects the model. A NN with densly connected layers will have the tendency to overfit so we can utilize drop out in order better understand if nodes should be removed or kept. (Similar to how Random Forests reduce variance and overfitting.)\n",
    "- Dropouts can occur at any epoch and the models \"constant fear\" of loosing a node at any time prevents the over adjustment of a weight for an epoch."
   ]
  },
  {
   "cell_type": "markdown",
   "metadata": {},
   "source": [
    "**Q18.** Describe early stopping."
   ]
  },
  {
   "cell_type": "markdown",
   "metadata": {},
   "source": [
    ">**Answer:**   \n",
    "Compares how much the loss function is changes and stops the algorithm once it hits the point where the loss function starts to go up. This is done with the assumption that the first minimum that was hit it the global minimum."
   ]
  },
  {
   "cell_type": "markdown",
   "metadata": {},
   "source": [
    "### Implement these techniques in Keras"
   ]
  },
  {
   "cell_type": "markdown",
   "metadata": {},
   "source": [
    "**Q19.** Using the data below, build a binary classification neural network in kearas using an early stopping technique."
   ]
  },
  {
   "cell_type": "code",
   "execution_count": 16,
   "metadata": {},
   "outputs": [],
   "source": [
    "import numpy as np\n",
    "from sklearn.datasets import make_classification\n",
    "from sklearn.preprocessing import StandardScaler\n",
    "from sklearn.model_selection import train_test_split\n",
    "from tensorflow.keras.models import Sequential\n",
    "from tensorflow.keras.layers import Dense\n",
    "from tensorflow.keras.callbacks import EarlyStopping\n",
    "\n",
    "# data\n",
    "X, y = make_classification(n_samples=10_000, n_features=20, random_state=42)\n",
    "\n",
    "X_train, X_test, y_train, y_test = train_test_split(X, y, random_state=2021)\n",
    "\n",
    "ss = StandardScaler()\n",
    "X_train_sc = ss.fit_transform(X_train)\n",
    "X_test_sc = ss.transform(X_test)"
   ]
  },
  {
   "cell_type": "code",
   "execution_count": 17,
   "metadata": {},
   "outputs": [
    {
     "name": "stdout",
     "output_type": "stream",
     "text": [
      "Train on 7500 samples, validate on 2500 samples\n",
      "Epoch 1/10\n",
      "7500/7500 [==============================] - 1s 141us/sample - loss: 0.4754 - acc: 0.7913 - val_loss: 0.3569 - val_acc: 0.8696\n",
      "Epoch 2/10\n",
      "7500/7500 [==============================] - 1s 71us/sample - loss: 0.3237 - acc: 0.8780 - val_loss: 0.2998 - val_acc: 0.8872\n",
      "Epoch 3/10\n",
      "7500/7500 [==============================] - 1s 71us/sample - loss: 0.2932 - acc: 0.8895 - val_loss: 0.2862 - val_acc: 0.8940\n",
      "Epoch 4/10\n",
      "7500/7500 [==============================] - 1s 70us/sample - loss: 0.2793 - acc: 0.8977 - val_loss: 0.2757 - val_acc: 0.9012\n",
      "Epoch 5/10\n",
      "7500/7500 [==============================] - 1s 71us/sample - loss: 0.2671 - acc: 0.9063 - val_loss: 0.2653 - val_acc: 0.9036\n",
      "Epoch 6/10\n",
      "7500/7500 [==============================] - 1s 76us/sample - loss: 0.2567 - acc: 0.9161 - val_loss: 0.2554 - val_acc: 0.9092\n",
      "Epoch 7/10\n",
      "7500/7500 [==============================] - 1s 72us/sample - loss: 0.2483 - acc: 0.9223 - val_loss: 0.2494 - val_acc: 0.9156\n",
      "Epoch 8/10\n",
      "7500/7500 [==============================] - 1s 76us/sample - loss: 0.2427 - acc: 0.9259 - val_loss: 0.2444 - val_acc: 0.9204\n",
      "Epoch 9/10\n",
      "7500/7500 [==============================] - 1s 81us/sample - loss: 0.2386 - acc: 0.9293 - val_loss: 0.2433 - val_acc: 0.9212\n",
      "Epoch 10/10\n",
      "7500/7500 [==============================] - 1s 78us/sample - loss: 0.2357 - acc: 0.9315 - val_loss: 0.2412 - val_acc: 0.9216\n"
     ]
    }
   ],
   "source": [
    "# answer:\n",
    "model_es = Sequential()\n",
    "\n",
    "n_input = X_train_sc.shape[1]\n",
    "\n",
    "model_es.add(Dense(n_hidden, input_dim=n_input, activation='relu'))\n",
    "model_es.add(Dense(1, activation='sigmoid'))\n",
    "\n",
    "model_es.compile(loss='binary_crossentropy', optimizer='adam', metrics=['acc'])\n",
    "\n",
    "early_stop = EarlyStopping(monitor='val_loss', min_delta=0, patience=5, verbose=1, mode='auto')\n",
    "\n",
    "history_es = model_es.fit(\n",
    "    X_train_sc,\n",
    "    y_train,\n",
    "    validation_data=(X_test_sc, y_test),\n",
    "    epochs=10,\n",
    "    batch_size=None,\n",
    "    callbacks=[early_stop]\n",
    ")"
   ]
  },
  {
   "cell_type": "markdown",
   "metadata": {},
   "source": [
    "**Q20.** Using the data below, build a binary classification neural network in keras using a dropout technique."
   ]
  },
  {
   "cell_type": "code",
   "execution_count": 11,
   "metadata": {},
   "outputs": [],
   "source": [
    "import numpy as np\n",
    "from sklearn.datasets import make_classification\n",
    "from sklearn.preprocessing import StandardScaler\n",
    "from sklearn.model_selection import train_test_split\n",
    "from tensorflow.keras.models import Sequential\n",
    "from tensorflow.keras.layers import Dense\n",
    "from tensorflow.keras.layers import Dropout\n",
    "\n",
    "# data\n",
    "X, y = make_classification(n_samples=10_000, n_features=20, random_state=42)\n",
    "\n",
    "X_train, X_test, y_train, y_test = train_test_split(X, y, random_state=2021)\n",
    "\n",
    "ss = StandardScaler()\n",
    "X_train_sc = ss.fit_transform(X_train)\n",
    "X_test_sc = ss.transform(X_test)"
   ]
  },
  {
   "cell_type": "code",
   "execution_count": 13,
   "metadata": {},
   "outputs": [
    {
     "name": "stdout",
     "output_type": "stream",
     "text": [
      "Train on 7500 samples, validate on 2500 samples\n",
      "Epoch 1/10\n",
      "7500/7500 [==============================] - 2s 232us/sample - loss: 0.6889 - acc: 0.6175 - val_loss: 0.4745 - val_acc: 0.8284\n",
      "Epoch 2/10\n",
      "7500/7500 [==============================] - 1s 73us/sample - loss: 0.4626 - acc: 0.7907 - val_loss: 0.3504 - val_acc: 0.8720\n",
      "Epoch 3/10\n",
      "7500/7500 [==============================] - 1s 67us/sample - loss: 0.3797 - acc: 0.8424 - val_loss: 0.3104 - val_acc: 0.8836\n",
      "Epoch 4/10\n",
      "7500/7500 [==============================] - 0s 66us/sample - loss: 0.3560 - acc: 0.8588 - val_loss: 0.2972 - val_acc: 0.8876\n",
      "Epoch 5/10\n",
      "7500/7500 [==============================] - 1s 70us/sample - loss: 0.3359 - acc: 0.8715 - val_loss: 0.2905 - val_acc: 0.8920\n",
      "Epoch 6/10\n",
      "7500/7500 [==============================] - 1s 70us/sample - loss: 0.3235 - acc: 0.8753 - val_loss: 0.2865 - val_acc: 0.8952\n",
      "Epoch 7/10\n",
      "7500/7500 [==============================] - 0s 65us/sample - loss: 0.3179 - acc: 0.8820 - val_loss: 0.2812 - val_acc: 0.8976\n",
      "Epoch 8/10\n",
      "7500/7500 [==============================] - 0s 66us/sample - loss: 0.3097 - acc: 0.8860 - val_loss: 0.2778 - val_acc: 0.8984\n",
      "Epoch 9/10\n",
      "7500/7500 [==============================] - 0s 65us/sample - loss: 0.3123 - acc: 0.8855 - val_loss: 0.2742 - val_acc: 0.9028\n",
      "Epoch 10/10\n",
      "7500/7500 [==============================] - 1s 68us/sample - loss: 0.3000 - acc: 0.8939 - val_loss: 0.2706 - val_acc: 0.9028\n"
     ]
    }
   ],
   "source": [
    "# answer:\n",
    "model_dropout = Sequential()\n",
    "\n",
    "\n",
    "n_input = X_train_sc.shape[1]\n",
    "n_hidden = n_input\n",
    "\n",
    "model_dropout.add(Dense(n_hidden, input_dim=n_input, activation='relu'))\n",
    "model_dropout.add(Dropout(0.5))\n",
    "model_dropout.add(Dense(1, activation='sigmoid'))\n",
    "\n",
    "model_dropout.compile(loss='binary_crossentropy', optimizer='adam', metrics=['acc'])\n",
    "\n",
    "history_dropout = model_dropout.fit(\n",
    "    X_train_sc,\n",
    "    y_train,\n",
    "    validation_data=(X_test_sc, y_test), \n",
    "    epochs=10,\n",
    "    batch_size=None\n",
    ")"
   ]
  },
  {
   "cell_type": "markdown",
   "metadata": {},
   "source": [
    "---\n",
    "## 11.04 Convolutional Neural Networks"
   ]
  },
  {
   "cell_type": "markdown",
   "metadata": {},
   "source": [
    "### Identify use cases for convolutional neural networks and when they are superior to other neural networks."
   ]
  },
  {
   "cell_type": "markdown",
   "metadata": {},
   "source": [
    "**Q21.** Identify use cases for CNNs."
   ]
  },
  {
   "cell_type": "markdown",
   "metadata": {},
   "source": [
    "> **Answer:**  \n",
    "Convolutional NNs consider features related to one another via proximity, this makes them great for assessing pictures because they are able to break down a picture the way humans do, by focusing one specific areas of the photo."
   ]
  },
  {
   "cell_type": "markdown",
   "metadata": {},
   "source": [
    "### Describe convolutional and pooling layers."
   ]
  },
  {
   "cell_type": "markdown",
   "metadata": {},
   "source": [
    "**Q22.** What are convolutional layers?"
   ]
  },
  {
   "cell_type": "markdown",
   "metadata": {},
   "source": [
    ">**Answer:**  \n",
    "\"A convolution is the simple application of a filter to an input that results in an activation. Repeated application of the same filter to an input results in a map of activations called a feature map, indicating the locations and strength of a detected feature in an input, such as an image.\" [source](https://machinelearningmastery.com/convolutional-layers-for-deep-learning-neural-networks/)"
   ]
  },
  {
   "cell_type": "markdown",
   "metadata": {},
   "source": [
    "**Q23.** What are pooling layers?"
   ]
  },
  {
   "cell_type": "markdown",
   "metadata": {},
   "source": [
    ">**Answer:**  \n",
    "Pooling layers allow us to compress output from the convolution layers.\n",
    "- Max Pooling is typically the tactic used in the pooling layer. This identifies and takes the strongest/most important info for retention.\n",
    "- Pooling is done independently across channels. (Each \"node\" has its own unique pooling)"
   ]
  },
  {
   "cell_type": "markdown",
   "metadata": {},
   "source": [
    "### Define padding and filters."
   ]
  },
  {
   "cell_type": "markdown",
   "metadata": {},
   "source": [
    "**Q24.** Define padding."
   ]
  },
  {
   "cell_type": "markdown",
   "metadata": {},
   "source": [
    ">**Answer:**  \n",
    "Given that the way edges flow over a picture an aspect of padding can be added.  This is essentially adding boarding cells of neutral values around a picture so that pixels that are in corners or along edges can be considered more often\n",
    "- In the event there is something important in the corner of an image, without having padding that corner may only be considered once.\n",
    "- Typically we as humans gravitate our focus towards the center of an image and work outward, they further away from the center objects are in a picture the less we notice them, think about what happens in the corners of pictures.  Its typically not a place you consciously look at when looking at a picture, padding tries to combat NNs from picking up on this same habit."
   ]
  },
  {
   "cell_type": "markdown",
   "metadata": {},
   "source": [
    "**Q25.** Define filters."
   ]
  },
  {
   "cell_type": "markdown",
   "metadata": {},
   "source": [
    ">**Answer:**  \n",
    "Each filter can detect one type of feature in an image (like vertical edges)."
   ]
  },
  {
   "cell_type": "markdown",
   "metadata": {},
   "source": [
    "### Fit CNNs in Keras."
   ]
  },
  {
   "cell_type": "markdown",
   "metadata": {},
   "source": [
    "**Q26.** Using the data below, fit a CNN in Keras."
   ]
  },
  {
   "cell_type": "code",
   "execution_count": 18,
   "metadata": {},
   "outputs": [],
   "source": [
    "import numpy as np\n",
    "# For reproducibility\n",
    "np.random.seed(2021)\n",
    "from tensorflow.keras.models import Sequential\n",
    "from tensorflow.keras.layers import Dense, Dropout, Flatten, Conv2D, MaxPooling2D\n",
    "from tensorflow.keras import utils\n",
    "from tensorflow.keras.datasets import mnist\n",
    " \n",
    "# Load pre-shuffled MNIST data into train and test sets\n",
    "(X_train, y_train), (X_test, y_test) = mnist.load_data()\n",
    "\n",
    "X_train = X_train.reshape(X_train.shape[0], 28, 28, 1)\n",
    "X_test = X_test.reshape(X_test.shape[0], 28, 28, 1)\n",
    "\n",
    "y_train = utils.to_categorical(y_train, 10)\n",
    "y_test = utils.to_categorical(y_test, 10)"
   ]
  },
  {
   "cell_type": "code",
   "execution_count": 20,
   "metadata": {},
   "outputs": [
    {
     "name": "stdout",
     "output_type": "stream",
     "text": [
      "Train on 60000 samples, validate on 10000 samples\n",
      "Epoch 1/10\n",
      "60000/60000 [==============================] - 17s 279us/sample - loss: 1.6877 - accuracy: 0.8486 - val_loss: 0.2803 - val_accuracy: 0.9427\n",
      "Epoch 2/10\n",
      "60000/60000 [==============================] - 18s 302us/sample - loss: 0.2107 - accuracy: 0.9524 - val_loss: 0.1762 - val_accuracy: 0.9600\n",
      "Epoch 3/10\n",
      "60000/60000 [==============================] - 20s 340us/sample - loss: 0.1267 - accuracy: 0.9677 - val_loss: 0.1468 - val_accuracy: 0.9674\n",
      "Epoch 4/10\n",
      "60000/60000 [==============================] - 20s 341us/sample - loss: 0.0872 - accuracy: 0.9767 - val_loss: 0.1305 - val_accuracy: 0.9704\n",
      "Epoch 5/10\n",
      "60000/60000 [==============================] - 19s 325us/sample - loss: 0.0652 - accuracy: 0.9814 - val_loss: 0.1132 - val_accuracy: 0.9743\n",
      "Epoch 6/10\n",
      "60000/60000 [==============================] - 17s 278us/sample - loss: 0.0476 - accuracy: 0.9856 - val_loss: 0.1154 - val_accuracy: 0.9731\n",
      "Epoch 7/10\n",
      "60000/60000 [==============================] - 18s 301us/sample - loss: 0.0363 - accuracy: 0.9887 - val_loss: 0.1119 - val_accuracy: 0.9748\n",
      "Epoch 8/10\n",
      "60000/60000 [==============================] - 19s 312us/sample - loss: 0.0275 - accuracy: 0.9914 - val_loss: 0.1008 - val_accuracy: 0.9768\n",
      "Epoch 9/10\n",
      "60000/60000 [==============================] - 17s 280us/sample - loss: 0.0250 - accuracy: 0.9917 - val_loss: 0.1079 - val_accuracy: 0.9768\n",
      "Epoch 10/10\n",
      "60000/60000 [==============================] - 17s 287us/sample - loss: 0.0207 - accuracy: 0.9929 - val_loss: 0.0981 - val_accuracy: 0.9799\n"
     ]
    }
   ],
   "source": [
    "# answer:\n",
    "cnn_model = Sequential()\n",
    "\n",
    "cnn_model.add(Conv2D(filters=6,            \n",
    "                     kernel_size=(3, 3),     \n",
    "                     activation='relu', \n",
    "                     input_shape=(28, 28, 1)))\n",
    "\n",
    "cnn_model.add(MaxPooling2D(pool_size=(2, 2))) \n",
    "\n",
    "cnn_model.add(Conv2D(16,\n",
    "                     kernel_size = (3, 3),\n",
    "                     activation='relu'))\n",
    "\n",
    "cnn_model.add(MaxPooling2D(pool_size=(2, 2)))\n",
    "\n",
    "cnn_model.add(Flatten())\n",
    "\n",
    "cnn_model.add(Dense(128, activation='relu'))\n",
    "\n",
    "cnn_model.add(Dense(10, activation='softmax'))\n",
    "\n",
    "cnn_model.compile(loss='categorical_crossentropy',\n",
    "                  optimizer='adam',\n",
    "                  metrics=['accuracy'])\n",
    "\n",
    "history = cnn_model.fit(X_train,\n",
    "                        y_train,\n",
    "                        batch_size=256,\n",
    "                        validation_data=(X_test, y_test),\n",
    "                        epochs=10,\n",
    "                        verbose=1)"
   ]
  },
  {
   "cell_type": "markdown",
   "metadata": {},
   "source": [
    "### Understand how edge detection works in CNNs. (optional)"
   ]
  },
  {
   "cell_type": "markdown",
   "metadata": {},
   "source": [
    "**Q27.** (Optional) How does edge detection work in a CNN?"
   ]
  },
  {
   "cell_type": "markdown",
   "metadata": {},
   "source": [
    "> **Answer:**  \n",
    "- An edge is identified by discontinuity in an image typically in color.\n",
    "- When we pass our weights window over a panel of data in a picture we transform and map the image into smaller dimensions.\n",
    "- Our Window will have conflicting/balanced weights on each side of it, one side very positive and one side very negative. If there is a significant difference in color/greyscale (what we would interpret as a edge). When the window passes over it, the weights applied on each side of the window will no longer neutral out and instead result in a significant positive or negative value indicating there is a drastic difference in shading from one side of the window to another."
   ]
  },
  {
   "cell_type": "markdown",
   "metadata": {},
   "source": [
    "---\n",
    "## 11.05 Recurrent Neural Networks"
   ]
  },
  {
   "cell_type": "markdown",
   "metadata": {},
   "source": [
    "### Design, train and evaluate an RNN model"
   ]
  },
  {
   "cell_type": "markdown",
   "metadata": {},
   "source": [
    "**Q28.** Briefly describe how an RNN model works."
   ]
  },
  {
   "cell_type": "markdown",
   "metadata": {},
   "source": [
    "> **Answer:**  \n",
    "\"RNNs can take one or more input vectors and produce one or more output vectors and the output(s) are influenced not just by weights applied on inputs like a regular NN, but also by a “hidden” state vector representing the context based on prior input(s)/output(s). So, the same input could produce a different output depending on previous inputs in the series.\" [source](https://towardsdatascience.com/recurrent-neural-networks-d4642c9bc7ce)"
   ]
  },
  {
   "cell_type": "markdown",
   "metadata": {},
   "source": [
    "**Q29.** What are some use cases of RNNs?"
   ]
  },
  {
   "cell_type": "markdown",
   "metadata": {},
   "source": [
    "> **Answer:**  \n",
    "Natural language processing, time series"
   ]
  },
  {
   "cell_type": "markdown",
   "metadata": {},
   "source": [
    "---\n",
    "## 11.06 GridSearch with Keras"
   ]
  },
  {
   "cell_type": "markdown",
   "metadata": {},
   "source": [
    "### Learn how to use keras's scikit_learn wrappers."
   ]
  },
  {
   "cell_type": "markdown",
   "metadata": {},
   "source": [
    "**Q30.** What do kera's scikit_learn wrappers help with?"
   ]
  },
  {
   "cell_type": "markdown",
   "metadata": {},
   "source": [
    "> **Answer:**  \n",
    "These allow us to use sklearn tools such as gridseach with a neural network built in keras."
   ]
  },
  {
   "cell_type": "markdown",
   "metadata": {},
   "source": [
    "### Use GridSearchCV to tune a keras model"
   ]
  },
  {
   "cell_type": "markdown",
   "metadata": {},
   "source": [
    "**Q31.** Use the given data to tune a keras regression model using GridSearchCV."
   ]
  },
  {
   "cell_type": "code",
   "execution_count": 21,
   "metadata": {},
   "outputs": [],
   "source": [
    "from sklearn.datasets import make_regression\n",
    "from sklearn.preprocessing import StandardScaler\n",
    "from sklearn.model_selection import train_test_split, GridSearchCV\n",
    "from sklearn import metrics\n",
    "\n",
    "from tensorflow.keras.models import Sequential\n",
    "from tensorflow.keras.layers import Dense, Dropout\n",
    "from tensorflow.keras.wrappers.scikit_learn import KerasRegressor\n",
    "\n",
    "X, y = make_regression(n_samples=10_000, n_features=20, random_state=42)\n",
    "\n",
    "X_train, X_test, y_train, y_test = train_test_split(X, y, random_state=42)\n",
    "\n",
    "ss = StandardScaler()\n",
    "X_train_sc = ss.fit_transform(X_train)\n",
    "X_test_sc = ss.transform(X_test)"
   ]
  },
  {
   "cell_type": "code",
   "execution_count": 22,
   "metadata": {},
   "outputs": [
    {
     "name": "stdout",
     "output_type": "stream",
     "text": [
      "-1503.1744921223958\n"
     ]
    },
    {
     "data": {
      "text/plain": [
       "{'epochs': 50, 'layer_one_neurons': 32, 'layer_two_neurons': 32}"
      ]
     },
     "execution_count": 22,
     "metadata": {},
     "output_type": "execute_result"
    }
   ],
   "source": [
    "# Answer:\n",
    "def model_func(layer_one_neurons=32, layer_two_neurons=32):\n",
    "    model = Sequential()\n",
    "    \n",
    "    model.add(Dense(layer_one_neurons, activation='relu', input_shape=(20,)))\n",
    "    \n",
    "    model.add(Dense(layer_two_neurons, activation='relu'))\n",
    "    \n",
    "    model.add(Dense(1, activation=None))\n",
    "    \n",
    "    model.compile(loss='mse', optimizer='adam')\n",
    "    \n",
    "    return model\n",
    "\n",
    "nn = KerasRegressor(build_fn=model_func, batch_size=512, verbose=0)\n",
    "\n",
    "params = {\n",
    "    'epochs': [50],\n",
    "    'layer_one_neurons': [32],\n",
    "    'layer_two_neurons': [32]\n",
    "}\n",
    "\n",
    "gs = GridSearchCV(nn, param_grid=params, cv=2)\n",
    "gs.fit(X_train_sc, y_train)\n",
    "print(gs.best_score_)\n",
    "gs.best_params_"
   ]
  }
 ],
 "metadata": {
  "kernelspec": {
   "display_name": "Python 3",
   "language": "python",
   "name": "python3"
  },
  "language_info": {
   "codemirror_mode": {
    "name": "ipython",
    "version": 3
   },
   "file_extension": ".py",
   "mimetype": "text/x-python",
   "name": "python",
   "nbconvert_exporter": "python",
   "pygments_lexer": "ipython3",
   "version": "3.7.4"
  }
 },
 "nbformat": 4,
 "nbformat_minor": 2
}
