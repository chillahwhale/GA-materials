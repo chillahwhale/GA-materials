{
 "cells": [
  {
   "cell_type": "markdown",
   "metadata": {},
   "source": [
    "<img src=\"http://imgur.com/1ZcRyrc.png\" style=\"float: left; margin: 15px; height: 80px\">\n",
    "\n",
    "# Week 10 Review - Solutions\n",
    "\n",
    " _**Author:** Noelle B. (DSI-DEN)_\n",
    "\n",
    "---\n",
    "We will review the learning objectives of each lesson this week and answer questions related to them."
   ]
  },
  {
   "cell_type": "markdown",
   "metadata": {},
   "source": [
    "---\n",
    "## 10.01 Bayesian Statistics I"
   ]
  },
  {
   "cell_type": "markdown",
   "metadata": {},
   "source": [
    "### Understand Bayes Theorem and how it's derived."
   ]
  },
  {
   "cell_type": "markdown",
   "metadata": {},
   "source": [
    "**Q1.** What is Bayes Theorem?"
   ]
  },
  {
   "cell_type": "markdown",
   "metadata": {},
   "source": [
    "> **Answer:**  \n",
    "Bayes theorem is used to find the probability of events given prior likelihoods.\n",
    "$$ P(A|B) = \\frac{P(B|A)\\;P(A)}{P(B)} $$"
   ]
  },
  {
   "cell_type": "markdown",
   "metadata": {},
   "source": [
    "### Know how joint probability plays a role in Bayes Theorem"
   ]
  },
  {
   "cell_type": "markdown",
   "metadata": {},
   "source": [
    "**Q2.** What is joint probability and how is it used in Bayes Theorem?"
   ]
  },
  {
   "cell_type": "markdown",
   "metadata": {},
   "source": [
    "> **Answer:**  \n",
    "Joint probability is the probability that two events occur together. In Bayes theorem, this is seen in the numerator of the equation:\n",
    "$$ P(A|B) = \\frac{P(B|A)\\;P(A)}{P(B)} $$  \n",
    "where $$ P(B|A)\\;P(A) $$ is the joint probability of B and A."
   ]
  },
  {
   "cell_type": "markdown",
   "metadata": {},
   "source": [
    "### Understand the Law of Total Probability"
   ]
  },
  {
   "cell_type": "markdown",
   "metadata": {},
   "source": [
    "**Q3.** What is the Law of Total Probability?"
   ]
  },
  {
   "cell_type": "markdown",
   "metadata": {},
   "source": [
    "> **Answer:**  \n",
    "$$ P(B) = \\sum_{i=i}^{n}{P(B \\cap A_i)} $$  "
   ]
  },
  {
   "cell_type": "markdown",
   "metadata": {},
   "source": [
    "### Use Bayes Theorem to solve the Monty Hall problem"
   ]
  },
  {
   "cell_type": "markdown",
   "metadata": {},
   "source": [
    "**Q4.** \"Let's Make a Deal\" features three doors labeled \"A\", \"B\", and \"C\". As a contestant, you are told that behind exactly one door there is a new car. Behind the other two doors are goats. Your goal is to select the door with the car behind it.  \n",
    "\n",
    "After you choose a door (Door A), Monty Hall will show you a goat in one of the other two doors (Door B). He then gives you the option to either keep your original choice (Door A) or switch to the last remaining door (Door C).  \n",
    "\n",
    "Use Bayes Theorem to justify whether you should switch to Door C or stay with Door A."
   ]
  },
  {
   "cell_type": "markdown",
   "metadata": {},
   "source": [
    "> **Answer:**  \n",
    "Strategy 1 (Stick with Door A):  \n",
    "$$ P(A|mB) = \\frac{P(mB|A)\\;P(A)}{P(mB)} $$  \n",
    "$$ P(A|mB) = \\frac{P(mB|A)\\;P(A)}{P(mB|A)\\;P(A)+P(mB|B)\\;P(B)+P(mB|C)\\;P(C)} $$  \n",
    "Priors:\n",
    "$$ P(A) = \\frac{1}{3} $$\n",
    "$$ P(B) = \\frac{1}{3} $$\n",
    "$$ P(C) = \\frac{1}{3} $$\n",
    "Other terms:\n",
    "$$ P(mB|B) = 0 $$\n",
    "$$ P(mB|C) = 1 $$\n",
    "$$ P(mB|A) = \\frac{1}{2} $$\n",
    "So...\n",
    "$$ P(A|mB) = \\frac{\\frac{1}{2}*\\frac{1}{3}}{\\frac{1}{2}*\\frac{1}{3}+0*\\frac{1}{3}+1*\\frac{1}{3}} $$  \n",
    "$$ P(A|mB) = \\frac{1}{3} $$\n",
    "\n",
    "Strategy 2 (Switch to Door C):  \n",
    "$$ P(C|mB) = \\frac{P(mB|C)\\;P(C)}{P(mB)} $$  \n",
    "$$ P(C|mB) = \\frac{P(mB|C)\\;P(C)}{P(mB|A)\\;P(A)+P(mB|B)\\;P(B)+P(mB|C)\\;P(C)} $$  \n",
    "So...\n",
    "$$ P(C|mB) = \\frac{1*\\frac{1}{3}}{\\frac{1}{2}*\\frac{1}{3}+0*\\frac{1}{3}+1*\\frac{1}{3}} $$ \n",
    "$$ P(A|mB) = \\frac{2}{3} $$\n",
    "So, you should switch!"
   ]
  },
  {
   "cell_type": "markdown",
   "metadata": {},
   "source": [
    "---\n",
    "## 10.02 Bayesian Statistics II"
   ]
  },
  {
   "cell_type": "markdown",
   "metadata": {},
   "source": [
    "### Describe questions that can be answered by Bayesian inference."
   ]
  },
  {
   "cell_type": "markdown",
   "metadata": {},
   "source": [
    "**Q5.** Give an example of two questions that can be answered by Bayesian inference."
   ]
  },
  {
   "cell_type": "markdown",
   "metadata": {},
   "source": [
    "> **Answer:**  \n",
    "(Answers will vary)  \n",
    "- What is the probability that Drug A causes a higher drop in blood pressure than Drug B?\n",
    "- What is the probability that as lot area increases by 1, sale price increases by at least $100?"
   ]
  },
  {
   "cell_type": "markdown",
   "metadata": {},
   "source": [
    "### Compare and contrast Bayesian and Frequentist inference."
   ]
  },
  {
   "cell_type": "markdown",
   "metadata": {},
   "source": [
    "**Q6.** Compare and contrast Bayesian and Frequentist inference."
   ]
  },
  {
   "cell_type": "markdown",
   "metadata": {},
   "source": [
    "> **Answer:** (from global lesson 10.02)  \n",
    "\n",
    "| Bayesian | Frequentist | \n",
    "| --- | --- |\n",
    "| More intuitive answers | Less intuitive answers|\n",
    "| Works with low sample sizes | Requires larger sample sizes | \n",
    "| Less common | More common |\n",
    "| Harder to initially set up | Simpler to get set up |\n",
    "| We include our personal knowledge: interpreted as more subjective | Data speak for themselves: interpreted as more objective |"
   ]
  },
  {
   "cell_type": "markdown",
   "metadata": {},
   "source": [
    "### Describe the role of the prior distribution and likelihood on the posterior distribution."
   ]
  },
  {
   "cell_type": "markdown",
   "metadata": {},
   "source": [
    "**Q7.** Describe the role of prior distribution on the posterior distribution."
   ]
  },
  {
   "cell_type": "markdown",
   "metadata": {},
   "source": [
    "> **Answer:**    \n",
    "The posterior distribution is dependent on the data and the prior distribution."
   ]
  },
  {
   "cell_type": "markdown",
   "metadata": {},
   "source": [
    "**Q8.** Describe the role of likelihood on the posterior distribution. "
   ]
  },
  {
   "cell_type": "markdown",
   "metadata": {},
   "source": [
    "> **Answer:**  \n",
    "The posterior distribution is dependent on the data given a likelihood: how likely it is to observe the data we observed given various values of our parameter."
   ]
  },
  {
   "cell_type": "markdown",
   "metadata": {},
   "source": [
    "### Describe the Uniform, Normal, Binomial, Poisson, Gamma, and Beta distributions."
   ]
  },
  {
   "cell_type": "markdown",
   "metadata": {},
   "source": [
    "**Q9.** Describe the Uniform distribution and give an example of something that follows this distribution."
   ]
  },
  {
   "cell_type": "markdown",
   "metadata": {},
   "source": [
    "> **Answer:** (from global lesson 10.02)  \n",
    "The uniform distribution is used to assign equal probability to all outcomes. This can be continuous or discrete. An example of this is rolling a fair die."
   ]
  },
  {
   "cell_type": "markdown",
   "metadata": {},
   "source": [
    "**Q10.** Describe the Normal distribution and give an example of something that follows this distribution."
   ]
  },
  {
   "cell_type": "markdown",
   "metadata": {},
   "source": [
    "> **Answer:** (from global lesson 10.02)  \n",
    "The normal distribution is bell shaped and is defined by its mean and standard deviation. It ranges from -infinity to +infinity. An example of this is the height of people."
   ]
  },
  {
   "cell_type": "markdown",
   "metadata": {},
   "source": [
    "**Q11.** Describe the Binomial distribution and give an example of something that follows this distribution."
   ]
  },
  {
   "cell_type": "markdown",
   "metadata": {},
   "source": [
    "> **Answer:** (from global lesson 10.02)  \n",
    "The Binomial distribution is used to count the number of successes out of a pre-defined number of trials, including all integers from 0 to n. It is defined by the number of trials n and the probability of success p. An example of this is the probability that your baseball team will get 50 wins this season."
   ]
  },
  {
   "cell_type": "markdown",
   "metadata": {},
   "source": [
    "**Q12.** Describe the Poisson distribution and give an example of something that follows this distribution."
   ]
  },
  {
   "cell_type": "markdown",
   "metadata": {},
   "source": [
    "> **Answer:** (from global lesson 10.02)  \n",
    "The Poisson distribution is used to count the number of successes in a fixed interval of time, including all integers from 0 to infinity. It is defined by the average number of successes in a window of time. An example of this is how many people will visit the museum in the next hour."
   ]
  },
  {
   "cell_type": "markdown",
   "metadata": {},
   "source": [
    "**Q13.** Describe the Gamma distribution and give an example of something that follows this distribution."
   ]
  },
  {
   "cell_type": "markdown",
   "metadata": {},
   "source": [
    "> **Answer:** (from global lesson 10.02)  \n",
    "The Gamma distribution is used to measure the amount of time until a number of successes happen and ranges from 0 to infinity. An example of this is the amount of time until we have at least 100 visitors to our website."
   ]
  },
  {
   "cell_type": "markdown",
   "metadata": {},
   "source": [
    "**Q14.** Describe the Beta distribution and give an example of something that follows this distribution."
   ]
  },
  {
   "cell_type": "markdown",
   "metadata": {},
   "source": [
    "> **Answer:** (from global lesson 10.02)  \n",
    "The Beta distribution ranges from 0 to 1 and is a very common choice to describe probabilities. The parameters of a Beta distribution correspond to the shape and scale of the distribution. An example of this is predicting a baseball player's batting average given certain priors."
   ]
  },
  {
   "cell_type": "markdown",
   "metadata": {},
   "source": [
    "---\n",
    "## 10.03 Simulation and MCMC"
   ]
  },
  {
   "cell_type": "markdown",
   "metadata": {},
   "source": [
    "### Solve probability problems given a posterior distribution."
   ]
  },
  {
   "cell_type": "markdown",
   "metadata": {},
   "source": [
    "**Q15.** Let's say the probability that a stranger will respond to your LinkedIn message follows a Beta distribution with α = 2 and β = 8. What is the probability that your success rate will be greater than 50%?"
   ]
  },
  {
   "cell_type": "code",
   "execution_count": 1,
   "metadata": {},
   "outputs": [
    {
     "data": {
      "text/plain": [
       "0.01953125"
      ]
     },
     "execution_count": 1,
     "metadata": {},
     "output_type": "execute_result"
    }
   ],
   "source": [
    "from scipy.stats import beta\n",
    "\n",
    "# Answer:\n",
    "1 - beta(2, 8).cdf(0.5)"
   ]
  },
  {
   "cell_type": "markdown",
   "metadata": {},
   "source": [
    "### Describe conjugacy."
   ]
  },
  {
   "cell_type": "markdown",
   "metadata": {},
   "source": [
    "**Q16.** What is conjugacy?"
   ]
  },
  {
   "cell_type": "markdown",
   "metadata": {},
   "source": [
    "> **Answer:** (from global lesson 10.03):  \n",
    "When the prior and the posterior follow the same named distribution (e.g. Beta), we say that the likelihood is conjugate for the prior."
   ]
  },
  {
   "cell_type": "markdown",
   "metadata": {},
   "source": [
    "### Describe Markov chain Monte Carlo methods."
   ]
  },
  {
   "cell_type": "markdown",
   "metadata": {},
   "source": [
    "**Q17.** What is a Markov chain Monte Carlo method?"
   ]
  },
  {
   "cell_type": "markdown",
   "metadata": {},
   "source": [
    "> **Answer:** (From global lesson 10.03):  \n",
    "There are three main components to MCMC Methods:\n",
    "- Monte Carlo Methods\n",
    "- Markov Chains\n",
    "- Acceptance-Rejection Sampling\n",
    "\n",
    "> If we were to just generate random numbers without any rhyme or reason, we'd be doing basic Monte Carlo simulations. Suppose that, instead, we're still generating random numbers. However, this time, the last random number we generate influences the next random number we generate. This incorporates Markov chains. The final component, \"acceptance-rejection sampling,\" will take each random sample and accept it or reject it, based on how \"good\" it is. The algorithm for doing this uses the prior and likelihood that you came up with to determine if this sample is \"good enough.\" The basic algorithm is called the Metropolis-Hastings Algorithm."
   ]
  },
  {
   "cell_type": "markdown",
   "metadata": {},
   "source": [
    "### Understand how simulation can be used to solve complex problems."
   ]
  },
  {
   "cell_type": "markdown",
   "metadata": {},
   "source": [
    "**Q18.** How can simulation be used to solve complex problems?"
   ]
  },
  {
   "cell_type": "markdown",
   "metadata": {},
   "source": [
    ">**Answer:**   \n",
    "Many problems can not be solved or forecasted (if we do not have data or if the data will not be useful), so it can be helpful to use simulations. An example of this is forecasting election results."
   ]
  },
  {
   "cell_type": "markdown",
   "metadata": {},
   "source": [
    "---\n",
    "## 10.04 PyMC3 and Bayesian Regression"
   ]
  },
  {
   "cell_type": "markdown",
   "metadata": {},
   "source": [
    "### Recap the purpose of Bayesian methods."
   ]
  },
  {
   "cell_type": "markdown",
   "metadata": {},
   "source": [
    "**Q19.** What is the purpose of Bayesian methods?"
   ]
  },
  {
   "cell_type": "markdown",
   "metadata": {},
   "source": [
    "> **Answer:**  \n",
    "Bayesian methods incorporate your prior knowledge to generate more intuitive results. The purpose is to find the posterior distribution of our parameter of interest."
   ]
  },
  {
   "cell_type": "markdown",
   "metadata": {},
   "source": [
    "### Fit models in PyMC."
   ]
  },
  {
   "cell_type": "markdown",
   "metadata": {},
   "source": [
    "**Q21.** At an animal shelter, you notice that there are a variety of dogs of all ages. Use PyMC to find the (posterior) distribution that a large, old dog will be adopted tomorrow.\n",
    "\n",
    "There are about 15 large, old dogs at the shelter each day. There are 4 different types of dogs, all with about the same likelihood of being adopted. Over the course of a week, you documented the number of large, old dogs that got adopted each day:  \n",
    "\n",
    "| Day | Number Adopted |\n",
    "| --- | --- |\n",
    "| M | 2 |\n",
    "| Tu | 5 |\n",
    "| W | 1 |\n",
    "| Th | 3 |\n",
    "| F | 1 |\n",
    "| Sa | 2 |\n",
    "| Su | 1|"
   ]
  },
  {
   "cell_type": "code",
   "execution_count": 5,
   "metadata": {},
   "outputs": [
    {
     "name": "stderr",
     "output_type": "stream",
     "text": [
      "Multiprocess sampling (2 chains in 2 jobs)\n",
      "CompoundStep\n",
      ">Metropolis: [N]\n",
      ">NUTS: [p]\n",
      "Sampling 2 chains, 0 divergences: 100%|██████████| 220000/220000 [03:12<00:00, 1140.65draws/s]\n",
      "The acceptance probability does not match the target. It is 0.8818105165099868, but should be close to 0.8. Try to increase the number of tuning steps.\n",
      "The number of effective samples is smaller than 25% for some parameters.\n"
     ]
    }
   ],
   "source": [
    "import pymc3 as pm\n",
    "import pandas as pd\n",
    "\n",
    "observed_dogs = pd.DataFrame({'num': [2, 5, 1, 3, 1, 2, 1]})\n",
    "\n",
    "# Answer:\n",
    "\n",
    "# Likelihoods & priors\n",
    "# N ~ Poi(15)\n",
    "# X | N ~ Binomial(N, 0.25)\n",
    "with pm.Model() as m:\n",
    "    N = pm.Poisson(\"N\", 15)\n",
    "    p = pm.Beta(\"p\", 10, 40)\n",
    "    X = pm.Binomial(\"X\", N, p, observed=observed_dogs['num'])\n",
    "    trace = pm.sample(100000, tune=10000)"
   ]
  },
  {
   "cell_type": "code",
   "execution_count": 7,
   "metadata": {},
   "outputs": [
    {
     "data": {
      "text/plain": [
       "0.17489239513876836"
      ]
     },
     "execution_count": 7,
     "metadata": {},
     "output_type": "execute_result"
    }
   ],
   "source": [
    "import numpy as np\n",
    "\n",
    "np.mean(trace[\"p\"])"
   ]
  },
  {
   "cell_type": "code",
   "execution_count": 8,
   "metadata": {},
   "outputs": [],
   "source": [
    "mean_dogs = trace[\"N\"]*trace[\"p\"]"
   ]
  },
  {
   "cell_type": "code",
   "execution_count": 10,
   "metadata": {},
   "outputs": [
    {
     "data": {
      "image/png": "[encoded data removed]",
      "text/plain": [
       "<Figure size 432x288 with 1 Axes>"
      ]
     },
     "metadata": {
      "needs_background": "light"
     },
     "output_type": "display_data"
    }
   ],
   "source": [
    "import matplotlib.pyplot as plt\n",
    "%matplotlib inline\n",
    "\n",
    "plt.hist(mean_dogs, bins=30);"
   ]
  },
  {
   "cell_type": "markdown",
   "metadata": {},
   "source": [
    "### Interpret traceplots and posterior distributions."
   ]
  },
  {
   "cell_type": "markdown",
   "metadata": {},
   "source": [
    "**Q22.** How would you interpret/define a posterior distribution?"
   ]
  },
  {
   "cell_type": "markdown",
   "metadata": {},
   "source": [
    ">**Answer:**  \n",
    "A posterior distribution is the distribution of the probability of an event occurring after accounting for the background information you have."
   ]
  },
  {
   "cell_type": "markdown",
   "metadata": {},
   "source": [
    "---\n",
    "## 10.05 Experimental Design & 10.06 A/B Testing"
   ]
  },
  {
   "cell_type": "markdown",
   "metadata": {},
   "source": [
    "### Describe all steps of a properly designed experiment."
   ]
  },
  {
   "cell_type": "markdown",
   "metadata": {},
   "source": [
    "**Q23.** What are all the steps of a properly designed experiment?"
   ]
  },
  {
   "cell_type": "markdown",
   "metadata": {},
   "source": [
    ">**Answer:**  \n",
    "1. Define the objectives of the experiment\n",
    "2. Identify all sources of variation\n",
    "3. Choosing a rule for assigning unit to treatments\n",
    "4. Decide on the measurement to be made, experimental procedure, and how you plan to analyze results."
   ]
  },
  {
   "cell_type": "markdown",
   "metadata": {},
   "source": [
    "### Define various components of an experiment and know when to use them."
   ]
  },
  {
   "cell_type": "markdown",
   "metadata": {},
   "source": [
    "**Q24.** What is an experimental unit?"
   ]
  },
  {
   "cell_type": "markdown",
   "metadata": {},
   "source": [
    ">**Answer:** (from global lesson 10.05)  \n",
    "An experimental unit is the basic thing you're experimenting on."
   ]
  },
  {
   "cell_type": "markdown",
   "metadata": {},
   "source": [
    "**Q25.** What is a treatment factor?"
   ]
  },
  {
   "cell_type": "markdown",
   "metadata": {},
   "source": [
    ">**Answer:** (from global lesson 10.05)  \n",
    "Treatments are the sources of variation that you wish to manually manipulate to measure how it affects the response. A treatment may have two or more levels."
   ]
  },
  {
   "cell_type": "markdown",
   "metadata": {},
   "source": [
    "**Q26.** What is a blocking factor?"
   ]
  },
  {
   "cell_type": "markdown",
   "metadata": {},
   "source": [
    "> **Answer:**  \n",
    "A block is a source of variation that affect the response in a way that you might consider it a nuisance variable. It's not a variable that you can manipulate as part of your experiment, yet it may be interesting to measure the differences between blocks."
   ]
  },
  {
   "cell_type": "markdown",
   "metadata": {},
   "source": [
    "**Q27.** What are fixed effects?"
   ]
  },
  {
   "cell_type": "markdown",
   "metadata": {},
   "source": [
    "> **Answer:**  \n",
    "Fixed effects are variables that the experimenter has specifically selected the factor levels and the experimenter may be interested in finding how the different levels affect the response."
   ]
  },
  {
   "cell_type": "markdown",
   "metadata": {},
   "source": [
    "**Q28.** What are random effects?"
   ]
  },
  {
   "cell_type": "markdown",
   "metadata": {},
   "source": [
    "> **Answer:**  \n",
    "Random effects are variables that have an extremely large number of levels, and the ones surveyed might be a sample of all possible levels. Because of this, we are not interested in comparing how the different levels affect the response."
   ]
  },
  {
   "cell_type": "markdown",
   "metadata": {},
   "source": [
    "### Design an experiment with a specific A/B testing in mind to solve a real-world problem."
   ]
  },
  {
   "cell_type": "markdown",
   "metadata": {},
   "source": [
    "**Q29.** What is A/B testing?"
   ]
  },
  {
   "cell_type": "markdown",
   "metadata": {},
   "source": [
    "> **Answer:** (from global lesson 10.06)  \n",
    "Most sources largely equate the term A/B testing with hypothesis testing. However, A/B testing is usually discussed in the context of conducting an experiment. The \"A\" an \"B\" refer to a treatment and control group that we would test the difference between."
   ]
  },
  {
   "cell_type": "markdown",
   "metadata": {},
   "source": [
    "**Q30.** Your marketing team wants to see whether their website design is working for customers signing up for your product. Describe an A/B test you could use for this."
   ]
  },
  {
   "cell_type": "markdown",
   "metadata": {},
   "source": [
    "> **Answer:**  \n",
    "You could randomly show a subset of your users one website design and another subset another design. Then, you can do a t-test to see if the success rate significantly differs between the two groups."
   ]
  },
  {
   "cell_type": "markdown",
   "metadata": {},
   "source": [
    "### Conduct variants of an ANOVA test (including t-tests) Python."
   ]
  },
  {
   "cell_type": "markdown",
   "metadata": {},
   "source": [
    "**Q31.** What is an ANOVA test?"
   ]
  },
  {
   "cell_type": "markdown",
   "metadata": {},
   "source": [
    "> **Answer:**  \n",
    "ANOVA (Analysis of Variance) tests whether or not two or more means are equal."
   ]
  }
 ],
 "metadata": {
  "kernelspec": {
   "display_name": "Python 3",
   "language": "python",
   "name": "python3"
  },
  "language_info": {
   "codemirror_mode": {
    "name": "ipython",
    "version": 3
   },
   "file_extension": ".py",
   "mimetype": "text/x-python",
   "name": "python",
   "nbconvert_exporter": "python",
   "pygments_lexer": "ipython3",
   "version": "3.7.4"
  }
 },
 "nbformat": 4,
 "nbformat_minor": 2
}
