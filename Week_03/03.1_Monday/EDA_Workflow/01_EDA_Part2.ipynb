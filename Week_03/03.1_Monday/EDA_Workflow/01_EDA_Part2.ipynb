{
 "cells": [
  {
   "cell_type": "markdown",
   "metadata": {},
   "source": [
    "<img src=\"http://imgur.com/1ZcRyrc.png\" style=\"float: left; margin: 20px; height: 55px\">\n",
    "\n",
    "## Project Workflow and EDA Class (Part 2: Implementing your class)\n",
    "\n",
    "_Author: Noelle B. (DSI - DEN)_\n",
    "\n",
    "---"
   ]
  },
  {
   "cell_type": "markdown",
   "metadata": {},
   "source": [
    "## Part 2: Implementing Your Class\n",
    "## Data Science Process:\n",
    "1. Define the Problem\n",
    "2. Gather Data\n",
    "3. Explore Data\n",
    "4. Model with Data\n",
    "5. Evaluate Model\n",
    "6. Answer Problem\n",
    "\n",
    "**For this lesson, we will focus on just numbers 2-4.**"
   ]
  },
  {
   "cell_type": "markdown",
   "metadata": {},
   "source": [
    "---\n",
    "## 2. Gather Data\n",
    "\n",
    "Import the given data. This data describes admissions for colleges and universities. Data is from [usc.edu](http://faculty.marshall.usc.edu/gareth-james/ISL/data.html)."
   ]
  },
  {
   "cell_type": "code",
   "execution_count": null,
   "metadata": {},
   "outputs": [],
   "source": [
    "# import pandas\n"
   ]
  },
  {
   "cell_type": "code",
   "execution_count": null,
   "metadata": {},
   "outputs": [],
   "source": [
    "college = pd.read_csv('http://faculty.marshall.usc.edu/gareth-james/ISL/College.csv')\n",
    "# Rename Unnamed: 0 to University\n",
    "college.rename(columns={'Unnamed: 0': 'University'}, inplace=True)"
   ]
  },
  {
   "cell_type": "code",
   "execution_count": null,
   "metadata": {},
   "outputs": [],
   "source": [
    "# view the data:\n"
   ]
  },
  {
   "cell_type": "markdown",
   "metadata": {},
   "source": [
    "## 3. Explore Data\n",
    "\n",
    "Import your custom EDA class"
   ]
  },
  {
   "cell_type": "code",
   "execution_count": null,
   "metadata": {
    "scrolled": true
   },
   "outputs": [],
   "source": [
    "# my filename is called EDA.py and my class within that file is called CleanData\n"
   ]
  },
  {
   "cell_type": "code",
   "execution_count": null,
   "metadata": {},
   "outputs": [],
   "source": [
    "# in order to use your class, you have to create an instance of it\n"
   ]
  },
  {
   "cell_type": "code",
   "execution_count": null,
   "metadata": {},
   "outputs": [],
   "source": []
  },
  {
   "cell_type": "code",
   "execution_count": null,
   "metadata": {},
   "outputs": [],
   "source": []
  },
  {
   "cell_type": "markdown",
   "metadata": {},
   "source": [
    "**Continue this process, remove corrupted data, errors, duplicates, etc.**\n",
    "\n",
    "Then, we will save our cleaned data as its own csv file, so we can use it in another notebook. This organizes our workflow and saves time (so we do not have to run all of these steps every time)."
   ]
  },
  {
   "cell_type": "code",
   "execution_count": null,
   "metadata": {},
   "outputs": [],
   "source": []
  }
 ],
 "metadata": {
  "kernelspec": {
   "display_name": "Python 3",
   "language": "python",
   "name": "python3"
  },
  "language_info": {
   "codemirror_mode": {
    "name": "ipython",
    "version": 3
   },
   "file_extension": ".py",
   "mimetype": "text/x-python",
   "name": "python",
   "nbconvert_exporter": "python",
   "pygments_lexer": "ipython3",
   "version": "3.7.4"
  }
 },
 "nbformat": 4,
 "nbformat_minor": 2
}
