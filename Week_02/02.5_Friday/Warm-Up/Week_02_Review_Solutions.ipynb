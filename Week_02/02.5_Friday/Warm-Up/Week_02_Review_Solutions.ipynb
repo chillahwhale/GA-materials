{
 "cells": [
  {
   "cell_type": "markdown",
   "metadata": {},
   "source": [
    "<img src=\"http://imgur.com/1ZcRyrc.png\" style=\"float: left; margin: 15px; height: 80px\">\n",
    "\n",
    "# Week 2 Review - Solutions\n",
    "\n",
    " _**Author:** Noelle B. (DSI-DEN)_\n",
    "\n",
    "---\n",
    "We will review the learning objectives of each lesson this week and answer questions related to them."
   ]
  },
  {
   "cell_type": "markdown",
   "metadata": {},
   "source": [
    "---\n",
    "## 1.07 List Comprehensions"
   ]
  },
  {
   "cell_type": "markdown",
   "metadata": {},
   "source": [
    "### Understand how to use for and while loops"
   ]
  },
  {
   "cell_type": "markdown",
   "metadata": {},
   "source": [
    "**Q1.** Write code that prints out even numbers between 80 and 150."
   ]
  },
  {
   "cell_type": "code",
   "execution_count": 1,
   "metadata": {},
   "outputs": [
    {
     "name": "stdout",
     "output_type": "stream",
     "text": [
      "80\n",
      "82\n",
      "84\n",
      "86\n",
      "88\n",
      "90\n",
      "92\n",
      "94\n",
      "96\n",
      "98\n",
      "100\n",
      "102\n",
      "104\n",
      "106\n",
      "108\n",
      "110\n",
      "112\n",
      "114\n",
      "116\n",
      "118\n",
      "120\n",
      "122\n",
      "124\n",
      "126\n",
      "128\n",
      "130\n",
      "132\n",
      "134\n",
      "136\n",
      "138\n",
      "140\n",
      "142\n",
      "144\n",
      "146\n",
      "148\n",
      "150\n"
     ]
    }
   ],
   "source": [
    "# Answer:\n",
    "for number in range(80, 151):\n",
    "    if number % 2 == 0:\n",
    "        print(number)"
   ]
  },
  {
   "cell_type": "markdown",
   "metadata": {},
   "source": [
    "**Q2.** Write code using a while loop that prints “hello” as long as a counter is less than 12. Start the counter at 5 and have it increase by one each iteration."
   ]
  },
  {
   "cell_type": "code",
   "execution_count": 2,
   "metadata": {},
   "outputs": [
    {
     "name": "stdout",
     "output_type": "stream",
     "text": [
      "hello\n",
      "hello\n",
      "hello\n",
      "hello\n",
      "hello\n",
      "hello\n",
      "hello\n"
     ]
    }
   ],
   "source": [
    "# Answer:\n",
    "counter = 5\n",
    "\n",
    "while counter < 12:\n",
    "    print('hello')\n",
    "    counter += 1"
   ]
  },
  {
   "cell_type": "markdown",
   "metadata": {},
   "source": [
    "### Understand how to map with lists and dictionaries"
   ]
  },
  {
   "cell_type": "markdown",
   "metadata": {},
   "source": [
    "**Q3.** Use list comprehension to take the square root of numbers in a list that ranges from 9 to 27 counting by 3’s."
   ]
  },
  {
   "cell_type": "code",
   "execution_count": 3,
   "metadata": {},
   "outputs": [
    {
     "data": {
      "text/plain": [
       "[3.0,\n",
       " 3.4641016151377544,\n",
       " 3.872983346207417,\n",
       " 4.242640687119285,\n",
       " 4.58257569495584,\n",
       " 4.898979485566356,\n",
       " 5.196152422706632]"
      ]
     },
     "execution_count": 3,
     "metadata": {},
     "output_type": "execute_result"
    }
   ],
   "source": [
    "# Answer:\n",
    "my_list = [9, 12, 15, 18, 21, 24, 27]\n",
    "\n",
    "[number**0.5 for number in my_list]"
   ]
  },
  {
   "cell_type": "markdown",
   "metadata": {},
   "source": [
    "### Understand how to filter lists and dictionaries"
   ]
  },
  {
   "cell_type": "markdown",
   "metadata": {},
   "source": [
    "**Q4.** Filter the following list of dictionaries to just show dogs:  \n",
    "`animals = [\n",
    "\t{’type’: ‘dog’, ‘breed’: ‘Golden’},\n",
    "\t{’type’: ‘dog’, ‘breed’: ‘Rotweiler’},\n",
    "\t{’type’: ‘cat’, ‘breed’: ‘Balinese’},\n",
    "\t{’type’: ‘bear’, ‘breed’: ‘Polar’},\n",
    "\t{’type’: ‘dog’, ‘breed’: ‘Husky’},\n",
    "\t{’type’: ‘fish’, ‘breed’: ‘Beta’}\n",
    "]`"
   ]
  },
  {
   "cell_type": "code",
   "execution_count": 4,
   "metadata": {},
   "outputs": [
    {
     "data": {
      "text/plain": [
       "[{'type': 'dog', 'breed': 'Golden'},\n",
       " {'type': 'dog', 'breed': 'Rotweiler'},\n",
       " {'type': 'dog', 'breed': 'Husky'}]"
      ]
     },
     "execution_count": 4,
     "metadata": {},
     "output_type": "execute_result"
    }
   ],
   "source": [
    "# Answer:\n",
    "animals = [\n",
    "    {'type': 'dog', 'breed': 'Golden'},\n",
    "    {'type': 'dog', 'breed': 'Rotweiler'},\n",
    "    {'type': 'cat', 'breed': 'Balinese'},\n",
    "    {'type': 'bear', 'breed': 'Polar'},\n",
    "    {'type': 'dog', 'breed': 'Husky'},\n",
    "    {'type': 'fish', 'breed': 'Beta'}\n",
    "]\n",
    "\n",
    "[animal for animal in animals if animal['type'] == 'dog']"
   ]
  },
  {
   "cell_type": "markdown",
   "metadata": {},
   "source": [
    "**Q5.** Filter the following list to only show even numbers:  \n",
    "`my_list = [3, 53, 56, 2, 5, 75, 312, 567, 43, 68]`"
   ]
  },
  {
   "cell_type": "code",
   "execution_count": 5,
   "metadata": {},
   "outputs": [
    {
     "data": {
      "text/plain": [
       "[56, 2, 312, 68]"
      ]
     },
     "execution_count": 5,
     "metadata": {},
     "output_type": "execute_result"
    }
   ],
   "source": [
    "# Answer:\n",
    "my_list = [3, 53, 56, 2, 5, 75, 312, 567, 43, 68]\n",
    "\n",
    "[number for number in my_list if number % 2 == 0]"
   ]
  },
  {
   "cell_type": "markdown",
   "metadata": {},
   "source": [
    "---\n",
    "## 2.01 Pandas "
   ]
  },
  {
   "cell_type": "markdown",
   "metadata": {},
   "source": [
    "### Explain the difference: Series vs DataFrame"
   ]
  },
  {
   "cell_type": "markdown",
   "metadata": {},
   "source": [
    "**Q6.** Explain the difference between and series and a DataFrame."
   ]
  },
  {
   "cell_type": "markdown",
   "metadata": {},
   "source": [
    "> **Answer:**  \n",
    "A series is a one-dimensional array of values with an index. A DataFrame is a two-dimensional array of values with both row and column indices. Each column of a DataFrame is a series."
   ]
  },
  {
   "cell_type": "markdown",
   "metadata": {},
   "source": [
    "### Describe basic characteristics of DataFrames"
   ]
  },
  {
   "cell_type": "markdown",
   "metadata": {},
   "source": [
    "**Q7.** What is a DataFrame?"
   ]
  },
  {
   "cell_type": "markdown",
   "metadata": {},
   "source": [
    "> **Answer:**  \n",
    "A DataFrame is a 2-D array of values with both row and column indices. Conceptually, you can think of it like a table in Excel."
   ]
  },
  {
   "cell_type": "markdown",
   "metadata": {},
   "source": [
    "### Select subsets of data (boolean filtering and masking)"
   ]
  },
  {
   "cell_type": "code",
   "execution_count": 7,
   "metadata": {},
   "outputs": [
    {
     "data": {
      "text/html": [
       "<div>\n",
       "<style scoped>\n",
       "    .dataframe tbody tr th:only-of-type {\n",
       "        vertical-align: middle;\n",
       "    }\n",
       "\n",
       "    .dataframe tbody tr th {\n",
       "        vertical-align: top;\n",
       "    }\n",
       "\n",
       "    .dataframe thead th {\n",
       "        text-align: right;\n",
       "    }\n",
       "</style>\n",
       "<table border=\"1\" class=\"dataframe\">\n",
       "  <thead>\n",
       "    <tr style=\"text-align: right;\">\n",
       "      <th></th>\n",
       "      <th>Name</th>\n",
       "      <th>Position</th>\n",
       "      <th>Salary</th>\n",
       "    </tr>\n",
       "  </thead>\n",
       "  <tbody>\n",
       "    <tr>\n",
       "      <th>0</th>\n",
       "      <td>Stephen Strasburg</td>\n",
       "      <td>Starting Pitcher</td>\n",
       "      <td>35000000</td>\n",
       "    </tr>\n",
       "    <tr>\n",
       "      <th>1</th>\n",
       "      <td>Zack Greinke</td>\n",
       "      <td>Starting Pitcher</td>\n",
       "      <td>31500000</td>\n",
       "    </tr>\n",
       "    <tr>\n",
       "      <th>2</th>\n",
       "      <td>Clayton Kershaw</td>\n",
       "      <td>Starting Pitcher</td>\n",
       "      <td>31000000</td>\n",
       "    </tr>\n",
       "    <tr>\n",
       "      <th>3</th>\n",
       "      <td>David Price</td>\n",
       "      <td>Starting Pitcher</td>\n",
       "      <td>31000000</td>\n",
       "    </tr>\n",
       "    <tr>\n",
       "      <th>4</th>\n",
       "      <td>Max Scherzer</td>\n",
       "      <td>Starting Pitcher</td>\n",
       "      <td>30262705</td>\n",
       "    </tr>\n",
       "  </tbody>\n",
       "</table>\n",
       "</div>"
      ],
      "text/plain": [
       "                Name          Position    Salary\n",
       "0  Stephen Strasburg  Starting Pitcher  35000000\n",
       "1       Zack Greinke  Starting Pitcher  31500000\n",
       "2    Clayton Kershaw  Starting Pitcher  31000000\n",
       "3        David Price  Starting Pitcher  31000000\n",
       "4       Max Scherzer  Starting Pitcher  30262705"
      ]
     },
     "execution_count": 7,
     "metadata": {},
     "output_type": "execute_result"
    }
   ],
   "source": [
    "# Use the following dataset for the next several questions\n",
    "import pandas as pd\n",
    "\n",
    "mlb_salary = pd.read_csv('data/mlb_salary.csv')\n",
    "mlb_salary.head()"
   ]
  },
  {
   "cell_type": "markdown",
   "metadata": {},
   "source": [
    "**Q8.** Given the following dataset, show just players who make at least $28,000,000."
   ]
  },
  {
   "cell_type": "code",
   "execution_count": 11,
   "metadata": {
    "scrolled": true
   },
   "outputs": [
    {
     "data": {
      "text/html": [
       "<div>\n",
       "<style scoped>\n",
       "    .dataframe tbody tr th:only-of-type {\n",
       "        vertical-align: middle;\n",
       "    }\n",
       "\n",
       "    .dataframe tbody tr th {\n",
       "        vertical-align: top;\n",
       "    }\n",
       "\n",
       "    .dataframe thead th {\n",
       "        text-align: right;\n",
       "    }\n",
       "</style>\n",
       "<table border=\"1\" class=\"dataframe\">\n",
       "  <thead>\n",
       "    <tr style=\"text-align: right;\">\n",
       "      <th></th>\n",
       "      <th>Name</th>\n",
       "      <th>Position</th>\n",
       "      <th>Salary</th>\n",
       "    </tr>\n",
       "  </thead>\n",
       "  <tbody>\n",
       "    <tr>\n",
       "      <th>0</th>\n",
       "      <td>Stephen Strasburg</td>\n",
       "      <td>Starting Pitcher</td>\n",
       "      <td>35000000</td>\n",
       "    </tr>\n",
       "    <tr>\n",
       "      <th>1</th>\n",
       "      <td>Zack Greinke</td>\n",
       "      <td>Starting Pitcher</td>\n",
       "      <td>31500000</td>\n",
       "    </tr>\n",
       "    <tr>\n",
       "      <th>2</th>\n",
       "      <td>Clayton Kershaw</td>\n",
       "      <td>Starting Pitcher</td>\n",
       "      <td>31000000</td>\n",
       "    </tr>\n",
       "    <tr>\n",
       "      <th>3</th>\n",
       "      <td>David Price</td>\n",
       "      <td>Starting Pitcher</td>\n",
       "      <td>31000000</td>\n",
       "    </tr>\n",
       "    <tr>\n",
       "      <th>4</th>\n",
       "      <td>Max Scherzer</td>\n",
       "      <td>Starting Pitcher</td>\n",
       "      <td>30262705</td>\n",
       "    </tr>\n",
       "    <tr>\n",
       "      <th>5</th>\n",
       "      <td>Miguel Cabrera</td>\n",
       "      <td>1st Base</td>\n",
       "      <td>30000000</td>\n",
       "    </tr>\n",
       "    <tr>\n",
       "      <th>6</th>\n",
       "      <td>Yoenis Cespedes</td>\n",
       "      <td>Center Field</td>\n",
       "      <td>29000000</td>\n",
       "    </tr>\n",
       "    <tr>\n",
       "      <th>7</th>\n",
       "      <td>Albert Pujols</td>\n",
       "      <td>1st Base</td>\n",
       "      <td>28000000</td>\n",
       "    </tr>\n",
       "    <tr>\n",
       "      <th>8</th>\n",
       "      <td>Justin Verlander</td>\n",
       "      <td>Starting Pitcher</td>\n",
       "      <td>28000000</td>\n",
       "    </tr>\n",
       "  </tbody>\n",
       "</table>\n",
       "</div>"
      ],
      "text/plain": [
       "                Name          Position    Salary\n",
       "0  Stephen Strasburg  Starting Pitcher  35000000\n",
       "1       Zack Greinke  Starting Pitcher  31500000\n",
       "2    Clayton Kershaw  Starting Pitcher  31000000\n",
       "3        David Price  Starting Pitcher  31000000\n",
       "4       Max Scherzer  Starting Pitcher  30262705\n",
       "5     Miguel Cabrera          1st Base  30000000\n",
       "6    Yoenis Cespedes      Center Field  29000000\n",
       "7      Albert Pujols          1st Base  28000000\n",
       "8   Justin Verlander  Starting Pitcher  28000000"
      ]
     },
     "execution_count": 11,
     "metadata": {},
     "output_type": "execute_result"
    }
   ],
   "source": [
    "# Answer:\n",
    "mlb_salary[mlb_salary['Salary'] >= 28_000_000]"
   ]
  },
  {
   "cell_type": "markdown",
   "metadata": {},
   "source": [
    "### Perform basic EDA with sample statistics"
   ]
  },
  {
   "cell_type": "markdown",
   "metadata": {},
   "source": [
    "**Q9.** What is the mean salary?"
   ]
  },
  {
   "cell_type": "code",
   "execution_count": 12,
   "metadata": {},
   "outputs": [
    {
     "data": {
      "text/plain": [
       "3845556.475"
      ]
     },
     "execution_count": 12,
     "metadata": {},
     "output_type": "execute_result"
    }
   ],
   "source": [
    "# Answer:\n",
    "mlb_salary['Salary'].mean()"
   ]
  },
  {
   "cell_type": "markdown",
   "metadata": {},
   "source": [
    "**Q10.** What is the median salary?"
   ]
  },
  {
   "cell_type": "code",
   "execution_count": 13,
   "metadata": {},
   "outputs": [
    {
     "data": {
      "text/plain": [
       "900000.0"
      ]
     },
     "execution_count": 13,
     "metadata": {},
     "output_type": "execute_result"
    }
   ],
   "source": [
    "# Answer:\n",
    "mlb_salary['Salary'].median()"
   ]
  },
  {
   "cell_type": "markdown",
   "metadata": {},
   "source": [
    "**Q11.** Show all summary statistics for the numeric column in this dataset."
   ]
  },
  {
   "cell_type": "code",
   "execution_count": 15,
   "metadata": {},
   "outputs": [
    {
     "data": {
      "text/html": [
       "<div>\n",
       "<style scoped>\n",
       "    .dataframe tbody tr th:only-of-type {\n",
       "        vertical-align: middle;\n",
       "    }\n",
       "\n",
       "    .dataframe tbody tr th {\n",
       "        vertical-align: top;\n",
       "    }\n",
       "\n",
       "    .dataframe thead th {\n",
       "        text-align: right;\n",
       "    }\n",
       "</style>\n",
       "<table border=\"1\" class=\"dataframe\">\n",
       "  <thead>\n",
       "    <tr style=\"text-align: right;\">\n",
       "      <th></th>\n",
       "      <th>count</th>\n",
       "      <th>mean</th>\n",
       "      <th>std</th>\n",
       "      <th>min</th>\n",
       "      <th>25%</th>\n",
       "      <th>50%</th>\n",
       "      <th>75%</th>\n",
       "      <th>max</th>\n",
       "    </tr>\n",
       "  </thead>\n",
       "  <tbody>\n",
       "    <tr>\n",
       "      <th>Salary</th>\n",
       "      <td>1000.0</td>\n",
       "      <td>3845556.475</td>\n",
       "      <td>5.746885e+06</td>\n",
       "      <td>555000.0</td>\n",
       "      <td>561362.5</td>\n",
       "      <td>900000.0</td>\n",
       "      <td>4500000.0</td>\n",
       "      <td>35000000.0</td>\n",
       "    </tr>\n",
       "  </tbody>\n",
       "</table>\n",
       "</div>"
      ],
      "text/plain": [
       "         count         mean           std       min       25%       50%  \\\n",
       "Salary  1000.0  3845556.475  5.746885e+06  555000.0  561362.5  900000.0   \n",
       "\n",
       "              75%         max  \n",
       "Salary  4500000.0  35000000.0  "
      ]
     },
     "execution_count": 15,
     "metadata": {},
     "output_type": "execute_result"
    }
   ],
   "source": [
    "# Answer:\n",
    "mlb_salary.describe().T"
   ]
  },
  {
   "cell_type": "markdown",
   "metadata": {},
   "source": [
    "### Perform advanced EDA with Split-Apply-Combine"
   ]
  },
  {
   "cell_type": "markdown",
   "metadata": {},
   "source": [
    "**Q12.** Find the mean and count of the `Salary` column grouped by the `Position` column"
   ]
  },
  {
   "cell_type": "code",
   "execution_count": 18,
   "metadata": {},
   "outputs": [
    {
     "data": {
      "text/html": [
       "<div>\n",
       "<style scoped>\n",
       "    .dataframe tbody tr th:only-of-type {\n",
       "        vertical-align: middle;\n",
       "    }\n",
       "\n",
       "    .dataframe tbody tr th {\n",
       "        vertical-align: top;\n",
       "    }\n",
       "\n",
       "    .dataframe thead th {\n",
       "        text-align: right;\n",
       "    }\n",
       "</style>\n",
       "<table border=\"1\" class=\"dataframe\">\n",
       "  <thead>\n",
       "    <tr style=\"text-align: right;\">\n",
       "      <th></th>\n",
       "      <th>mean</th>\n",
       "      <th>count</th>\n",
       "    </tr>\n",
       "    <tr>\n",
       "      <th>Position</th>\n",
       "      <th></th>\n",
       "      <th></th>\n",
       "    </tr>\n",
       "  </thead>\n",
       "  <tbody>\n",
       "    <tr>\n",
       "      <th>1st Base</th>\n",
       "      <td>6.460867e+06</td>\n",
       "      <td>50</td>\n",
       "    </tr>\n",
       "    <tr>\n",
       "      <th>2nd Base</th>\n",
       "      <td>4.011929e+06</td>\n",
       "      <td>55</td>\n",
       "    </tr>\n",
       "    <tr>\n",
       "      <th>3rd Base</th>\n",
       "      <td>5.305952e+06</td>\n",
       "      <td>46</td>\n",
       "    </tr>\n",
       "    <tr>\n",
       "      <th>Catcher</th>\n",
       "      <td>2.830238e+06</td>\n",
       "      <td>79</td>\n",
       "    </tr>\n",
       "    <tr>\n",
       "      <th>Center Field</th>\n",
       "      <td>4.503070e+06</td>\n",
       "      <td>54</td>\n",
       "    </tr>\n",
       "    <tr>\n",
       "      <th>Designated Hitter</th>\n",
       "      <td>1.252219e+07</td>\n",
       "      <td>15</td>\n",
       "    </tr>\n",
       "    <tr>\n",
       "      <th>Left Field</th>\n",
       "      <td>4.134605e+06</td>\n",
       "      <td>44</td>\n",
       "    </tr>\n",
       "    <tr>\n",
       "      <th>Outfielders</th>\n",
       "      <td>6.084778e+05</td>\n",
       "      <td>9</td>\n",
       "    </tr>\n",
       "    <tr>\n",
       "      <th>Pitchers</th>\n",
       "      <td>5.636364e+05</td>\n",
       "      <td>11</td>\n",
       "    </tr>\n",
       "    <tr>\n",
       "      <th>Relief Pitcher</th>\n",
       "      <td>2.209138e+06</td>\n",
       "      <td>329</td>\n",
       "    </tr>\n",
       "    <tr>\n",
       "      <th>Right Field</th>\n",
       "      <td>4.494886e+06</td>\n",
       "      <td>45</td>\n",
       "    </tr>\n",
       "    <tr>\n",
       "      <th>Shortstop</th>\n",
       "      <td>3.193953e+06</td>\n",
       "      <td>56</td>\n",
       "    </tr>\n",
       "    <tr>\n",
       "      <th>Starting Pitcher</th>\n",
       "      <td>5.322024e+06</td>\n",
       "      <td>207</td>\n",
       "    </tr>\n",
       "  </tbody>\n",
       "</table>\n",
       "</div>"
      ],
      "text/plain": [
       "                           mean  count\n",
       "Position                              \n",
       "1st Base           6.460867e+06     50\n",
       "2nd Base           4.011929e+06     55\n",
       "3rd Base           5.305952e+06     46\n",
       "Catcher            2.830238e+06     79\n",
       "Center Field       4.503070e+06     54\n",
       "Designated Hitter  1.252219e+07     15\n",
       "Left Field         4.134605e+06     44\n",
       "Outfielders        6.084778e+05      9\n",
       "Pitchers           5.636364e+05     11\n",
       "Relief Pitcher     2.209138e+06    329\n",
       "Right Field        4.494886e+06     45\n",
       "Shortstop          3.193953e+06     56\n",
       "Starting Pitcher   5.322024e+06    207"
      ]
     },
     "execution_count": 18,
     "metadata": {},
     "output_type": "execute_result"
    }
   ],
   "source": [
    "# Answer:\n",
    "mlb_salary.groupby('Position')['Salary'].agg(['mean', 'count'])"
   ]
  },
  {
   "cell_type": "markdown",
   "metadata": {},
   "source": [
    "---\n",
    "## 2.02 Principles of Data Visualization"
   ]
  },
  {
   "cell_type": "code",
   "execution_count": 36,
   "metadata": {},
   "outputs": [
    {
     "data": {
      "text/html": [
       "<div>\n",
       "<style scoped>\n",
       "    .dataframe tbody tr th:only-of-type {\n",
       "        vertical-align: middle;\n",
       "    }\n",
       "\n",
       "    .dataframe tbody tr th {\n",
       "        vertical-align: top;\n",
       "    }\n",
       "\n",
       "    .dataframe thead th {\n",
       "        text-align: right;\n",
       "    }\n",
       "</style>\n",
       "<table border=\"1\" class=\"dataframe\">\n",
       "  <thead>\n",
       "    <tr style=\"text-align: right;\">\n",
       "      <th></th>\n",
       "      <th>Name</th>\n",
       "      <th>Position</th>\n",
       "      <th>Salary</th>\n",
       "    </tr>\n",
       "  </thead>\n",
       "  <tbody>\n",
       "    <tr>\n",
       "      <th>0</th>\n",
       "      <td>Stephen Strasburg</td>\n",
       "      <td>Starting Pitcher</td>\n",
       "      <td>35000000</td>\n",
       "    </tr>\n",
       "    <tr>\n",
       "      <th>1</th>\n",
       "      <td>Zack Greinke</td>\n",
       "      <td>Starting Pitcher</td>\n",
       "      <td>31500000</td>\n",
       "    </tr>\n",
       "    <tr>\n",
       "      <th>2</th>\n",
       "      <td>Clayton Kershaw</td>\n",
       "      <td>Starting Pitcher</td>\n",
       "      <td>31000000</td>\n",
       "    </tr>\n",
       "    <tr>\n",
       "      <th>3</th>\n",
       "      <td>David Price</td>\n",
       "      <td>Starting Pitcher</td>\n",
       "      <td>31000000</td>\n",
       "    </tr>\n",
       "    <tr>\n",
       "      <th>4</th>\n",
       "      <td>Max Scherzer</td>\n",
       "      <td>Starting Pitcher</td>\n",
       "      <td>30262705</td>\n",
       "    </tr>\n",
       "  </tbody>\n",
       "</table>\n",
       "</div>"
      ],
      "text/plain": [
       "                Name          Position    Salary\n",
       "0  Stephen Strasburg  Starting Pitcher  35000000\n",
       "1       Zack Greinke  Starting Pitcher  31500000\n",
       "2    Clayton Kershaw  Starting Pitcher  31000000\n",
       "3        David Price  Starting Pitcher  31000000\n",
       "4       Max Scherzer  Starting Pitcher  30262705"
      ]
     },
     "execution_count": 36,
     "metadata": {},
     "output_type": "execute_result"
    }
   ],
   "source": [
    "# Use the following dataset for the next several questions\n",
    "import pandas as pd\n",
    "\n",
    "mlb_salary = pd.read_csv('data/mlb_salary.csv')\n",
    "mlb_salary.head()"
   ]
  },
  {
   "cell_type": "markdown",
   "metadata": {},
   "source": [
    "### Identify what type of visualization may be appropriate for a given scenario."
   ]
  },
  {
   "cell_type": "markdown",
   "metadata": {},
   "source": [
    "**Q13.** You want to visualize the distribution of `Salary`. \n",
    "\n",
    "**a)** What visualization would be best here?"
   ]
  },
  {
   "cell_type": "markdown",
   "metadata": {},
   "source": [
    "> **Answer:**  \n",
    "Since you are visualizing the distribution of one quantitative variables, so a histogram would be appropriate here."
   ]
  },
  {
   "cell_type": "markdown",
   "metadata": {},
   "source": [
    "**b)** Show the visualization you chose in part a) to visualize the distribution of `Salary`."
   ]
  },
  {
   "cell_type": "code",
   "execution_count": 20,
   "metadata": {},
   "outputs": [
    {
     "data": {
      "image/png": "[encoded data removed]",
      "text/plain": [
       "<Figure size 432x288 with 1 Axes>"
      ]
     },
     "metadata": {
      "needs_background": "light"
     },
     "output_type": "display_data"
    }
   ],
   "source": [
    "# Answer:\n",
    "import matplotlib.pyplot as plt\n",
    "%matplotlib inline\n",
    "\n",
    "plt.hist(mlb_salary['Salary'])\n",
    "plt.show();"
   ]
  },
  {
   "cell_type": "markdown",
   "metadata": {},
   "source": [
    "### Generate text, bar graphs, histograms, tables, heatmaps, scatterplots, line plots in matplotlib."
   ]
  },
  {
   "cell_type": "markdown",
   "metadata": {},
   "source": [
    "**Q14.** Create a horizontal bar chart that shows the mean salary per position."
   ]
  },
  {
   "cell_type": "code",
   "execution_count": 29,
   "metadata": {},
   "outputs": [
    {
     "data": {
      "image/png": "[encoded data removed]",
      "text/plain": [
       "<Figure size 432x288 with 1 Axes>"
      ]
     },
     "metadata": {
      "needs_background": "light"
     },
     "output_type": "display_data"
    }
   ],
   "source": [
    "# Answer:\n",
    "plt.barh(mlb_salary['Position'].unique(), mlb_salary.groupby('Position')['Salary'].mean()/1_000_000)\n",
    "plt.title('Mean Salaries by Position')\n",
    "plt.xlabel('Salary (in Millions of Dollars)')\n",
    "plt.ylabel('Position')\n",
    "plt.show();"
   ]
  },
  {
   "cell_type": "markdown",
   "metadata": {},
   "source": [
    "**Q15.** Visualize the maximum salary using text in `matplotlib`."
   ]
  },
  {
   "cell_type": "code",
   "execution_count": 31,
   "metadata": {},
   "outputs": [
    {
     "data": {
      "image/png": "[encoded data removed]",
      "text/plain": [
       "<Figure size 576x360 with 1 Axes>"
      ]
     },
     "metadata": {
      "needs_background": "light"
     },
     "output_type": "display_data"
    }
   ],
   "source": [
    "# Answer:\n",
    "# Code from the 2.02 Global Lesson\n",
    "plt.figure(figsize=(8, 5))\n",
    "plt.text(x = 0.5, y = 0.9,                              \n",
    "         s = 'The maximum MLB salary is', \n",
    "         ha = 'center', va = 'center',                        \n",
    "         size = 35, alpha = 0.6)\n",
    "plt.text(x = 0.5, y = 0.55,\n",
    "         s = '$' + str(max(mlb_salary['Salary'])),\n",
    "         ha = 'center', va = 'center',\n",
    "         size = 125, alpha = 1)\n",
    "plt.axis('off');"
   ]
  },
  {
   "cell_type": "markdown",
   "metadata": {},
   "source": [
    "### Critique data visualizations and implement changes in matplotlib."
   ]
  },
  {
   "cell_type": "markdown",
   "metadata": {},
   "source": [
    "**Q16.** Below is a visualization of salaries per position. How would you improve this visualization?"
   ]
  },
  {
   "cell_type": "code",
   "execution_count": 33,
   "metadata": {},
   "outputs": [
    {
     "data": {
      "image/png": "[encoded data removed]",
      "text/plain": [
       "<Figure size 432x288 with 1 Axes>"
      ]
     },
     "metadata": {
      "needs_background": "light"
     },
     "output_type": "display_data"
    }
   ],
   "source": [
    "plt.scatter(mlb_salary['Position'], mlb_salary['Salary'])\n",
    "plt.show;"
   ]
  },
  {
   "cell_type": "code",
   "execution_count": 35,
   "metadata": {
    "scrolled": false
   },
   "outputs": [
    {
     "data": {
      "image/png": "[encoded data removed]",
      "text/plain": [
       "<Figure size 864x576 with 1 Axes>"
      ]
     },
     "metadata": {
      "needs_background": "light"
     },
     "output_type": "display_data"
    }
   ],
   "source": [
    "# Answer:\n",
    "# Note that there are many potential answers here. Here is what I would do:\n",
    "# Make the plot bigger/more readable\n",
    "plt.figure(figsize=(12, 8))\n",
    "# Switch so this is horizontal\n",
    "# Make salary in millions of dollars\n",
    "plt.scatter(mlb_salary['Salary']/1_000_000, mlb_salary['Position'])\n",
    "# Add title\n",
    "plt.title('Distribution of Salary by Position')\n",
    "# Add x-label\n",
    "plt.xlabel('Salary (in Millions of Dollars)')\n",
    "# Add y-label\n",
    "plt.ylabel('Position')\n",
    "plt.show()\n",
    "\n",
    "# If you want to make this even better, I wouldn't use a scatterplot here\n",
    "# I would probably use boxplots or something else"
   ]
  },
  {
   "cell_type": "markdown",
   "metadata": {},
   "source": [
    "## 2.03 Exploratory Data Analysis (EDA)"
   ]
  },
  {
   "cell_type": "code",
   "execution_count": 37,
   "metadata": {},
   "outputs": [
    {
     "data": {
      "text/html": [
       "<div>\n",
       "<style scoped>\n",
       "    .dataframe tbody tr th:only-of-type {\n",
       "        vertical-align: middle;\n",
       "    }\n",
       "\n",
       "    .dataframe tbody tr th {\n",
       "        vertical-align: top;\n",
       "    }\n",
       "\n",
       "    .dataframe thead th {\n",
       "        text-align: right;\n",
       "    }\n",
       "</style>\n",
       "<table border=\"1\" class=\"dataframe\">\n",
       "  <thead>\n",
       "    <tr style=\"text-align: right;\">\n",
       "      <th></th>\n",
       "      <th>Name</th>\n",
       "      <th>Position</th>\n",
       "      <th>Salary</th>\n",
       "    </tr>\n",
       "  </thead>\n",
       "  <tbody>\n",
       "    <tr>\n",
       "      <th>0</th>\n",
       "      <td>Stephen Strasburg</td>\n",
       "      <td>Starting Pitcher</td>\n",
       "      <td>35000000</td>\n",
       "    </tr>\n",
       "    <tr>\n",
       "      <th>1</th>\n",
       "      <td>Zack Greinke</td>\n",
       "      <td>Starting Pitcher</td>\n",
       "      <td>31500000</td>\n",
       "    </tr>\n",
       "    <tr>\n",
       "      <th>2</th>\n",
       "      <td>Clayton Kershaw</td>\n",
       "      <td>Starting Pitcher</td>\n",
       "      <td>31000000</td>\n",
       "    </tr>\n",
       "    <tr>\n",
       "      <th>3</th>\n",
       "      <td>David Price</td>\n",
       "      <td>Starting Pitcher</td>\n",
       "      <td>31000000</td>\n",
       "    </tr>\n",
       "    <tr>\n",
       "      <th>4</th>\n",
       "      <td>Max Scherzer</td>\n",
       "      <td>Starting Pitcher</td>\n",
       "      <td>30262705</td>\n",
       "    </tr>\n",
       "  </tbody>\n",
       "</table>\n",
       "</div>"
      ],
      "text/plain": [
       "                Name          Position    Salary\n",
       "0  Stephen Strasburg  Starting Pitcher  35000000\n",
       "1       Zack Greinke  Starting Pitcher  31500000\n",
       "2    Clayton Kershaw  Starting Pitcher  31000000\n",
       "3        David Price  Starting Pitcher  31000000\n",
       "4       Max Scherzer  Starting Pitcher  30262705"
      ]
     },
     "execution_count": 37,
     "metadata": {},
     "output_type": "execute_result"
    }
   ],
   "source": [
    "# Use the following dataset for the next several questions\n",
    "import pandas as pd\n",
    "\n",
    "mlb_salary = pd.read_csv('data/mlb_salary.csv')\n",
    "mlb_salary.head()"
   ]
  },
  {
   "cell_type": "markdown",
   "metadata": {},
   "source": [
    "### Quickly describe a dataset, including data types, missing values and basic descriptive statistics"
   ]
  },
  {
   "cell_type": "markdown",
   "metadata": {},
   "source": [
    "**Q17.** What are the datatypes of the columns in this dataset?"
   ]
  },
  {
   "cell_type": "code",
   "execution_count": 38,
   "metadata": {},
   "outputs": [
    {
     "data": {
      "text/plain": [
       "Name        object\n",
       "Position    object\n",
       "Salary       int64\n",
       "dtype: object"
      ]
     },
     "execution_count": 38,
     "metadata": {},
     "output_type": "execute_result"
    }
   ],
   "source": [
    "# Answer:\n",
    "mlb_salary.dtypes"
   ]
  },
  {
   "cell_type": "markdown",
   "metadata": {},
   "source": [
    "**Q18.** How many missing values are in this dataset?"
   ]
  },
  {
   "cell_type": "code",
   "execution_count": 39,
   "metadata": {
    "scrolled": false
   },
   "outputs": [
    {
     "data": {
      "text/plain": [
       "Name        0\n",
       "Position    0\n",
       "Salary      0\n",
       "dtype: int64"
      ]
     },
     "execution_count": 39,
     "metadata": {},
     "output_type": "execute_result"
    }
   ],
   "source": [
    "# Answer:\n",
    "mlb_salary.isnull().sum()"
   ]
  },
  {
   "cell_type": "markdown",
   "metadata": {},
   "source": [
    "### Rename columns (series) in a DataFrame"
   ]
  },
  {
   "cell_type": "markdown",
   "metadata": {},
   "source": [
    "**Q19.** Rename the `Name` column to `Player_Name`."
   ]
  },
  {
   "cell_type": "code",
   "execution_count": 41,
   "metadata": {},
   "outputs": [
    {
     "data": {
      "text/html": [
       "<div>\n",
       "<style scoped>\n",
       "    .dataframe tbody tr th:only-of-type {\n",
       "        vertical-align: middle;\n",
       "    }\n",
       "\n",
       "    .dataframe tbody tr th {\n",
       "        vertical-align: top;\n",
       "    }\n",
       "\n",
       "    .dataframe thead th {\n",
       "        text-align: right;\n",
       "    }\n",
       "</style>\n",
       "<table border=\"1\" class=\"dataframe\">\n",
       "  <thead>\n",
       "    <tr style=\"text-align: right;\">\n",
       "      <th></th>\n",
       "      <th>Player_Name</th>\n",
       "      <th>Position</th>\n",
       "      <th>Salary</th>\n",
       "    </tr>\n",
       "  </thead>\n",
       "  <tbody>\n",
       "    <tr>\n",
       "      <th>0</th>\n",
       "      <td>Stephen Strasburg</td>\n",
       "      <td>Starting Pitcher</td>\n",
       "      <td>35000000</td>\n",
       "    </tr>\n",
       "    <tr>\n",
       "      <th>1</th>\n",
       "      <td>Zack Greinke</td>\n",
       "      <td>Starting Pitcher</td>\n",
       "      <td>31500000</td>\n",
       "    </tr>\n",
       "  </tbody>\n",
       "</table>\n",
       "</div>"
      ],
      "text/plain": [
       "         Player_Name          Position    Salary\n",
       "0  Stephen Strasburg  Starting Pitcher  35000000\n",
       "1       Zack Greinke  Starting Pitcher  31500000"
      ]
     },
     "execution_count": 41,
     "metadata": {},
     "output_type": "execute_result"
    }
   ],
   "source": [
    "# Answer:\n",
    "mlb_salary.rename(columns={'Name': 'Player_Name'}, inplace=True)\n",
    "mlb_salary.head(2)"
   ]
  },
  {
   "cell_type": "markdown",
   "metadata": {},
   "source": [
    "### Visualize data distributions with box plots"
   ]
  },
  {
   "cell_type": "markdown",
   "metadata": {},
   "source": [
    "**Q20.** Create a boxplot of the distribution of `Salary`."
   ]
  },
  {
   "cell_type": "code",
   "execution_count": 48,
   "metadata": {},
   "outputs": [
    {
     "data": {
      "image/png": "[encoded data removed]",
      "text/plain": [
       "<Figure size 432x288 with 1 Axes>"
      ]
     },
     "metadata": {
      "needs_background": "light"
     },
     "output_type": "display_data"
    }
   ],
   "source": [
    "# Answer:\n",
    "import seaborn as sns\n",
    "sns.boxplot(mlb_salary['Salary']/1_000_000);\n",
    "\n",
    "# Can also use matplotlib:\n",
    "# plt.boxplot(mlb_salary['Salary']/1_000_000);"
   ]
  },
  {
   "cell_type": "markdown",
   "metadata": {},
   "source": [
    "### Standardize variables and explain why this is often a useful thing to do"
   ]
  },
  {
   "cell_type": "markdown",
   "metadata": {},
   "source": [
    "**Q21.** Change the `Salary` column so it is in millions of dollars."
   ]
  },
  {
   "cell_type": "code",
   "execution_count": 46,
   "metadata": {},
   "outputs": [
    {
     "data": {
      "text/html": [
       "<div>\n",
       "<style scoped>\n",
       "    .dataframe tbody tr th:only-of-type {\n",
       "        vertical-align: middle;\n",
       "    }\n",
       "\n",
       "    .dataframe tbody tr th {\n",
       "        vertical-align: top;\n",
       "    }\n",
       "\n",
       "    .dataframe thead th {\n",
       "        text-align: right;\n",
       "    }\n",
       "</style>\n",
       "<table border=\"1\" class=\"dataframe\">\n",
       "  <thead>\n",
       "    <tr style=\"text-align: right;\">\n",
       "      <th></th>\n",
       "      <th>Player_Name</th>\n",
       "      <th>Position</th>\n",
       "      <th>Salary</th>\n",
       "    </tr>\n",
       "  </thead>\n",
       "  <tbody>\n",
       "    <tr>\n",
       "      <th>0</th>\n",
       "      <td>Stephen Strasburg</td>\n",
       "      <td>Starting Pitcher</td>\n",
       "      <td>35.000000</td>\n",
       "    </tr>\n",
       "    <tr>\n",
       "      <th>1</th>\n",
       "      <td>Zack Greinke</td>\n",
       "      <td>Starting Pitcher</td>\n",
       "      <td>31.500000</td>\n",
       "    </tr>\n",
       "    <tr>\n",
       "      <th>2</th>\n",
       "      <td>Clayton Kershaw</td>\n",
       "      <td>Starting Pitcher</td>\n",
       "      <td>31.000000</td>\n",
       "    </tr>\n",
       "    <tr>\n",
       "      <th>3</th>\n",
       "      <td>David Price</td>\n",
       "      <td>Starting Pitcher</td>\n",
       "      <td>31.000000</td>\n",
       "    </tr>\n",
       "    <tr>\n",
       "      <th>4</th>\n",
       "      <td>Max Scherzer</td>\n",
       "      <td>Starting Pitcher</td>\n",
       "      <td>30.262705</td>\n",
       "    </tr>\n",
       "  </tbody>\n",
       "</table>\n",
       "</div>"
      ],
      "text/plain": [
       "         Player_Name          Position     Salary\n",
       "0  Stephen Strasburg  Starting Pitcher  35.000000\n",
       "1       Zack Greinke  Starting Pitcher  31.500000\n",
       "2    Clayton Kershaw  Starting Pitcher  31.000000\n",
       "3        David Price  Starting Pitcher  31.000000\n",
       "4       Max Scherzer  Starting Pitcher  30.262705"
      ]
     },
     "execution_count": 46,
     "metadata": {},
     "output_type": "execute_result"
    }
   ],
   "source": [
    "# Answer:\n",
    "mlb_salary['Salary'] = mlb_salary['Salary']/1_000_000\n",
    "mlb_salary.head()"
   ]
  },
  {
   "cell_type": "markdown",
   "metadata": {},
   "source": [
    "### Calculate and visualize correlation"
   ]
  },
  {
   "cell_type": "markdown",
   "metadata": {},
   "source": [
    "**Q22.** What is the best way to visualize whether two variables are correlated?"
   ]
  },
  {
   "cell_type": "markdown",
   "metadata": {},
   "source": [
    "> **Answer:**  \n",
    "A heatmap is a good way to visualize the correlation between variables."
   ]
  },
  {
   "cell_type": "markdown",
   "metadata": {},
   "source": [
    "## 2.04 Distributions - Continuous"
   ]
  },
  {
   "cell_type": "markdown",
   "metadata": {},
   "source": [
    "**Q23.** Give examples of the following distributions: Continuous Uniform, Exponential, Normal."
   ]
  },
  {
   "cell_type": "markdown",
   "metadata": {},
   "source": [
    "> **Answer:**  \n",
    "**Continuous Uniform:** \"You arrive into a building and are about to take an elevator to the your floor. Once you call the elevator, it will take between 0 and 40 seconds to arrive to you. We will assume that the elevator arrives uniformly between 0 and 40 seconds after you press the button.\" [source](https://www.ucd.ie/t4cms/Uniform%20Distribution.pdf)  \n",
    "**Exponential:** The amount of time it will take until the bus arrives.  \n",
    "**Normal:** Height of all DSI students.  "
   ]
  },
  {
   "cell_type": "markdown",
   "metadata": {},
   "source": [
    "### Describe why the Normal distribution is seen everywhere."
   ]
  },
  {
   "cell_type": "markdown",
   "metadata": {},
   "source": [
    "**Q24.** Why is the normal distribution seen everywhere?"
   ]
  },
  {
   "cell_type": "markdown",
   "metadata": {
    "scrolled": true
   },
   "source": [
    "> **Answer:**  \n",
    "The normal distribution does a good job of describing many real world scenarios because the majority of the data falls around the mean. Typically in the real world, seeing extreme values are less common than seeing average values, so a lot of real world scenarios can be modeled using this distribution."
   ]
  },
  {
   "cell_type": "markdown",
   "metadata": {},
   "source": [
    "### State the Central Limit Theorem."
   ]
  },
  {
   "cell_type": "markdown",
   "metadata": {},
   "source": [
    "**Q25.** What is the Central Limit Theorem?"
   ]
  },
  {
   "cell_type": "markdown",
   "metadata": {},
   "source": [
    "> **Answer:**  \n",
    "The Central Limit Theorem states that as the size of a sample approaches infinity, the distribution of the sample means approaches a Normal distribution."
   ]
  },
  {
   "cell_type": "markdown",
   "metadata": {},
   "source": [
    "## 2.05 Central Limit Theorem and Confidence Intervals"
   ]
  },
  {
   "cell_type": "markdown",
   "metadata": {},
   "source": [
    "### Explain the relationships among parameter, sample, statistic, and population."
   ]
  },
  {
   "cell_type": "markdown",
   "metadata": {},
   "source": [
    "**Q26.** What is the relationship between parameter, sample, statistic, and population?"
   ]
  },
  {
   "cell_type": "markdown",
   "metadata": {},
   "source": [
    "> **Answer:**  \n",
    "The sample is a subset of the population. We use the sample to derive sample statistics, which can be used to estimate the parameters (true values) of the population."
   ]
  },
  {
   "cell_type": "markdown",
   "metadata": {},
   "source": [
    "### Define and describe sampling distribution."
   ]
  },
  {
   "cell_type": "markdown",
   "metadata": {},
   "source": [
    "**Q27.** What is the sampling distribution?"
   ]
  },
  {
   "cell_type": "markdown",
   "metadata": {},
   "source": [
    "> **Answer:**  \n",
    "The sampling distribution is the distribution of mean of all of the samples taken from a population."
   ]
  },
  {
   "cell_type": "markdown",
   "metadata": {},
   "source": [
    "### Generate and interpret a theoretical confidence interval."
   ]
  },
  {
   "cell_type": "markdown",
   "metadata": {},
   "source": [
    "**Q28.** Generate a 95% confidence interval given the following sample."
   ]
  },
  {
   "cell_type": "code",
   "execution_count": 51,
   "metadata": {},
   "outputs": [
    {
     "data": {
      "text/plain": [
       "(0.7835570004762552, 0.8864429995237447)"
      ]
     },
     "execution_count": 51,
     "metadata": {},
     "output_type": "execute_result"
    }
   ],
   "source": [
    "# Answer:\n",
    "# code from global lecture 2.05\n",
    "import numpy as np\n",
    "\n",
    "population = np.random.binomial(n = 1, p = 0.8, size = 1000)\n",
    "sample = np.random.choice(population, size=200, replace=False)\n",
    "\n",
    "def conf_int(the_sample):\n",
    "    sample_mean = the_sample.mean()\n",
    "    sample_std = the_sample.std()\n",
    "    n = len(the_sample)\n",
    "    margin = 1.96 * sample_std / np.sqrt(n)\n",
    "    \n",
    "    lower = sample_mean - margin\n",
    "    upper = sample_mean + margin\n",
    "    return (lower, upper)\n",
    "\n",
    "conf_int(sample)"
   ]
  },
  {
   "cell_type": "markdown",
   "metadata": {},
   "source": [
    "**Q29.** Interpret the confidence interval from question 28."
   ]
  },
  {
   "cell_type": "markdown",
   "metadata": {},
   "source": [
    "> **Answer:**  \n",
    "We are 95% confident that the true population mean is between 0.784 and 0.886."
   ]
  }
 ],
 "metadata": {
  "kernelspec": {
   "display_name": "Python 3",
   "language": "python",
   "name": "python3"
  },
  "language_info": {
   "codemirror_mode": {
    "name": "ipython",
    "version": 3
   },
   "file_extension": ".py",
   "mimetype": "text/x-python",
   "name": "python",
   "nbconvert_exporter": "python",
   "pygments_lexer": "ipython3",
   "version": "3.7.4"
  }
 },
 "nbformat": 4,
 "nbformat_minor": 2
}
