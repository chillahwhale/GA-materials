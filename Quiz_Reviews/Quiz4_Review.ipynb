{
 "cells": [
  {
   "cell_type": "markdown",
   "metadata": {},
   "source": [
    "<img src=\"http://imgur.com/1ZcRyrc.png\" style=\"float: left; margin: 15px; height: 80px\">\n",
    "\n",
    "# Quiz 4 Review\n",
    "\n",
    " _**Author:** Boom D. (DSI-NYC), edited by Noelle B. (DSI-DEN)_\n",
    "\n",
    "---"
   ]
  },
  {
   "cell_type": "markdown",
   "metadata": {},
   "source": [
    "## Tree-Based Classification Algorithms"
   ]
  },
  {
   "cell_type": "markdown",
   "metadata": {},
   "source": [
    "**Q1.** Briefly explain what a decision tree is."
   ]
  },
  {
   "cell_type": "markdown",
   "metadata": {},
   "source": [
    "> **ANSWER HERE**:"
   ]
  },
  {
   "cell_type": "markdown",
   "metadata": {},
   "source": [
    "**Q2.** Briefly describe what the Gini impurity is."
   ]
  },
  {
   "cell_type": "markdown",
   "metadata": {},
   "source": [
    "> **ANSWER HERE**:"
   ]
  },
  {
   "cell_type": "markdown",
   "metadata": {},
   "source": [
    "**Q3.** What would the Gini impurity be if all observations fell into the same class?"
   ]
  },
  {
   "cell_type": "markdown",
   "metadata": {},
   "source": [
    "> **ANSWER HERE**:"
   ]
  },
  {
   "cell_type": "markdown",
   "metadata": {},
   "source": [
    "**Q4.** TRUE/FALSE: The Gini impurity score of the following set is 0.25.  \n",
    "pets = ['dog', 'cat', 'dog', 'cat']"
   ]
  },
  {
   "cell_type": "markdown",
   "metadata": {},
   "source": [
    "> **ANSWER HERE**:"
   ]
  },
  {
   "cell_type": "markdown",
   "metadata": {},
   "source": [
    "**Q5.** Explain what we mean by _bootstrapping_."
   ]
  },
  {
   "cell_type": "markdown",
   "metadata": {},
   "source": [
    "> **ANSWER HERE**:"
   ]
  },
  {
   "cell_type": "markdown",
   "metadata": {},
   "source": [
    "**Q6.** Briefly describe the role of bootstrapping in algorithms like Bagging, Random Forests, and Boosting (i.e. what issue does it try to address?)"
   ]
  },
  {
   "cell_type": "markdown",
   "metadata": {},
   "source": [
    "> **ANSWER HERE**:"
   ]
  },
  {
   "cell_type": "markdown",
   "metadata": {},
   "source": [
    "**Q7.** What is the advantage of ensembling methods vs. non-ensembling methods?"
   ]
  },
  {
   "cell_type": "markdown",
   "metadata": {},
   "source": [
    "> **ANSWER HERE**:"
   ]
  },
  {
   "cell_type": "markdown",
   "metadata": {},
   "source": [
    "**Q8.** Using `numpy`, write a single line of code to generate a bootstrapped sample of size 100."
   ]
  },
  {
   "cell_type": "code",
   "execution_count": 1,
   "metadata": {},
   "outputs": [],
   "source": [
    "import numpy as np\n",
    "list_data = [1, 4, 7, 3, 2, 8, 2, 5, 8, 1]\n",
    "np.random.seed(42)\n",
    "\n",
    "# Your code below\n"
   ]
  },
  {
   "cell_type": "markdown",
   "metadata": {},
   "source": [
    "**Q9.** Briefly explain how the **Random Forest Classifier** works."
   ]
  },
  {
   "cell_type": "markdown",
   "metadata": {},
   "source": [
    "> **ANSWER HERE**:"
   ]
  },
  {
   "cell_type": "markdown",
   "metadata": {},
   "source": [
    "**Q10.** If I build a CART classification tree for a set of data and see that my Train Accuracy = 0.99 but Test Accuracy = 0.75, what kind(s) of \"enhanced\" decision tree classifiers can I apply to improve this situation?"
   ]
  },
  {
   "cell_type": "markdown",
   "metadata": {},
   "source": [
    "> **ANSWER HERE**:"
   ]
  },
  {
   "cell_type": "markdown",
   "metadata": {},
   "source": [
    "**Q11.** Now suppose I built a CART classification tree where Train Accuracy = 0.182 but Test Accuracy = 0.181, what kind(s) of \"enhanced\" decision tree classifiers can I apply to improve this situation?"
   ]
  },
  {
   "cell_type": "markdown",
   "metadata": {},
   "source": [
    "> **ANSWER HERE**:"
   ]
  },
  {
   "cell_type": "markdown",
   "metadata": {},
   "source": [
    "## Support Vector Machines (SVM)"
   ]
  },
  {
   "cell_type": "markdown",
   "metadata": {},
   "source": [
    "**Q12.** Briefly describe Support Vector Machines."
   ]
  },
  {
   "cell_type": "markdown",
   "metadata": {},
   "source": [
    "> **ANSWER HERE**:"
   ]
  },
  {
   "cell_type": "markdown",
   "metadata": {},
   "source": [
    "**Q13.** Describe the purpose of the kernel in the SVM algorithm."
   ]
  },
  {
   "cell_type": "markdown",
   "metadata": {},
   "source": [
    "> **ANSWER HERE**:"
   ]
  },
  {
   "cell_type": "markdown",
   "metadata": {},
   "source": [
    "## Generalized Linear Models (GLM)"
   ]
  },
  {
   "cell_type": "markdown",
   "metadata": {},
   "source": [
    "**Q14.** What kind of GLM would be most appropriate if I wanted to build a model to predict the number of customers who will walk into the Liquiteria store on 51st St and Lexington Ave in a given hour given a bunch of features on customer preferences and behavior?\n",
    "\n",
    "(A) Logistic Regression <br>\n",
    "(B) Poisson Regression <br>\n",
    "(C) Gamma Regression <br>"
   ]
  },
  {
   "cell_type": "markdown",
   "metadata": {},
   "source": [
    "> **ANSWER HERE**:"
   ]
  },
  {
   "cell_type": "markdown",
   "metadata": {},
   "source": [
    "**Q15.** What kind of GLM would be most appropriate if I wanted to build a model to predict the time until Trump posts another controversial tweet given a bunch of features?\n",
    "\n",
    "(A) Logistic Regression <br>\n",
    "(B) Poisson Regression <br>\n",
    "(C) Gamma Regression <br>"
   ]
  },
  {
   "cell_type": "markdown",
   "metadata": {},
   "source": [
    "> **ANSWER HERE**:"
   ]
  },
  {
   "cell_type": "markdown",
   "metadata": {},
   "source": [
    "**Q16.** What kind of GLM would be most appropriate if I wanted to build a model to predict the probability that a customer unsubscribes from a magazine given a bunch of features on customer characteristics?\n",
    "\n",
    "(A) Logistic Regression <br>\n",
    "(B) Poisson Regression <br>\n",
    "(C) Gamma Regression <br>"
   ]
  },
  {
   "cell_type": "markdown",
   "metadata": {},
   "source": [
    "> **ANSWER HERE**:"
   ]
  },
  {
   "cell_type": "markdown",
   "metadata": {},
   "source": [
    "## Gradient Descent"
   ]
  },
  {
   "cell_type": "markdown",
   "metadata": {},
   "source": [
    "**Q17.** Gradient descent is given by the following formula :  \n",
    "\n",
    "$\\hat{\\beta}_{1, i+1} := \\hat{\\beta}_{1, i} - \\alpha[\\frac{\\partial L}{\\partial \\beta_1}]$\n",
    "\n",
    "In the formula, what does $\\alpha$ represent?"
   ]
  },
  {
   "cell_type": "markdown",
   "metadata": {},
   "source": [
    "> **ANSWER HERE**:"
   ]
  },
  {
   "cell_type": "markdown",
   "metadata": {},
   "source": [
    "**Q18.** I fit a model. When “fitting” the model, the computer uses gradient descent to\n",
    "estimate the parameters of the model. After fitting the model, Python returns a `ConvergenceWarning`. Discuss possible reasons why this happened and how we can remedy this situation."
   ]
  },
  {
   "cell_type": "markdown",
   "metadata": {},
   "source": [
    "> **ANSWER HERE**:"
   ]
  },
  {
   "cell_type": "markdown",
   "metadata": {},
   "source": [
    "## SQL"
   ]
  },
  {
   "cell_type": "markdown",
   "metadata": {},
   "source": [
    "For questions #19 - 21, use the following `bball` table:  \n",
    "\n",
    "|name|position|points|height|\n",
    "|---|---|---|---|\n",
    "|Trent|Point Guard|12|6'3\"|\n",
    "|Allan|Forward|23|6'|\n",
    "|Bryan|Center|9|6'8\"|\n",
    "|Bill|Point Guard|20|6'7\"|\n",
    "\n",
    "**Q19.** Write a SQL query to return the name and height of players that scored at least 20 points."
   ]
  },
  {
   "cell_type": "markdown",
   "metadata": {},
   "source": [
    "> **ANSWER HERE**"
   ]
  },
  {
   "cell_type": "markdown",
   "metadata": {},
   "source": [
    "**Q20.** Write a SQL query to return all of the player names that begin with `B`."
   ]
  },
  {
   "cell_type": "markdown",
   "metadata": {},
   "source": [
    "> **ANSWER HERE**"
   ]
  },
  {
   "cell_type": "markdown",
   "metadata": {},
   "source": [
    "**Q21.** Write a SQL query to return the average points by position type."
   ]
  },
  {
   "cell_type": "markdown",
   "metadata": {},
   "source": [
    "> **ANSWER HERE**"
   ]
  },
  {
   "cell_type": "code",
   "execution_count": null,
   "metadata": {},
   "outputs": [],
   "source": []
  }
 ],
 "metadata": {
  "kernelspec": {
   "display_name": "Python 3",
   "language": "python",
   "name": "python3"
  },
  "language_info": {
   "codemirror_mode": {
    "name": "ipython",
    "version": 3
   },
   "file_extension": ".py",
   "mimetype": "text/x-python",
   "name": "python",
   "nbconvert_exporter": "python",
   "pygments_lexer": "ipython3",
   "version": "3.7.4"
  },
  "toc": {
   "base_numbering": 1,
   "nav_menu": {},
   "number_sections": false,
   "sideBar": true,
   "skip_h1_title": false,
   "title_cell": "Table of Contents",
   "title_sidebar": "Contents",
   "toc_cell": false,
   "toc_position": {},
   "toc_section_display": true,
   "toc_window_display": false
  }
 },
 "nbformat": 4,
 "nbformat_minor": 2
}
