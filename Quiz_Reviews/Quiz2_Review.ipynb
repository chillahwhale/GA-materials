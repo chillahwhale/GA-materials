{
 "cells": [
  {
   "cell_type": "markdown",
   "metadata": {},
   "source": [
    "<img src=\"http://imgur.com/1ZcRyrc.png\" style=\"float: left; margin: 15px; height: 80px\">\n",
    "\n",
    "# Quiz 2 In-Class Review\n",
    "\n",
    " _**Author:** Boom D. (DSI-NYC), edited by Noelle B.( DSI-DEN)_\n",
    "\n",
    "---"
   ]
  },
  {
   "cell_type": "markdown",
   "metadata": {},
   "source": [
    "### Pandas"
   ]
  },
  {
   "cell_type": "markdown",
   "metadata": {},
   "source": [
    "Suppose I am working for a large e-commerce retailer and  given a `.csv` file with the following columns:\n",
    "    - item_id\n",
    "    - item_name\n",
    "    - item_weight\n",
    "    - color\n",
    "    - retail_price\n",
    "    - quantity_sold\n",
    "    - vendor_name\n",
    "    - vendor_id\n",
    "    - acquisition_price"
   ]
  },
  {
   "cell_type": "markdown",
   "metadata": {},
   "source": [
    "**Q1.** Write code to read in this file as a dataframe and call it `inventory`. Note: you do not actually have data to read in here. Write the code that would read in a file if you had it. (This will be the case for questions 1-4)"
   ]
  },
  {
   "cell_type": "code",
   "execution_count": null,
   "metadata": {},
   "outputs": [],
   "source": []
  },
  {
   "cell_type": "markdown",
   "metadata": {},
   "source": [
    "**Q2.** Using `inventory`, write code to produce a dataframe of items whose `vendor_name` is \"Nintendo\", ordered by the retail price of the item from highest to lowest."
   ]
  },
  {
   "cell_type": "code",
   "execution_count": null,
   "metadata": {},
   "outputs": [],
   "source": []
  },
  {
   "cell_type": "markdown",
   "metadata": {},
   "source": [
    "**Q3.**  Suppose I wanted to engineer a new feature that captures the interaction between both the retail price and the quantity sold.\n",
    "\n",
    "Write code that generates this new feature and includes it in the `inventory` dataframe. <br>"
   ]
  },
  {
   "cell_type": "code",
   "execution_count": null,
   "metadata": {},
   "outputs": [],
   "source": []
  },
  {
   "cell_type": "markdown",
   "metadata": {},
   "source": [
    "**Q4.** `color` is a categorical variable. In order to perform analysis on this data, what would you recommend we do to `color` in order to help our model understand it (i.e. how do we quantify it?)? Write the appropriate code that helps us do this and modify the values to `inventory`."
   ]
  },
  {
   "cell_type": "code",
   "execution_count": null,
   "metadata": {},
   "outputs": [],
   "source": []
  },
  {
   "cell_type": "markdown",
   "metadata": {},
   "source": [
    "### Visualizations"
   ]
  },
  {
   "cell_type": "markdown",
   "metadata": {},
   "source": [
    "We've gone through a number of visualizations together:\n",
    "\n",
    "    (A) Scatterplots\n",
    "    (B) Histograms\n",
    "    (C) Bar Charts\n",
    "    (D) Heatmaps"
   ]
  },
  {
   "cell_type": "markdown",
   "metadata": {},
   "source": [
    "**Q5.** If I wanted to look at the frequency distribution of GMAT scores for MBA students at the MIT Sloan School of Management, what would be the appropriate graph and why?"
   ]
  },
  {
   "cell_type": "code",
   "execution_count": null,
   "metadata": {},
   "outputs": [],
   "source": []
  },
  {
   "cell_type": "markdown",
   "metadata": {},
   "source": [
    "**Q6.** General Disassembly categorizes their workers into four types: administrators, managers, trainers, and supporters. For each class of workers, they have tallied the number of employees. What would be the appropriate graph to visualize this and why?"
   ]
  },
  {
   "cell_type": "code",
   "execution_count": null,
   "metadata": {},
   "outputs": [],
   "source": []
  },
  {
   "cell_type": "markdown",
   "metadata": {},
   "source": [
    "**Q7.** A ride sharing company categorizes their drivers into two types: full-time and part-time. For each class of drivers, they have calculated the average retention rate for the month of February 2019. What would be the appropriate grah to visualize this and why?"
   ]
  },
  {
   "cell_type": "code",
   "execution_count": null,
   "metadata": {},
   "outputs": [],
   "source": []
  },
  {
   "cell_type": "markdown",
   "metadata": {},
   "source": [
    "**Q8.** If I wanted to visualize the relationship between acquisition price and item weight for a product, what would be the appropriate graph and why?"
   ]
  },
  {
   "cell_type": "code",
   "execution_count": null,
   "metadata": {},
   "outputs": [],
   "source": []
  },
  {
   "cell_type": "markdown",
   "metadata": {},
   "source": [
    "### Linear Regression"
   ]
  },
  {
   "cell_type": "markdown",
   "metadata": {},
   "source": [
    "**Q9. (True/False)** One of the assumptions of multivariate linear regression states that there must be a linear relationship between each $X_j$ and $y$, as well as each pair of independent variables (e.g. $X_1$ and $X_2$, $X_1$ and $X_3$, $X_2$ and $X_3$, etc.)"
   ]
  },
  {
   "cell_type": "code",
   "execution_count": null,
   "metadata": {},
   "outputs": [],
   "source": []
  },
  {
   "cell_type": "markdown",
   "metadata": {},
   "source": [
    "**Q10. (True/False)** Each of the independent variables $X_j$ and $X_k$ should be (reasonably) independent for one another for $j \\ne k$"
   ]
  },
  {
   "cell_type": "code",
   "execution_count": null,
   "metadata": {},
   "outputs": [],
   "source": []
  },
  {
   "cell_type": "markdown",
   "metadata": {},
   "source": [
    "**Q11. (True/False)** The errors of the regression are homoskedastic.\n",
    "\n",
    "![](https://www.dummies.com/wp-content/uploads/415147.image1.jpg)"
   ]
  },
  {
   "cell_type": "code",
   "execution_count": null,
   "metadata": {},
   "outputs": [],
   "source": []
  },
  {
   "cell_type": "markdown",
   "metadata": {},
   "source": [
    "**Q12.** List each of the assumptions of Linear Regression:"
   ]
  },
  {
   "cell_type": "code",
   "execution_count": null,
   "metadata": {},
   "outputs": [],
   "source": []
  },
  {
   "cell_type": "markdown",
   "metadata": {},
   "source": [
    "### Interpretting Regression Output"
   ]
  },
  {
   "cell_type": "markdown",
   "metadata": {},
   "source": [
    "**Q13.** Which of the following is *NOT* an acceptable interpretation of R^2\n",
    "(A) The correlation coefficient between $X$ and $Y$ is 0.84 <br>\n",
    "(B) There is a 84% chance that $X$ and $Y$ are linearly related <br>\n",
    "(C) 84% of the variation in $Y$ is explained by $X$ (the feature included in our model) <br>\n",
    "(D) All of the above are correct interpretations <br>\n",
    "(E) None of the above are correct interpretations <br>"
   ]
  },
  {
   "cell_type": "markdown",
   "metadata": {},
   "source": [
    "**Q14.** In the context of regression results, what would be the appropriate null and alternative hypothesis for whether the $X$ has a statistically significant impact on $Y$?"
   ]
  },
  {
   "cell_type": "code",
   "execution_count": null,
   "metadata": {},
   "outputs": [],
   "source": []
  },
  {
   "cell_type": "markdown",
   "metadata": {},
   "source": [
    "**Q15.** Suppose the p-value of this hypothesis test is 0.058. If I am performing this test at the 5% significance level, what is my conclusion?"
   ]
  },
  {
   "cell_type": "code",
   "execution_count": null,
   "metadata": {},
   "outputs": [],
   "source": []
  },
  {
   "cell_type": "markdown",
   "metadata": {},
   "source": [
    "**Q16.**: Suppose the RMSE of my training set is 4695.43 and the RMSE of my testing set is 9485.48."
   ]
  },
  {
   "cell_type": "markdown",
   "metadata": {},
   "source": [
    "(a) Is my model likely to be **overfit**, **underfit**, or is it **ambiguous**?"
   ]
  },
  {
   "cell_type": "code",
   "execution_count": null,
   "metadata": {},
   "outputs": [],
   "source": []
  },
  {
   "cell_type": "markdown",
   "metadata": {},
   "source": [
    "(b) Discuss some methods we could potentially use to improve our model with regards to this issue."
   ]
  },
  {
   "cell_type": "code",
   "execution_count": null,
   "metadata": {},
   "outputs": [],
   "source": []
  }
 ],
 "metadata": {
  "kernelspec": {
   "display_name": "Python 3",
   "language": "python",
   "name": "python3"
  },
  "language_info": {
   "codemirror_mode": {
    "name": "ipython",
    "version": 3
   },
   "file_extension": ".py",
   "mimetype": "text/x-python",
   "name": "python",
   "nbconvert_exporter": "python",
   "pygments_lexer": "ipython3",
   "version": "3.7.4"
  }
 },
 "nbformat": 4,
 "nbformat_minor": 2
}
