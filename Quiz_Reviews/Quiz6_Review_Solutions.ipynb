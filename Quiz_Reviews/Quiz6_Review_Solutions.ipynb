{
 "cells": [
  {
   "cell_type": "markdown",
   "metadata": {},
   "source": [
    "<img src=\"http://imgur.com/1ZcRyrc.png\" style=\"float: left; margin: 15px; height: 80px\">\n",
    "\n",
    "# Quiz 6 Review\n",
    "\n",
    "Quiz 6 will be like a “technical interview” quiz - expect about 20% to be on neural networks and everything else to be from the rest of the cohort. Please note: this is not an exhaustive list by any means, but it will serve as a starting point for interview prep as well as help you prepare you for quiz 6. The other way that you could prepare is by reviewing questions from previous quizzes and the bank of interview questions located [here](https://git.generalassemb.ly/DSI-US-10/outcomes-tech-interview-prep).\n",
    "\n",
    "---"
   ]
  },
  {
   "cell_type": "markdown",
   "metadata": {},
   "source": [
    "**Q1.** Explain what regularization is and why it is useful."
   ]
  },
  {
   "cell_type": "markdown",
   "metadata": {},
   "source": [
    "> **Answer:** Regularization is the process of adding a penalty to your model to add bias in order to prevent overfitting. It is useful in models that are overfit or in models that are very prone to overfitting such as neural networks."
   ]
  },
  {
   "cell_type": "markdown",
   "metadata": {},
   "source": [
    "**Q2.** What is the difference between supervised and unsupervised learning?"
   ]
  },
  {
   "cell_type": "markdown",
   "metadata": {},
   "source": [
    "> **Answer:** Supervised leaning is used when there is labeled data/a target variable (ex. regression, classification) and unsupervised learning is used to draw insights from data without a target (ex. clustering, PCA)"
   ]
  },
  {
   "cell_type": "markdown",
   "metadata": {},
   "source": [
    "**Q3.** What are the two types of supervised learning? How are they different from one another/how do you know what kind is appropriate for your dataset?"
   ]
  },
  {
   "cell_type": "markdown",
   "metadata": {},
   "source": [
    "> **Answer:** regression: used to predict a continuous target, classification: used to predict groups"
   ]
  },
  {
   "cell_type": "markdown",
   "metadata": {},
   "source": [
    "**Q4.** What is the bias/variance tradeoff?"
   ]
  },
  {
   "cell_type": "markdown",
   "metadata": {},
   "source": [
    "> **Answer:** Bias refers to an error from an estimator that is too general and does not learn relationships from a data set that would allow it to make better predictions.\n",
    "Variance refers to error from an estimator being too specific and learning relationships that are specific to the training set but will not generalize to new records well.\n",
    "In short, the bias-variance trade-off is a the trade-off between underfitting and overfitting. As you decrease variance, you tend to increase bias. As you decrease bias, you tend to increase variance.\n",
    "Your goal is to create models that minimize the overall error by careful model selection and tuning to ensure sure there is a balance between bias and variance: general enough to make good predictions on new data but specific enough to pick up as much signal as possible."
   ]
  },
  {
   "cell_type": "markdown",
   "metadata": {},
   "source": [
    "**Q5.** Write a function that accepts a string and returns the most common character from that string."
   ]
  },
  {
   "cell_type": "code",
   "execution_count": 96,
   "metadata": {},
   "outputs": [],
   "source": [
    "def most_common(string):\n",
    "    counter = {}\n",
    "    letters = []\n",
    "    for letter in string:\n",
    "        if letter not in letters:\n",
    "            letters.append(letter)\n",
    "            counter[letter] = 1\n",
    "        else:\n",
    "            counter[letter] += 1\n",
    "    for key, val in counter.items():\n",
    "        if val == max(counter.values()):\n",
    "            return key"
   ]
  },
  {
   "cell_type": "code",
   "execution_count": 97,
   "metadata": {},
   "outputs": [
    {
     "data": {
      "text/plain": [
       "'a'"
      ]
     },
     "execution_count": 97,
     "metadata": {},
     "output_type": "execute_result"
    }
   ],
   "source": [
    "most_common('banana')"
   ]
  },
  {
   "cell_type": "markdown",
   "metadata": {},
   "source": [
    "**Q6.** Write a function that accepts a string and reverses it."
   ]
  },
  {
   "cell_type": "code",
   "execution_count": 102,
   "metadata": {},
   "outputs": [],
   "source": [
    "def reverse(string):\n",
    "    return string[::-1] # start end step"
   ]
  },
  {
   "cell_type": "code",
   "execution_count": 103,
   "metadata": {},
   "outputs": [
    {
     "data": {
      "text/plain": [
       "'ananab'"
      ]
     },
     "execution_count": 103,
     "metadata": {},
     "output_type": "execute_result"
    }
   ],
   "source": [
    "reverse('banana')"
   ]
  },
  {
   "cell_type": "markdown",
   "metadata": {},
   "source": [
    "**Q7.** Write a function that accepts an integer and returns all factors of that integer."
   ]
  },
  {
   "cell_type": "code",
   "execution_count": 116,
   "metadata": {},
   "outputs": [],
   "source": [
    "def factors(integer):\n",
    "    factors_list = []\n",
    "    for i in range(1, integer+1):\n",
    "        for j in range(1, integer+1):\n",
    "            if i*j == integer:\n",
    "                factors_list.append(i)\n",
    "    return factors_list"
   ]
  },
  {
   "cell_type": "code",
   "execution_count": 117,
   "metadata": {},
   "outputs": [
    {
     "data": {
      "text/plain": [
       "[1, 2, 4, 8]"
      ]
     },
     "execution_count": 117,
     "metadata": {},
     "output_type": "execute_result"
    }
   ],
   "source": [
    "factors(8)"
   ]
  },
  {
   "cell_type": "code",
   "execution_count": 118,
   "metadata": {},
   "outputs": [
    {
     "data": {
      "text/plain": [
       "[1, 2, 4, 8, 16, 32]"
      ]
     },
     "execution_count": 118,
     "metadata": {},
     "output_type": "execute_result"
    }
   ],
   "source": [
    "factors(32)"
   ]
  },
  {
   "cell_type": "markdown",
   "metadata": {},
   "source": [
    "**Q8.** Given the following `instructors` table**\n",
    "\n",
    "| name | location | number_of_monitors |\n",
    "|------|----------|--------------------|\n",
    "| matt | baltimore|1|\n",
    "| tim | DC|4|\n",
    "| riley | ATX|2|\n",
    "| charlie | SEA|0|\n",
    "| wes |LA|4|\n",
    "| ... |...|...|\n",
    "\n",
    "Write a SQL query to get the location of instructors with at least 2 monitors (assume every entry in the table is from a unique market)"
   ]
  },
  {
   "cell_type": "code",
   "execution_count": 12,
   "metadata": {},
   "outputs": [
    {
     "data": {
      "text/plain": [
       "''"
      ]
     },
     "execution_count": 12,
     "metadata": {},
     "output_type": "execute_result"
    }
   ],
   "source": [
    "\"\"\"\n",
    "SELECT location\n",
    "FROM instructors\n",
    "WHERE number_of_monitors >= 2;\n",
    "\"\"\""
   ]
  },
  {
   "cell_type": "markdown",
   "metadata": {},
   "source": [
    "**Q9.** When should you scale your data? Why?"
   ]
  },
  {
   "cell_type": "markdown",
   "metadata": {},
   "source": [
    "> **Answer:** When your algorithm will weight each input, e.g. gradient descent used by many neural nets, or use distance metrics, e.g. kNN, model performance can often be improved by normalizing, standardizing, or otherwise scaling your data so that each feature is given relatively equal weight.  \n",
    "It is also important when features are measured in different units, e.g. feature A is measured in inches, feature B is measured in feet, and feature C is measured in dollars, that they are scaled in a way that they are weighted and/or represented equally.  \n",
    "In some cases, efficacy will not change but perceived feature importance may change, e.g. coefficients in a linear regression.  \n",
    "Scaling your data typically does not change performance or feature importance for tree-based models since the split points will simply shift to compensate for the scaled data."
   ]
  },
  {
   "cell_type": "markdown",
   "metadata": {},
   "source": [
    "**Q10.** How do you select \"k\" in the k-means clustering algorithm?"
   ]
  },
  {
   "cell_type": "markdown",
   "metadata": {},
   "source": [
    "> **Answer:** There is no \"ideal\" number of clusters since increasing the number of clusters always captures more information about the features (the limiting case is k=number of observations, i.e. each observation is a \"cluster\").  \n",
    "One method is to look at the scree plot. In short, it attempts to identify the point at which adding additional clusters only marginally increases the variance explained by the clusters. The elbow is the point at which we begin to see diminishing returns in explained variance when increasing k. The true answer is usually driven by the application, though. If a business has the ability to create 4 different offers, then they may want to create 4 customer clusters, regardless of the data."
   ]
  },
  {
   "cell_type": "markdown",
   "metadata": {},
   "source": [
    "**Q11.** What are Artificial Neural Networks?"
   ]
  },
  {
   "cell_type": "markdown",
   "metadata": {},
   "source": [
    "> **Answer:** neural networks are statistical models that can be used to understand complex relationships. For this reason, they do a great job on complicated data such as image or audio data. In general, they work by taking inputs, forming hidden layers to understand different relationships, and returning an output."
   ]
  },
  {
   "cell_type": "markdown",
   "metadata": {},
   "source": [
    "**Q12.** Which activation function is typically used in hidden layers? Why?"
   ]
  },
  {
   "cell_type": "markdown",
   "metadata": {},
   "source": [
    "> **Answer:** ReLU because it tends to perform the best. It improves upon the Sigmoid activation function by turning \"off\" the node (setting to 0) for values below 0, similar to how neurons in the brain remain inactive until they need to be fired."
   ]
  },
  {
   "cell_type": "markdown",
   "metadata": {},
   "source": [
    "**Q13.** What activation function would you use for the output layer of a neural network used for a regression problem?"
   ]
  },
  {
   "cell_type": "markdown",
   "metadata": {},
   "source": [
    "> **Answer:** Identity/linear activation function to predict values between -inf and +inf"
   ]
  },
  {
   "cell_type": "markdown",
   "metadata": {},
   "source": [
    "**Q14.** Name and briefly describe 3 regularization techniques to use with neural networks."
   ]
  },
  {
   "cell_type": "markdown",
   "metadata": {},
   "source": [
    ">**Answer:** l1 & l2: changes the loss function to add a penalty term  \n",
    "Dropout: randomly drop units (nodes) in our neural network during our training phase only. We assign a probability of each node disappearing. Then, we essentially perform a coinflip for every node to turn that node \"on\" or \"off.\"  \n",
    "Early stopping: stops the training process early. Instead of continuing training through every epoch, once the validation error begins to increase, our algorithm stops because it has (in theory) found the minimum for the validation loss."
   ]
  }
 ],
 "metadata": {
  "kernelspec": {
   "display_name": "Python 3",
   "language": "python",
   "name": "python3"
  },
  "language_info": {
   "codemirror_mode": {
    "name": "ipython",
    "version": 3
   },
   "file_extension": ".py",
   "mimetype": "text/x-python",
   "name": "python",
   "nbconvert_exporter": "python",
   "pygments_lexer": "ipython3",
   "version": "3.7.4"
  }
 },
 "nbformat": 4,
 "nbformat_minor": 2
}
