{
 "cells": [
  {
   "cell_type": "markdown",
   "metadata": {},
   "source": [
    "<img src=\"http://imgur.com/1ZcRyrc.png\" style=\"float: left; margin: 15px; height: 80px\">\n",
    "\n",
    "# Quiz 1 In-Class Review\n",
    "\n",
    " _**Author:** Boom D. (DSI-NYC), edited by Noelle B. (DSI-DEN)_\n",
    "\n",
    "---"
   ]
  },
  {
   "cell_type": "markdown",
   "metadata": {},
   "source": [
    "### Python Basics"
   ]
  },
  {
   "cell_type": "markdown",
   "metadata": {},
   "source": [
    "**Q1.** Without running the following block of code, predict what the output will be. If there is an error in the code or the code does not produce any output, explain what is causing that to happen.\n",
    "```python\n",
    "for n in range(0, 10, 2):\n",
    "    m = n**2 + 2*n + 1\n",
    "    m = 5\n",
    "print(m)```"
   ]
  },
  {
   "cell_type": "code",
   "execution_count": null,
   "metadata": {},
   "outputs": [],
   "source": []
  },
  {
   "cell_type": "markdown",
   "metadata": {},
   "source": [
    "**Q2.** Without running the following block of code, predict what the output will be. If there is an error in the code or the code does not produce any output, explain what is causing that to happen.\n",
    "```python\n",
    "for i in range(2,4):\n",
    "    for j in range(3):\n",
    "        print(i**j)```"
   ]
  },
  {
   "cell_type": "code",
   "execution_count": null,
   "metadata": {},
   "outputs": [],
   "source": []
  },
  {
   "cell_type": "markdown",
   "metadata": {},
   "source": [
    "**Q3.** Without running the following block of code, predict what the output will be. If there is an error in the code or the code does not produce any output, explain what is causing that to happen.\n",
    "```python\n",
    "x = 3\n",
    "while x >= 5:\n",
    "    x = x + 1\n",
    "    print(x)```"
   ]
  },
  {
   "cell_type": "code",
   "execution_count": null,
   "metadata": {},
   "outputs": [],
   "source": []
  },
  {
   "cell_type": "markdown",
   "metadata": {},
   "source": [
    "**Q4.** Without running the following block of code, identify the error(s) if there are any:\n",
    "```python\n",
    "num_list = [-1, 2, -3, 4, -5, 6, -7, 8, -9, 10]\n",
    "grand_sum = 0\n",
    "neg_sum = 0\n",
    "for k in num_list:\n",
    "grand_sum = grand_sum + k\n",
    "    if k < 0\n",
    "        neg_sum += k\n",
    "return(grand_sum,neg_sum)\n",
    "```"
   ]
  },
  {
   "cell_type": "code",
   "execution_count": null,
   "metadata": {},
   "outputs": [],
   "source": []
  },
  {
   "cell_type": "markdown",
   "metadata": {},
   "source": [
    "**Q5.** Construct a function `xs_counter` that takes in a single string and returns the number of times the letters \"x\" or \"s\" (including their capitalized versions) show up in the string. For example, `xs_count('Super excessive')` should return `4`. You can safely assume that the user will always input a string so no need to take care of cases when there would be an input error."
   ]
  },
  {
   "cell_type": "code",
   "execution_count": 8,
   "metadata": {},
   "outputs": [],
   "source": []
  },
  {
   "cell_type": "markdown",
   "metadata": {},
   "source": [
    "**Q6. (tougher)** Construct a function `case_alternater` that converts the first, third, fifth, ... letter to lower case, but every second, fourth, sixth, ... letter to upper case. For example `case_alternater('Yerrington')` would return `yErRiNgToN`. (Hint: Remember to think about what number Python starts counting from when it comes to indexing/positions!)"
   ]
  },
  {
   "cell_type": "code",
   "execution_count": null,
   "metadata": {},
   "outputs": [],
   "source": []
  },
  {
   "cell_type": "markdown",
   "metadata": {},
   "source": [
    "### Distributions\n",
    "**Q7.** Let $N$ be a random variable for the number of cells of bacteria in a petri dish after 24 hours. Is $N$ discrete or continuous?"
   ]
  },
  {
   "cell_type": "markdown",
   "metadata": {},
   "source": []
  },
  {
   "cell_type": "markdown",
   "metadata": {},
   "source": [
    "**Q8.** Let $T$ be a random variable for the amount of time until the next Q train arrives. Is $T$ discrete or continuous?"
   ]
  },
  {
   "cell_type": "markdown",
   "metadata": {},
   "source": []
  },
  {
   "cell_type": "markdown",
   "metadata": {},
   "source": [
    "**Q9.** Let $P$ be a random variable for the value rolled on a 120-sided die. Is $P$ discrete or continuous?"
   ]
  },
  {
   "cell_type": "markdown",
   "metadata": {},
   "source": []
  },
  {
   "cell_type": "markdown",
   "metadata": {},
   "source": [
    "**Q10.** Based on a historical sample of 730 days, the Shake Shack in Madison Square Park averages 125 visitors per day. Let $V$ be the number of visitors we are predicting to show up tomorrow. Which of the following is the most reasonable distribution to model $X$?\n",
    "\n",
    "(A) The Binomial Distribution <br>\n",
    "(B) The Continuous Uniform Distribution <br>\n",
    "(C) The Discrete Uniform Distribution <br>\n",
    "(D) The Exponential Distribution <br>\n",
    "(E) The Normal Distribution <br>\n",
    "(F) The Poisson Distribution <br>"
   ]
  },
  {
   "cell_type": "markdown",
   "metadata": {},
   "source": []
  },
  {
   "cell_type": "markdown",
   "metadata": {},
   "source": [
    "**Q11.** Boom is notorious for having zero athletic talent, but tries his luck at basketball anyway. His past records show that he manages to successfully land a shot 1% of the time. Laura challenges Boom to try shooting 10 times. Let $X$ be the number of shots Boom will successfully land in this game. Which of the following is the most reasonable distribution to model $X$?\n",
    "\n",
    "(A) The Binomial Distribution <br>\n",
    "(B) The Continuous Uniform Distribution <br>\n",
    "(C) The Discrete Uniform Distribution <br>\n",
    "(D) The Exponential Distribution <br>\n",
    "(E) The Normal Distribution <br>\n",
    "(F) The Poisson Distribution <br>"
   ]
  },
  {
   "cell_type": "markdown",
   "metadata": {},
   "source": []
  },
  {
   "cell_type": "markdown",
   "metadata": {},
   "source": [
    "### Comprehensions"
   ]
  },
  {
   "cell_type": "markdown",
   "metadata": {},
   "source": [
    "**Q12.** Suppose `num_list` is a list of integers. We want to get the remainders when each number in `num_list` is divided by 3. Write code that does this using list comprehension."
   ]
  },
  {
   "cell_type": "code",
   "execution_count": null,
   "metadata": {},
   "outputs": [],
   "source": []
  },
  {
   "cell_type": "markdown",
   "metadata": {},
   "source": [
    "**Q13.** Suppose we have a list: `['Noelle', 'Matt', 'Tim', 'Riley']`. <br> We want to create the following dictionary: `{0: 'Noelle', 1: 'Matt', 2: 'Tim', 3: 'Riley'}` where the keys are the index numbers of each element of the list and the values are the actual elements from the list. Write code that does this."
   ]
  },
  {
   "cell_type": "code",
   "execution_count": null,
   "metadata": {},
   "outputs": [],
   "source": []
  },
  {
   "cell_type": "markdown",
   "metadata": {},
   "source": [
    "### Probability"
   ]
  },
  {
   "cell_type": "markdown",
   "metadata": {},
   "source": [
    "**Q14.** Suppose I want to estimate the probability of the following event: if I roll 3 dice and add their values, I get a 3 or a 18. Write a script that estimates this probability by simulating this experiment 100,000 times."
   ]
  },
  {
   "cell_type": "code",
   "execution_count": null,
   "metadata": {},
   "outputs": [],
   "source": []
  },
  {
   "cell_type": "markdown",
   "metadata": {},
   "source": [
    "**Q15.** Suppose I want to estimate the probability of the following event: if I roll 2 dice and multiply their values, I get a number less than 5 or greater than 21. Write a script that estimates this probability by simulating this experiment 100,000 times."
   ]
  },
  {
   "cell_type": "code",
   "execution_count": null,
   "metadata": {},
   "outputs": [],
   "source": []
  }
 ],
 "metadata": {
  "kernelspec": {
   "display_name": "Python 3",
   "language": "python",
   "name": "python3"
  },
  "language_info": {
   "codemirror_mode": {
    "name": "ipython",
    "version": 3
   },
   "file_extension": ".py",
   "mimetype": "text/x-python",
   "name": "python",
   "nbconvert_exporter": "python",
   "pygments_lexer": "ipython3",
   "version": "3.7.4"
  }
 },
 "nbformat": 4,
 "nbformat_minor": 2
}
