{
 "cells": [
  {
   "cell_type": "markdown",
   "metadata": {},
   "source": [
    "<img src=\"http://imgur.com/1ZcRyrc.png\" style=\"float: left; margin: 15px; height: 80px\">\n",
    "\n",
    "# Quiz 2 In-Class Review\n",
    "\n",
    " _**Author:** Boom D. (DSI-NYC), edited by Noelle B. (DSI-DEN)_\n",
    "\n",
    "---"
   ]
  },
  {
   "cell_type": "markdown",
   "metadata": {},
   "source": [
    "### Pandas"
   ]
  },
  {
   "cell_type": "markdown",
   "metadata": {},
   "source": [
    "Suppose I am working for a large e-commerce retailer and  given a `.csv` file with the following columns:\n",
    "    - item_id\n",
    "    - item_name\n",
    "    - item_weight\n",
    "    - color\n",
    "    - retail_price\n",
    "    - quantity_sold\n",
    "    - vendor_name\n",
    "    - vendor_id\n",
    "    - acquisition_price"
   ]
  },
  {
   "cell_type": "markdown",
   "metadata": {},
   "source": [
    "**Q1.** Write code to read in this file as a dataframe and call it `inventory`. Note: you do not actually have data to read in here. Write the code that would read in a file if you had it. (This will be the case for questions 1-4)"
   ]
  },
  {
   "cell_type": "code",
   "execution_count": null,
   "metadata": {},
   "outputs": [],
   "source": [
    "inventory = pd.read_csv('./data/file.csv')"
   ]
  },
  {
   "cell_type": "markdown",
   "metadata": {},
   "source": [
    "**Q2.** Using `inventory`, write code to produce a dataframe of items whose `vendor_name` is \"Nintendo\", ordered by the retail price of the item from highest to lowest."
   ]
  },
  {
   "cell_type": "code",
   "execution_count": null,
   "metadata": {},
   "outputs": [],
   "source": [
    "mask_nintendo = inventory['vendor_name'] == 'Nintendo'\n",
    "inventory[mask_nintendo].sort_values(by = 'retail_price', ascending = False)"
   ]
  },
  {
   "cell_type": "markdown",
   "metadata": {},
   "source": [
    "**Q3.**  Suppose I wanted to engineer a new feature that captures the interaction between both the retail price and the quantity sold.\n",
    "\n",
    "Write code that generates this new feature and includes it in the `inventory` dataframe. <br>"
   ]
  },
  {
   "cell_type": "code",
   "execution_count": null,
   "metadata": {},
   "outputs": [],
   "source": [
    "inventory['retail_price * quantity_sold'] = inventory['retail_price'] * inventory['quantity_sold']"
   ]
  },
  {
   "cell_type": "markdown",
   "metadata": {},
   "source": [
    "**Q4.** `color` is a categorical variable. In order to perform analysis on this data, what would you recommend we do to `color` in order to help our model understand it (i.e. how do we quantify it?)? Write the appropriate code that helps us do this and modify the values to `inventory`."
   ]
  },
  {
   "cell_type": "markdown",
   "metadata": {},
   "source": [
    "> Change the categorical variable to numerical ones using dummies"
   ]
  },
  {
   "cell_type": "code",
   "execution_count": null,
   "metadata": {},
   "outputs": [],
   "source": [
    "inventory = pd.get_dummies(inventory, \n",
    "                           columns = ['color'], \n",
    "                           drop_first = True,\n",
    "                           prefix = 'c')"
   ]
  },
  {
   "cell_type": "markdown",
   "metadata": {},
   "source": [
    "### Visualizations"
   ]
  },
  {
   "cell_type": "markdown",
   "metadata": {},
   "source": [
    "We've gone through a number of visualizations together:\n",
    "\n",
    "    (A) Scatterplots\n",
    "    (B) Histograms\n",
    "    (C) Bar Charts\n",
    "    (D) Heatmaps"
   ]
  },
  {
   "cell_type": "markdown",
   "metadata": {},
   "source": [
    "**Q5.** If I wanted to look at the frequency distribution of GMAT scores for MBA students at the MIT Sloan School of Management, what would be the appropriate graph and why?"
   ]
  },
  {
   "cell_type": "markdown",
   "metadata": {},
   "source": [
    "> **Histogram** shows the frequency / distribution of one variable."
   ]
  },
  {
   "cell_type": "markdown",
   "metadata": {},
   "source": [
    "**Q6.** General Disassembly categorizes their workers into four types: administrators, managers, trainers, and supporters. For each class of workers, they have tallied the number of employees. What would be the appropriate graph to visualize this and why?"
   ]
  },
  {
   "cell_type": "markdown",
   "metadata": {},
   "source": [
    "> **Bar Chart** shows the frequency of multiple values in a categorical feature"
   ]
  },
  {
   "cell_type": "markdown",
   "metadata": {},
   "source": [
    "**Q7.** A ride sharing company categorizes their drivers into two types: full-time and part-time. For each class of drivers, they have calculated the average retention rate for the month of February 2019. What would be the appropriate graph to visualize this and why?"
   ]
  },
  {
   "cell_type": "markdown",
   "metadata": {},
   "source": [
    "> **Bar Chart** because the other ones don't make sense"
   ]
  },
  {
   "cell_type": "markdown",
   "metadata": {},
   "source": [
    "**Q8.** If I wanted to visualize the relationship between acquisition price and item weight for a product, what would be the appropriate graph and why?"
   ]
  },
  {
   "cell_type": "markdown",
   "metadata": {},
   "source": [
    "> **Scatterplot** shows the relationship between two features"
   ]
  },
  {
   "cell_type": "markdown",
   "metadata": {},
   "source": [
    "### Linear Regression"
   ]
  },
  {
   "cell_type": "markdown",
   "metadata": {},
   "source": [
    "**Q9. (True/False)** One of the assumptions of multivariate linear regression states that there must be a linear relationship between each $X_j$ and $y$, as well as each pair of independent variables (e.g. $X_1$ and $X_2$, $X_1$ and $X_3$, $X_2$ and $X_3$, etc.)"
   ]
  },
  {
   "cell_type": "markdown",
   "metadata": {},
   "source": [
    "> **False** because yes, each feature should have a linear relationship with the target, but no, they should be independent of each other."
   ]
  },
  {
   "cell_type": "markdown",
   "metadata": {},
   "source": [
    "**Q10. (True/False)** Each of the independent variables $X_j$ and $X_k$ should be (reasonably) independent for one another for $j \\ne k$"
   ]
  },
  {
   "cell_type": "markdown",
   "metadata": {},
   "source": [
    "> **True**"
   ]
  },
  {
   "cell_type": "markdown",
   "metadata": {},
   "source": [
    "**Q11. (True/False)** The errors of the regression are homoskedastic.\n",
    "\n",
    "![](https://www.dummies.com/wp-content/uploads/415147.image1.jpg)"
   ]
  },
  {
   "cell_type": "markdown",
   "metadata": {},
   "source": [
    "> **True**, because variance is equal."
   ]
  },
  {
   "cell_type": "markdown",
   "metadata": {},
   "source": [
    "**Q12.** List each of the assumptions of Linear Regression:\n",
    "\n",
    "(A) L - \"Linearity\"  \n",
    "Check scatter plots between each feature and your target.\n",
    "\n",
    "(B) I - \"Independence of errors\"  \n",
    "Plot residuals and check for no clear pattern.\n",
    "\n",
    "(C) N - \"Normality of errors\"  \n",
    "Plot distribution of residuals.\n",
    "\n",
    "(D) E - \"Equality of variance\"  \n",
    "Check for random pattern in residual plot.\n",
    "\n",
    "(E) I - \"Independence of features\"  \n",
    "Check correlation or heatmap between features.\n",
    "\n",
    "For more on this, check out this [resource](https://www.statisticshowto.datasciencecentral.com/assumptions-conditions-for-regression/)."
   ]
  },
  {
   "cell_type": "markdown",
   "metadata": {},
   "source": [
    "### Interpretting Regression Output"
   ]
  },
  {
   "cell_type": "markdown",
   "metadata": {},
   "source": [
    "**Q13.** Which of the following is *NOT* an acceptable interpretation of R^2  \n",
    "(A) The correlation coefficient between $X$ and $Y$ is 0.84 <br>\n",
    "(B) There is a 84% chance that $X$ and $Y$ are linearly related <br>\n",
    "(C) 84% of the variation in $Y$ is explained by $X$ (the feature included in our model) <br>\n",
    "(D) All of the above are correct interpretations <br>\n",
    "**(E) None of the above are correct interpretations** <br>"
   ]
  },
  {
   "cell_type": "markdown",
   "metadata": {},
   "source": [
    "> 84% of the variability in y is explained by our model."
   ]
  },
  {
   "cell_type": "markdown",
   "metadata": {},
   "source": [
    "**Q14.** In the context of regression results, what would be the appropriate null and alternative hypothesis for whether the $X$ has a statistically significant impact on $Y$?"
   ]
  },
  {
   "cell_type": "markdown",
   "metadata": {},
   "source": [
    "$H_0$: X does not have a statistically significant impact on Y  \n",
    "$H_A$: X does have a statistically significant impact on Y"
   ]
  },
  {
   "cell_type": "markdown",
   "metadata": {},
   "source": [
    "**Q15.** Suppose the p-value of this hypothesis test is 0.058. If I am performing this test at the 5% significance level, what is my conclusion?"
   ]
  },
  {
   "cell_type": "markdown",
   "metadata": {},
   "source": [
    "> Because the p-value is greater than our alpha, we fail to reject the null hypothesis. In other words, we cannot conclude that X has a statistically significant impact on Y. "
   ]
  },
  {
   "cell_type": "markdown",
   "metadata": {},
   "source": [
    "**Q16.**: Suppose the RMSE of my training set is 4695.43 and the RMSE of my testing set is 9485.48."
   ]
  },
  {
   "cell_type": "markdown",
   "metadata": {},
   "source": [
    "(a) Is my model likely to be **overfit**, **underfit**, or is it **ambiguous**?"
   ]
  },
  {
   "cell_type": "markdown",
   "metadata": {},
   "source": [
    "> The model is overfit because the training RMSE is significantly higher than the testing RMSE"
   ]
  },
  {
   "cell_type": "markdown",
   "metadata": {},
   "source": [
    "(b) Discuss some methods we could potentially use to improve our model with regards to this issue."
   ]
  },
  {
   "cell_type": "markdown",
   "metadata": {},
   "source": [
    "> Make model less complex, get more data, use another model entirely, regularization"
   ]
  }
 ],
 "metadata": {
  "kernelspec": {
   "display_name": "Python 3",
   "language": "python",
   "name": "python3"
  },
  "language_info": {
   "codemirror_mode": {
    "name": "ipython",
    "version": 3
   },
   "file_extension": ".py",
   "mimetype": "text/x-python",
   "name": "python",
   "nbconvert_exporter": "python",
   "pygments_lexer": "ipython3",
   "version": "3.7.4"
  }
 },
 "nbformat": 4,
 "nbformat_minor": 2
}
