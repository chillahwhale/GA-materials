{
 "cells": [
  {
   "cell_type": "markdown",
   "metadata": {},
   "source": [
    "<img src=\"http://imgur.com/1ZcRyrc.png\" style=\"float: left; margin: 15px; height: 80px\">\n",
    "\n",
    "# Quiz 5 Review\n",
    "\n",
    " _**Author:** Boom D. (DSI-NYC), edited by Noelle B. (DSI-DEN)_\n",
    "\n",
    "---"
   ]
  },
  {
   "cell_type": "markdown",
   "metadata": {},
   "source": [
    "## Clustering"
   ]
  },
  {
   "cell_type": "markdown",
   "metadata": {},
   "source": [
    "**Q1.** In $k$-means clustering, what do we mean by $k$ and \"means\"?"
   ]
  },
  {
   "cell_type": "markdown",
   "metadata": {},
   "source": [
    "> **Answer:** `k` is number of clusters to group data in; `means` refers to the centroids of each cluster.\n"
   ]
  },
  {
   "cell_type": "markdown",
   "metadata": {},
   "source": [
    "**Q2.** Briefly explain how the $k$-means clustering algorithm works."
   ]
  },
  {
   "cell_type": "markdown",
   "metadata": {},
   "source": [
    "> **Answer:** \n",
    "> 1. Randomly places k centroids\n",
    "> 2. Classify all observations by the closest centroid\n",
    "> 3. Recalculate a new centroid as the mean of each grouped observation\n",
    "> 4. Iterate steps 2 and 3 using the new centroids until convergence"
   ]
  },
  {
   "cell_type": "markdown",
   "metadata": {},
   "source": [
    "**Q3.** You're a data scientist and you have an intern who is helping you build a $k$-means clustering algorithm on hedge fund data as a possible way to categorize individual hedge funds by type: Event Driven, Global Macro, Market Neutral, etc. _(If you're interested in learning more about this, [check this out](http://depts.washington.edu/sce2003/Papers/284.pdf))_\n",
    "\n",
    "Suppose you have 100 hedge funds in your sample. Your intern proposes setting $k = 93$. Explain why that choice of $k$ is or isn't appropriate."
   ]
  },
  {
   "cell_type": "markdown",
   "metadata": {},
   "source": [
    "> **Answer:** Too many clusters given you only have 100 observations - most clusters would only have 1 data point => k is too close to n  \n",
    "> As k increases, bias goes down but variance goes up"
   ]
  },
  {
   "cell_type": "markdown",
   "metadata": {},
   "source": [
    "**Q4.** There are two general metrics for clustering algorithms: **inertia** and **Silhouette score**. The Silhouette score considers two kinds of distances. What are they? *(hint: think about the formula for calculating the silhouette score)*"
   ]
  },
  {
   "cell_type": "markdown",
   "metadata": {},
   "source": [
    "> **Answer:**  \n",
    "> separation : mean distance from other data points in other clusters  \n",
    "> cohesion : mean distance from other data points in the same cluster"
   ]
  },
  {
   "cell_type": "markdown",
   "metadata": {},
   "source": [
    "**Q5**. Briefly explain why it is necessary to scale data as a preprocessing step before any clustering algorithm."
   ]
  },
  {
   "cell_type": "markdown",
   "metadata": {},
   "source": [
    "> **Answer:** Since clustering uses the distance from other observations, features that have very different scales could throw off the algorithm."
   ]
  },
  {
   "cell_type": "markdown",
   "metadata": {},
   "source": [
    "**Q6.** Two hyperparameters of the DBSCAN algorithm are `epsilon` and `min_samples`. Briefly discuss their meanings and roles in the DBSCAN clustering algorithm."
   ]
  },
  {
   "cell_type": "markdown",
   "metadata": {},
   "source": [
    "> **Answer:**  \n",
    "> epsilon : the radius to look for other data points  \n",
    "> min_samples : the number of samples required to become a cluster"
   ]
  },
  {
   "cell_type": "markdown",
   "metadata": {},
   "source": [
    "## Principal Component Analysis"
   ]
  },
  {
   "cell_type": "markdown",
   "metadata": {},
   "source": [
    "**Q7.** Dimensionality Reduction methods can be categorized as **Feature Elimination** or **Feature Extraction**. Explain the difference between these two and provide one example of each."
   ]
  },
  {
   "cell_type": "markdown",
   "metadata": {},
   "source": [
    "> **Answer:**  \n",
    "> Feature elimination : dropping features (choosing manually, LASSO, etc.)  \n",
    "> Feature extraction : combining features to create \"new\" features (PCA)"
   ]
  },
  {
   "cell_type": "markdown",
   "metadata": {},
   "source": [
    "**Q8.** Briefly explain what the goal of the PCA algorithm is and how it works."
   ]
  },
  {
   "cell_type": "markdown",
   "metadata": {},
   "source": [
    "> **Answer:** Principal component analysis is one algorithm for doing feature extraction. It works by finding linear combinations of the features that explain the most variance in the data. these linear combinations can then be used for modeling with less dimensions."
   ]
  },
  {
   "cell_type": "markdown",
   "metadata": {},
   "source": [
    "## Missing Data"
   ]
  },
  {
   "cell_type": "markdown",
   "metadata": {},
   "source": [
    "**Q9.** Discuss one major issue when it comes to imputing missing data using any method that doesn't involve going out to re-collect data for missing values."
   ]
  },
  {
   "cell_type": "markdown",
   "metadata": {},
   "source": [
    "> **Answer:** Essentially, you are making up data."
   ]
  },
  {
   "cell_type": "markdown",
   "metadata": {},
   "source": [
    "**Q10.** Discuss why using the mean is not an appropriate way to impute missing data."
   ]
  },
  {
   "cell_type": "markdown",
   "metadata": {},
   "source": [
    "> **Answer:** Significantly distorts histogram, underestimates variance, invalid method."
   ]
  },
  {
   "cell_type": "markdown",
   "metadata": {},
   "source": [
    "## Recommender Systems"
   ]
  },
  {
   "cell_type": "markdown",
   "metadata": {},
   "source": [
    "**Q11.** You have a subscription for HBO Now. The site notices you liked watching Game of Thrones and searching through its list of available shows.\n",
    "\n",
    "Briefly explain one metric that could be used to determine how similar two movies are. "
   ]
  },
  {
   "cell_type": "markdown",
   "metadata": {},
   "source": [
    "> **Answer:** You can use cosine similarity to get a score of how similar two movies are based on user ratings.\n"
   ]
  },
  {
   "cell_type": "markdown",
   "metadata": {},
   "source": [
    "## Time Series"
   ]
  },
  {
   "cell_type": "markdown",
   "metadata": {},
   "source": [
    "**Q12.** What is time series data?"
   ]
  },
  {
   "cell_type": "markdown",
   "metadata": {},
   "source": [
    "> **Answer:** Time series data is data that is indexed over time. "
   ]
  },
  {
   "cell_type": "markdown",
   "metadata": {},
   "source": [
    "**Q13.** Suppose you are trying to forecast poultry prices in a developing country over time. The price of poultry follows long-term trends and is also susceptible to sudden, unexpected shocks due to pandemics and diseases. You run the Augmented Dickey-Fuller test on your data and get a p-value of 0.035. What does this tell you about your data?"
   ]
  },
  {
   "cell_type": "markdown",
   "metadata": {},
   "source": [
    "> **Answer:**  \n",
    "> A p=value of 0.035 tells you that the data is stationary and doesn't need to be differenced at an alpha of 0.05. However, if you are using an alpha of 0.01, you would need to difference your data, as the Dicky-Fuller test is not statistically significant at alpha=0.01."
   ]
  },
  {
   "cell_type": "markdown",
   "metadata": {},
   "source": [
    "**Q14.** As time goes on, why do you have to be increasingly cautious of using predictions from a time series model?"
   ]
  },
  {
   "cell_type": "markdown",
   "metadata": {},
   "source": [
    "> **Answer:** As time goes on, time series models are less accurate and begin predicting closer and closer to the mean."
   ]
  },
  {
   "cell_type": "markdown",
   "metadata": {},
   "source": [
    "## Bayesian Statistics"
   ]
  },
  {
   "cell_type": "markdown",
   "metadata": {},
   "source": [
    "**Q15.** Use Bayes' Theorem to find the probability that a woman has cancer if she has a positive mammogram result. You know:\n",
    "- One percent of women have breast cancer.\n",
    "- Ninety percent of women who have breast cancer test positive on mammograms.\n",
    "- Eight percent of women will have false positives."
   ]
  },
  {
   "cell_type": "markdown",
   "metadata": {},
   "source": [
    "> **Answer:**  \n",
    "> Reminder of Bayes theorem:     \n",
    "P(A|B) = P(B|A)P(A) / P(B)\n",
    "\n",
    "> For this problem:  \n",
    "P(Cancer|Pos) = P(Pos|Cancer)P(Cancer) / P(Pos)\n",
    "\n",
    "> List what we know:  \n",
    "P(Cancer) = 0.01  \n",
    "P(Pos|Cancer) = .9  \n",
    "P(Pos|not cancer) = 0.08  \n",
    "P(not cancer) = 1 - 0.01 = 0.99  \n",
    "\n",
    "> P(Cancer|Pos) = P(Pos|Cancer)P(Cancer) / P(Pos|Cancer)P(Cancer)+P(Pos|not cancer)P(not cancer)  \n",
    "= (0.9 * 0.01) / ((0.9 * 0.01) + (0.08 * 0.99))  \n",
    "= 0.009 / (0.009 + 0.0792)  \n",
    "= 0.009 / 0.0882  \n",
    "= 0.102\n",
    "\n",
    "> The probability of a woman having cancer, given a positive test result, is 10.2%."
   ]
  },
  {
   "cell_type": "markdown",
   "metadata": {},
   "source": [
    "**Q16.** The meme group at BuzzFeed specializes in providing assessments of the prospects of memes. The group rates a meme as either Dank, Meh, or Stank. Regardless of these ratings, memes can either go Viral or Non-Viral.\n",
    "\n",
    "The records of meme ratings made by this group were examined:\n",
    "- For all memes that went Viral, the assessment was Dank for 60% and Meh for 30%.\n",
    "- For all memes that were Non-Viral, the rating was Dank for 10% and Stank for 60%. \n",
    "\n",
    "It is a known fact that 70% of memes go viral.\n",
    "\n",
    "**(a)** For a randomly chosen meme, what is the probability that it gets rated Stank?"
   ]
  },
  {
   "cell_type": "markdown",
   "metadata": {},
   "source": [
    "> **Answer:**  \n",
    "What we know:  \n",
    "P(viral) = .7  \n",
    "P(non-viral) = 1 - .7 = .3   \n",
    "P(Stank|viral) = .1    \n",
    "P(Stank|non_viral) = .6   \n",
    "\n",
    "> P(Stank) = P(Stank|viral)P(viral) + P(Stank|non-viral)P(non_viral)  \n",
    "    = .1*.7 + .6*.3  \n",
    "    = .07 + .18 = 0.25\n",
    "    \n",
    "> For a randomly chosen meme, there is a 25% probability that it gets rated Stank."
   ]
  },
  {
   "cell_type": "markdown",
   "metadata": {},
   "source": [
    "**(b)** If propects for a meme are rated Stank, what is the probability that it will actually go Viral?"
   ]
  },
  {
   "cell_type": "markdown",
   "metadata": {},
   "source": [
    "> **Answer:**  \n",
    "\n",
    "> Reminder of Bayes theorem:     \n",
    "P(A|B) = P(B|A)P(A) / P(B)\n",
    "\n",
    "> For this problem:  \n",
    "P(Viral|Stank) = P(Stank|Viral)P(Viral) / P(Stank)\n",
    "\n",
    "> List what we know:  \n",
    "P(viral) = .7  \n",
    "P(Stank|viral) = .1    \n",
    "P(Stank) = 0.25  \n",
    "\n",
    "> P(Stank|Viral)P(Viral) / P(Stank)    \n",
    "= (0.1 * 0.7) / .25  \n",
    "= 0.07 / .25  \n",
    "= .28\n",
    "\n",
    "> For a Stank meme, the probability that it will go viral is 28%."
   ]
  },
  {
   "cell_type": "markdown",
   "metadata": {},
   "source": [
    "**Q17.** When we use the term \"prior distribution\", we are specifically referring to the distribution of what?"
   ]
  },
  {
   "cell_type": "markdown",
   "metadata": {},
   "source": [
    "> **Answer:**  \n",
    "> The distribution of our prior knowledge or background expertise"
   ]
  },
  {
   "cell_type": "markdown",
   "metadata": {},
   "source": [
    "**Q18.** What does MCMC stand for and what is it used for?"
   ]
  },
  {
   "cell_type": "markdown",
   "metadata": {},
   "source": [
    "> **Answer:**  \n",
    "> Monte Carlo Markov Chains, to calculate (simulate) the posterior distribution"
   ]
  }
 ],
 "metadata": {
  "kernelspec": {
   "display_name": "Python 3",
   "language": "python",
   "name": "python3"
  },
  "language_info": {
   "codemirror_mode": {
    "name": "ipython",
    "version": 3
   },
   "file_extension": ".py",
   "mimetype": "text/x-python",
   "name": "python",
   "nbconvert_exporter": "python",
   "pygments_lexer": "ipython3",
   "version": "3.7.4"
  },
  "toc": {
   "base_numbering": 1,
   "nav_menu": {},
   "number_sections": false,
   "sideBar": true,
   "skip_h1_title": false,
   "title_cell": "Table of Contents",
   "title_sidebar": "Contents",
   "toc_cell": false,
   "toc_position": {},
   "toc_section_display": true,
   "toc_window_display": false
  }
 },
 "nbformat": 4,
 "nbformat_minor": 2
}
