{
 "cells": [
  {
   "cell_type": "markdown",
   "metadata": {},
   "source": [
    "<img src=\"http://imgur.com/1ZcRyrc.png\" style=\"float: left; margin: 15px; height: 80px\">\n",
    "\n",
    "# Week 7 Review - Solutions\n",
    "\n",
    " _**Author:** Noelle B. (DSI-DEN)_\n",
    "\n",
    "---\n",
    "We will review the learning objectives of each lesson this week and answer questions related to them."
   ]
  },
  {
   "cell_type": "markdown",
   "metadata": {},
   "source": [
    "---\n",
    "## 7.01 SQL"
   ]
  },
  {
   "cell_type": "markdown",
   "metadata": {},
   "source": [
    "### Describe relational databases"
   ]
  },
  {
   "cell_type": "markdown",
   "metadata": {},
   "source": [
    "**Q1.** What is a relational database?"
   ]
  },
  {
   "cell_type": "markdown",
   "metadata": {},
   "source": [
    "> **Answer:**  \n",
    "A relational database is a collection of tables that relate with one another."
   ]
  },
  {
   "cell_type": "markdown",
   "metadata": {},
   "source": [
    "### Implement SQL commands"
   ]
  },
  {
   "cell_type": "markdown",
   "metadata": {},
   "source": [
    "**Q2.** Given the following `store_sales` table, write a SQL query that would get only the location and sales where sales is greater than $40,000.  \n",
    "\n",
    "| Store | Location | Sales |\n",
    "| --- | --- | --- |\n",
    "| 001 | Denver | 54892 |\n",
    "| 002 | Colorado Springs | 24870 |\n",
    "| 003 | Boulder | 68324 |\n",
    "| ... | ... | ... |"
   ]
  },
  {
   "cell_type": "markdown",
   "metadata": {},
   "source": [
    "> **Answer:**  \n",
    "```SQL\n",
    "SELECT Location, Sales\n",
    "FROM store_sales\n",
    "WHERE Sales > 40000;\n",
    "```"
   ]
  },
  {
   "cell_type": "markdown",
   "metadata": {},
   "source": [
    "**Q3.** Given the following `store_sales` table, write a SQL query that would get the sales from stores in Denver.  \n",
    "\n",
    "| Store | Location | Sales |\n",
    "| --- | --- | --- |\n",
    "| 001 | Denver | 54892 |\n",
    "| 002 | Colorado Springs | 24870 |\n",
    "| 003 | Boulder | 68324 |\n",
    "| ... | ... | ... |"
   ]
  },
  {
   "cell_type": "markdown",
   "metadata": {},
   "source": [
    "> **Answer:**  \n",
    "```SQL\n",
    "SELECT Sales\n",
    "FROM store_sales\n",
    "WHERE Location = 'Denver';\n",
    "```"
   ]
  },
  {
   "cell_type": "markdown",
   "metadata": {},
   "source": [
    "### Apply groupbys, joins, and aggregations to SQL tables"
   ]
  },
  {
   "cell_type": "markdown",
   "metadata": {},
   "source": [
    "**Q4.** Given the following `store_sales` table, write a SQL query that would get the average sales grouping by location.  \n",
    "\n",
    "| Store | Location | Sales |\n",
    "| --- | --- | --- |\n",
    "| 001 | Denver | 54892 |\n",
    "| 002 | Colorado Springs | 24870 |\n",
    "| 003 | Boulder | 68324 |\n",
    "| ... | ... | ... |"
   ]
  },
  {
   "cell_type": "markdown",
   "metadata": {},
   "source": [
    "> **Answer:**  \n",
    "```SQL\n",
    "SELECT AVG(Sales), Location\n",
    "FROM store_sales\n",
    "GROUP BY Location;\n",
    "```"
   ]
  },
  {
   "cell_type": "markdown",
   "metadata": {},
   "source": [
    "---\n",
    "## 7.02 Intro to Scala"
   ]
  },
  {
   "cell_type": "markdown",
   "metadata": {},
   "source": [
    "**Q5.** What programming paradigm is Scala?"
   ]
  },
  {
   "cell_type": "markdown",
   "metadata": {},
   "source": [
    "> **Answer:**  \n",
    "Scala permits you to write in both functional and object oriented programming styles."
   ]
  },
  {
   "cell_type": "markdown",
   "metadata": {},
   "source": [
    "**Q6.** What is the difference between `var` and `val` in Scala?"
   ]
  },
  {
   "cell_type": "markdown",
   "metadata": {},
   "source": [
    "> **Answer:**  \n",
    "`var` is mutable, `val` is immutable"
   ]
  },
  {
   "cell_type": "markdown",
   "metadata": {},
   "source": [
    "**Q7.** Write a function in Scala that takes in two integers and returns the value of the integers multiplied together."
   ]
  },
  {
   "cell_type": "markdown",
   "metadata": {},
   "source": [
    "> **Answer:**  \n",
    "\n",
    "```scala\n",
    "def multiply(num1:Int, num2:Int): Int = {\n",
    "    return num1*num2\n",
    "}\n",
    "```"
   ]
  },
  {
   "cell_type": "markdown",
   "metadata": {},
   "source": [
    "**Q8.** Given the following array, filter the array to just show numbers divisible by 3.  \n",
    "`val myArr = Array(1, 2, 3, 4, 5, 6, 7, 8, 9, 10, 11, 12, 13, 14, 15)`"
   ]
  },
  {
   "cell_type": "markdown",
   "metadata": {},
   "source": [
    "> **Answer:**  \n",
    "\n",
    "```scala\n",
    "myArr.filter(i => i % 3 == 0)\n",
    "```"
   ]
  },
  {
   "cell_type": "markdown",
   "metadata": {},
   "source": [
    "---\n",
    "## 7.03 DataFrames in Spark"
   ]
  },
  {
   "cell_type": "markdown",
   "metadata": {},
   "source": [
    "**Q9.** What is Spark?"
   ]
  },
  {
   "cell_type": "markdown",
   "metadata": {},
   "source": [
    ">**Answer:**  \n",
    "Spark is a cluster computing framework designed for fast Hadoop computation. Pandas is to Python as Spark is to Scala (Spark can also be used in Python, check out PySpark resources [here](https://www.dezyre.com/apache-spark-tutorial/pyspark-tutorial), [here](https://www.datacamp.com/community/tutorials/apache-spark-tutorial-machine-learning), and [here](https://duckduckgo.com/?q=spark+vs+scala&atb=v209-1&ia=web))."
   ]
  },
  {
   "cell_type": "markdown",
   "metadata": {},
   "source": [
    "**Q10.** How would you display summary statistics of a DataFrame in Spark?"
   ]
  },
  {
   "cell_type": "markdown",
   "metadata": {},
   "source": [
    ">**Answer:** \n",
    "\n",
    "```scala\n",
    "display(df.describe())\n",
    "```"
   ]
  },
  {
   "cell_type": "markdown",
   "metadata": {},
   "source": [
    "**Q11.** How would you impute nulls of a DataFrame in Spark? "
   ]
  },
  {
   "cell_type": "markdown",
   "metadata": {},
   "source": [
    "> **Answer:**   \n",
    "\n",
    "```scala\n",
    "df = df.na.fill(999)\n",
    "```"
   ]
  },
  {
   "cell_type": "markdown",
   "metadata": {},
   "source": [
    "**Q12.** How would you rename a column in a Spark DataFrame?"
   ]
  },
  {
   "cell_type": "markdown",
   "metadata": {},
   "source": [
    ">**Answer:** \n",
    "\n",
    "```scala\n",
    "df = df.withColumnRenamed(\"oldName\", \"newName\")\n",
    "```"
   ]
  },
  {
   "cell_type": "markdown",
   "metadata": {},
   "source": [
    "---\n",
    "## 7.04 SparkML"
   ]
  },
  {
   "cell_type": "markdown",
   "metadata": {},
   "source": [
    "**Q13.** How would you import a random forest model to use for a regression problem in Scala using Spark?"
   ]
  },
  {
   "cell_type": "markdown",
   "metadata": {},
   "source": [
    "> **Answer:**  \n",
    "\n",
    "```scala\n",
    "import org.apache.spark.ml.regression.RandomForestRegressor\n",
    "```"
   ]
  },
  {
   "cell_type": "markdown",
   "metadata": {},
   "source": [
    "**Q14.** What is the code for train/test split in SparkML?"
   ]
  },
  {
   "cell_type": "markdown",
   "metadata": {},
   "source": [
    "> **Answer:**  \n",
    "\n",
    "```scala\n",
    "var Array(train, test) = df.randomSplit(Array(.8, .2), 42)\n",
    "```"
   ]
  },
  {
   "cell_type": "markdown",
   "metadata": {},
   "source": [
    "**Q15.** Set up, fit, and generate predictions from a Random Forest Regressor in SparkML."
   ]
  },
  {
   "cell_type": "markdown",
   "metadata": {},
   "source": [
    "> **Answer:**  \n",
    "\n",
    "```scala\n",
    "var rf = new RandomForestRegressor()\n",
    "var rfModel = rf.fit(train)\n",
    "var pred = rfModel.transform(test)\n",
    "```"
   ]
  },
  {
   "cell_type": "markdown",
   "metadata": {},
   "source": [
    "**Q16.** Score regression predictions `pred` using Mean Squared Error."
   ]
  },
  {
   "cell_type": "markdown",
   "metadata": {},
   "source": [
    ">**Answer:**  \n",
    "\n",
    "```scala\n",
    "var evaluator = new RegressionEvaluator()\n",
    "    .setMetricName(\"mse\")\n",
    "evaluator.evaluate(pred)\n",
    "```"
   ]
  }
 ],
 "metadata": {
  "kernelspec": {
   "display_name": "Python 3",
   "language": "python",
   "name": "python3"
  },
  "language_info": {
   "codemirror_mode": {
    "name": "ipython",
    "version": 3
   },
   "file_extension": ".py",
   "mimetype": "text/x-python",
   "name": "python",
   "nbconvert_exporter": "python",
   "pygments_lexer": "ipython3",
   "version": "3.7.4"
  }
 },
 "nbformat": 4,
 "nbformat_minor": 2
}
